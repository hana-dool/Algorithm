{
 "cells": [
  {
   "cell_type": "markdown",
   "id": "committed-sodium",
   "metadata": {},
   "source": [
    "# DFS 와 BFS"
   ]
  },
  {
   "cell_type": "markdown",
   "id": "engaging-satellite",
   "metadata": {},
   "source": [
    "- DFS 는 깊어져있는 값 부터 순회를 시작한다.\n",
    "- BFS 순차적으로 훑으면서(경로는 신경 안쓰고 '깊이'가 얕은것부터 순회한다.) 점검한다.\n",
    "- 여기서 알아두어야 할 것은 '두 방식 모두 모든 경우의 수를 훑는것' 에 불과하다는 사실이다.\n",
    "- 즉 두 방식이 만능은 아니고, 훑으면서 어떤것을 점검할지에 대해서도 함수를 짜야된다."
   ]
  },
  {
   "cell_type": "markdown",
   "id": "extended-helicopter",
   "metadata": {},
   "source": [
    "# 1260 그래프 경로"
   ]
  },
  {
   "cell_type": "markdown",
   "id": "hydraulic-special",
   "metadata": {},
   "source": [
    "- 그래프를 DFS / BFS 로 탐색한 가짓수를 나타내는 문제\n",
    "- 출처 : https://velog.io/@i-zro/%ED%8C%8C%EC%9D%B4%EC%8D%ACPython-%EC%BD%94%ED%85%8C-%EB%8C%80%EB%B9%84-DFSBFS-%EB%B0%B1%EC%A4%80-1260%EB%B2%88-DFS%EC%99%80-BFS"
   ]
  },
  {
   "cell_type": "markdown",
   "id": "nearby-brief",
   "metadata": {},
   "source": [
    "- 그래프 경로문제를 풀 때에는 Matrix 로 푸는것이 매우매우매우 좋다.\n",
    "- 아래처럼 Matrix 를 구성하자. \n",
    "- Visit list 의 길이가 N+1 인 이유는, 파이썬의 index 는 0 부터 세는탓에, 아래처럼 정의해주어야 제대로 인덱스와 정점의 위치가 호환되기 때문이다."
   ]
  },
  {
   "cell_type": "code",
   "execution_count": null,
   "id": "crazy-accuracy",
   "metadata": {},
   "outputs": [],
   "source": [
    "N,M,V=map(int,input().split())\n",
    "matrix=[[0]*(N+1) for i in range(N+1)]\n",
    "for i in range(M):\n",
    "    a,b = map(int,input().split())\n",
    "    matrix[a][b]=matrix[b][a]=1\n",
    "visit_list=[0]*(N+1)"
   ]
  },
  {
   "cell_type": "markdown",
   "id": "insured-negotiation",
   "metadata": {},
   "source": [
    "- DFS 는 아래처럼 방문한 위치를 1로 표시하면서 진행하면 된다."
   ]
  },
  {
   "cell_type": "code",
   "execution_count": null,
   "id": "following-finder",
   "metadata": {},
   "outputs": [],
   "source": [
    "def dfs(V):\n",
    "    # 여기에 IF 문이 없다.\n",
    "    # 어짜피 최단 DFS 만 찾으면 되기 때문이다.\n",
    "    print(V, end=' ')\n",
    "    for i in range(1,N+1):\n",
    "        if(visit_list[i]==0 and matrix[V][i]==1):\n",
    "            dfs(i)\n",
    "            visit_list[V]=1"
   ]
  },
  {
   "cell_type": "markdown",
   "id": "historical-phoenix",
   "metadata": {},
   "source": [
    "- BFS 는 구현할 때에 Function 이 재귀적으로 깊어지지 않도록 조절한다.\n",
    "- 왜냐하면, 위 DFS 처럼 Function 으로 짜게되면 한번 걸리는순간 한없이 깊어지기 때문이다.\n",
    "- 그러므로 아래처럼 queue 와 while 문으로 구성하는게 일반적이다."
   ]
  },
  {
   "cell_type": "code",
   "execution_count": null,
   "id": "advisory-invalid",
   "metadata": {},
   "outputs": [],
   "source": [
    "visit_list=[0]*(N+1)\n",
    "def bfs(V):\n",
    "    queue = [V] #들려야 할 정점 저장\n",
    "    visit_list[V] = 1 #방문한 점 1으로 표시\n",
    "    while queue:\n",
    "        V=queue.pop(0) # 첫번째 값(leftpop) 은날려보낸다. 그러면서 뒤 for 문을 통해 아래 가지들로 깊어진다.\n",
    "        print(V, end=' ')\n",
    "        for i in range(1, N+1):\n",
    "            if(visit_list[i]==0 and matrix[V][i]==1):\n",
    "                queue.append(i) # queue 에 BFS의 방식대로 얕은순 -> 깊은순으로 계속 쌓이는것! \n",
    "                visit_list[i]=1\n",
    "dfs(V)\n",
    "print()\n",
    "visit_list=[0]*(N+1)\n",
    "bfs(V)"
   ]
  },
  {
   "cell_type": "markdown",
   "id": "preceding-douglas",
   "metadata": {},
   "source": [
    "# "
   ]
  }
 ],
 "metadata": {
  "kernelspec": {
   "display_name": "Python 3",
   "language": "python",
   "name": "python3"
  },
  "language_info": {
   "codemirror_mode": {
    "name": "ipython",
    "version": 3
   },
   "file_extension": ".py",
   "mimetype": "text/x-python",
   "name": "python",
   "nbconvert_exporter": "python",
   "pygments_lexer": "ipython3",
   "version": "3.7.9"
  },
  "toc": {
   "base_numbering": 1,
   "nav_menu": {},
   "number_sections": true,
   "sideBar": true,
   "skip_h1_title": false,
   "title_cell": "Table of Contents",
   "title_sidebar": "Contents",
   "toc_cell": false,
   "toc_position": {
    "height": "calc(100% - 180px)",
    "left": "10px",
    "top": "150px",
    "width": "165px"
   },
   "toc_section_display": true,
   "toc_window_display": true
  }
 },
 "nbformat": 4,
 "nbformat_minor": 5
}

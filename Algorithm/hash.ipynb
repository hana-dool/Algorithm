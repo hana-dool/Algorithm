{
 "cells": [
  {
   "cell_type": "markdown",
   "id": "loved-pakistan",
   "metadata": {},
   "source": [
    "# 해쉬란?"
   ]
  },
  {
   "cell_type": "markdown",
   "id": "sustainable-working",
   "metadata": {},
   "source": [
    "- Direct Addressing table\n",
    "![title](img/1_1.png)  \n",
    "- 위 경우를 보자. direct address table 의 경우는 key - value 쌍의 데이터를 배열에 저장할깨에, key 값을 직접적으로 인덱스로 사용하는 방법이다. \n",
    "- 키 값이 100 인 데이터가 있으면, 배열의 인덱스를 100인 위치에 키 값을 저장하고 포인터로 데이터를 연결한다.\n",
    "- 삭제시에 데이터의 key 만 알고있으면 즉시 위치찾는것이 가능하므로 탐색/저장/삭제/갱신은 모두 O(1) 의 시간으로 처리가 된다.\n",
    "- 하지만 key 의 최대 크기만큼 배열이 할당되므로 크기가 매우 커지게 된다."
   ]
  },
  {
   "cell_type": "markdown",
   "id": "solved-index",
   "metadata": {},
   "source": [
    "- Hash Table\n",
    "![title](img/1_2.png)  \n",
    "- 해시 테이블은 key - value 쌍에 대해 key 값을 테이블에 저장할때에 앞에서와 달리 key 값을 함수로 이용해 계산을 수행한 후에, 그 결과값을 배열의 인덱스로 저잘하는 방식이다.\n",
    "- 이때에 key 값을 계산하는 함수를 해쉬 함수라 한다.\n",
    "- 해시 함수는 입력으로 key 를 받고 0~배열크기-1 값을 출력한다. \n",
    "- 인덱스로 사용되는 크기가 매우 적다.\n",
    "- 하지만 이 경우 충돌이 일어날 수 있다.\n",
    "    충돌이란 다른 k 값이 동일한 h(k) 를 가져 동일한 슬롯에 저장될 수 있다는것이다.\n",
    "\n"
   ]
  },
  {
   "cell_type": "markdown",
   "id": "graphic-charlotte",
   "metadata": {},
   "source": [
    "# 해시함수의 적용예시"
   ]
  },
  {
   "cell_type": "markdown",
   "id": "christian-hierarchy",
   "metadata": {},
   "source": [
    "![title](img/1_3.png)  \n"
   ]
  },
  {
   "cell_type": "markdown",
   "id": "prostate-kingdom",
   "metadata": {},
   "source": [
    "- 아래와 같이 해시(dict) 를 이용해 문제를 매우 쉽게 풀 수 있다."
   ]
  },
  {
   "cell_type": "code",
   "execution_count": null,
   "id": "greek-stone",
   "metadata": {},
   "outputs": [],
   "source": [
    "import sys\n",
    "read = sys.stdin.readline\n",
    "N = int(read())\n",
    "lst1 = list(map(int,read().split()))\n",
    "M = int(read())\n",
    "lst2 = list(map(int,read().split()))\n",
    "\n",
    "dic = {}\n",
    "for n in lst1:\n",
    "    if n in dic:\n",
    "        dic[n] += 1\n",
    "    else:\n",
    "        dic[n] = 1\n",
    "for v in lst2 :\n",
    "    if v in dic :\n",
    "        print(dic[v],end = ' ')\n",
    "    else :\n",
    "        print(0, end = ' ')"
   ]
  }
 ],
 "metadata": {
  "kernelspec": {
   "display_name": "Python 3",
   "language": "python",
   "name": "python3"
  },
  "language_info": {
   "codemirror_mode": {
    "name": "ipython",
    "version": 3
   },
   "file_extension": ".py",
   "mimetype": "text/x-python",
   "name": "python",
   "nbconvert_exporter": "python",
   "pygments_lexer": "ipython3",
   "version": "3.7.9"
  },
  "toc": {
   "base_numbering": 1,
   "nav_menu": {},
   "number_sections": true,
   "sideBar": true,
   "skip_h1_title": false,
   "title_cell": "Table of Contents",
   "title_sidebar": "Contents",
   "toc_cell": false,
   "toc_position": {},
   "toc_section_display": true,
   "toc_window_display": false
  }
 },
 "nbformat": 4,
 "nbformat_minor": 5
}

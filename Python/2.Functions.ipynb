{
 "cells": [
  {
   "cell_type": "markdown",
   "id": "fresh-crazy",
   "metadata": {},
   "source": [
    "# function"
   ]
  },
  {
   "cell_type": "markdown",
   "id": "spoken-ireland",
   "metadata": {},
   "source": [
    "## all"
   ]
  },
  {
   "cell_type": "markdown",
   "id": "august-tennis",
   "metadata": {},
   "source": [
    "- all(iterable) 함수는 인자로 받은 반복 가능한 자료형(iterable)의 모든 요소가 참(True)이면 참(True)을 반환하는 함수\n",
    "- 즉 리스트, 튜플, 집합, 딕셔너리, 문자열에 대해서 all 을 쓸 수 있다."
   ]
  },
  {
   "cell_type": "code",
   "execution_count": 6,
   "id": "skilled-judges",
   "metadata": {},
   "outputs": [
    {
     "data": {
      "text/plain": [
       "True"
      ]
     },
     "execution_count": 6,
     "metadata": {},
     "output_type": "execute_result"
    }
   ],
   "source": [
    "a = [1,2,3,4,5]\n",
    "all([a[x]>a[x-1] for x in range(1,3)])"
   ]
  },
  {
   "cell_type": "markdown",
   "id": "naval-museum",
   "metadata": {},
   "source": [
    "## any"
   ]
  },
  {
   "cell_type": "markdown",
   "id": "plain-organic",
   "metadata": {},
   "source": [
    "- any(iterable) 함수는 인자로 받은 반복가능한 자료형(iterable)중 단 하나라도 참(True)이 있으면 참(True)를 반환한다."
   ]
  },
  {
   "cell_type": "code",
   "execution_count": 7,
   "id": "african-courtesy",
   "metadata": {
    "scrolled": true
   },
   "outputs": [
    {
     "data": {
      "text/plain": [
       "True"
      ]
     },
     "execution_count": 7,
     "metadata": {},
     "output_type": "execute_result"
    }
   ],
   "source": [
    "a = [1,2,3,4,5]\n",
    "any([a[x] == 3 for x in range(1,3)])"
   ]
  },
  {
   "cell_type": "markdown",
   "id": "exposed-ambassador",
   "metadata": {},
   "source": [
    "## copy / deepcopy"
   ]
  },
  {
   "cell_type": "markdown",
   "id": "israeli-seventh",
   "metadata": {},
   "source": [
    "- copy 의 경우, 새로운 id 를 부여하게 되며, 그 요소들을 바꾼다 해도 복사된 변수에는 영향이 없다."
   ]
  },
  {
   "cell_type": "code",
   "execution_count": 58,
   "id": "imperial-direction",
   "metadata": {
    "scrolled": true
   },
   "outputs": [
    {
     "name": "stdout",
     "output_type": "stream",
     "text": [
      "1907314651656\n",
      "1907314652104\n",
      "[1, 2, 3]\n"
     ]
    }
   ],
   "source": [
    "a = [1,2,3]\n",
    "b = a.copy() # a[:] 도 가능하다.\n",
    "print(id(a)) ; print(id(b))\n",
    "a[1] = 'gogo' ; print(b) # a를 바꾸더라도 영향이 없음"
   ]
  },
  {
   "cell_type": "markdown",
   "id": "severe-tanzania",
   "metadata": {},
   "source": [
    "- 하지만 리스트 안의 리스트처럼 , mutable 객체 안에 mutable 이 들어있을때에 문제가 된다\n",
    "- 아래 처럼 id(a[0])과 id(b[0])은 같은 주소를 바라보고 있습니다."
   ]
  },
  {
   "cell_type": "code",
   "execution_count": 68,
   "id": "liquid-combine",
   "metadata": {
    "scrolled": true
   },
   "outputs": [
    {
     "name": "stdout",
     "output_type": "stream",
     "text": [
      "1907314604168\n",
      "1907318369224\n",
      "1907322478280\n",
      "1907322478280\n",
      "[['gogo', 2], [3, 4]]\n"
     ]
    }
   ],
   "source": [
    "a = [[1,2], [3,4]]\n",
    "b = a[:]\n",
    "print(id(a)) ; print(id(b))\n",
    "print(id(a[0])) ; print(id(b[0])) # 안의 mutable 객체는 아예 같다. \n",
    "a[0][0] = 'gogo' ; print(b) # a를 바꾸었는데 b가 바뀌고 말았다. "
   ]
  },
  {
   "cell_type": "markdown",
   "id": "documented-pension",
   "metadata": {},
   "source": [
    "- 위와 같이 '내부의 객체들' 에 까지 모두 새롭게 copy 하기 위해서는 deepcopy 메서드를 써야 한다. "
   ]
  },
  {
   "cell_type": "code",
   "execution_count": 69,
   "id": "spectacular-negative",
   "metadata": {},
   "outputs": [
    {
     "name": "stdout",
     "output_type": "stream",
     "text": [
      "[[1, 2], [3, 4, 5]]\n",
      "[[1, 2], [3, 4]]\n"
     ]
    }
   ],
   "source": [
    "import copy\n",
    "a = [[1,2],[3,4]]\n",
    "b = copy.deepcopy(a)\n",
    "a[1].append(5)\n",
    "print(a) ; print(b)"
   ]
  },
  {
   "cell_type": "markdown",
   "id": "cultural-belly",
   "metadata": {},
   "source": [
    "## def + return"
   ]
  },
  {
   "cell_type": "markdown",
   "id": "electronic-carroll",
   "metadata": {},
   "source": [
    "- def 는 함수를 정의한다. 이때에 return 을 만나게 된다면 함수를 바로 빠져나와 호출한 쪽으로 되돌아간다.\n",
    "- 아래와 같이 return 을 만나면 구문이 여러개 있더라도 다시 되돌아간다. 즉 return 은 def 안에서 어떻게 보면 sys.exit 와 같이 종료구문이라 생각해도 무방하다."
   ]
  },
  {
   "cell_type": "code",
   "execution_count": 26,
   "id": "similar-fleet",
   "metadata": {},
   "outputs": [
    {
     "data": {
      "text/plain": [
       "7"
      ]
     },
     "execution_count": 26,
     "metadata": {},
     "output_type": "execute_result"
    }
   ],
   "source": [
    "def operation(a,b) :\n",
    "    return a+b\n",
    "    return a*b\n",
    "    return a-b\n",
    "\n",
    "operation(5,2)\n",
    "# 처음 만난 return a+b의 결과만 반환됨"
   ]
  },
  {
   "cell_type": "markdown",
   "id": "regulation-labor",
   "metadata": {},
   "source": [
    "## del"
   ]
  },
  {
   "cell_type": "markdown",
   "id": "joined-banana",
   "metadata": {},
   "source": [
    "- del 은 '객체를 지우는것' 이 아니라 변수와 객체의 연결을 끊어내는 것이다.\n",
    "- del 변수 로 사용할 수 있다. \n",
    "- 위 작업을 하면, 변수는 다시 사용하려 할 때에 정의된 적 없다는 에러가 뜨게 된다."
   ]
  },
  {
   "cell_type": "code",
   "execution_count": 12,
   "id": "postal-armenia",
   "metadata": {},
   "outputs": [],
   "source": [
    "x = [1,2,3]"
   ]
  },
  {
   "cell_type": "code",
   "execution_count": 13,
   "id": "basic-willow",
   "metadata": {
    "scrolled": false
   },
   "outputs": [
    {
     "data": {
      "text/plain": [
       "[1, 3]"
      ]
     },
     "execution_count": 13,
     "metadata": {},
     "output_type": "execute_result"
    }
   ],
   "source": [
    "del(x[1]) ; x"
   ]
  },
  {
   "cell_type": "markdown",
   "id": "higher-barcelona",
   "metadata": {},
   "source": [
    "## dir"
   ]
  },
  {
   "cell_type": "markdown",
   "id": "elder-consent",
   "metadata": {},
   "source": [
    "- dir은 객체가 자체적으로 가지고 있는 변수나 함수를 보여 준다.\n",
    "- 잘 알지 못하는 객체를 만났을 때에, 그 객체가 어떤 method 를 가지고 있는지 등을 알게 된다."
   ]
  },
  {
   "cell_type": "code",
   "execution_count": 37,
   "id": "native-collective",
   "metadata": {
    "scrolled": false
   },
   "outputs": [
    {
     "name": "stdout",
     "output_type": "stream",
     "text": [
      "['__add__', '__class__', '__contains__', '__delattr__', '__delitem__', '__dir__', '__doc__', '__eq__', '__format__', '__ge__', '__getattribute__', '__getitem__', '__gt__', '__hash__', '__iadd__', '__imul__', '__init__', '__init_subclass__', '__iter__', '__le__', '__len__', '__lt__', '__mul__', '__ne__', '__new__', '__reduce__', '__reduce_ex__', '__repr__', '__reversed__', '__rmul__', '__setattr__', '__setitem__', '__sizeof__', '__str__', '__subclasshook__', 'append', 'clear', 'copy', 'count', 'extend', 'index', 'insert', 'pop', 'remove', 'reverse', 'sort']\n"
     ]
    }
   ],
   "source": [
    "print(dir([1, 2, 3]))"
   ]
  },
  {
   "cell_type": "markdown",
   "id": "empty-publication",
   "metadata": {},
   "source": [
    "## Enumerate"
   ]
  },
  {
   "cell_type": "markdown",
   "id": "limited-latex",
   "metadata": {},
   "source": [
    "- zip(*iterable)은 동일한 개수로 이루어진 자료형을 묶어 주는 역할을 하는 함수이다.\n",
    "- 반복문 사용 시 몇 번째 반복문인지 확인이 필요할 수 있다.\n",
    "    - subplot 과 함께 사용해서, 각 위치에 i번째 plot을 그려주는 형식으로 쓸 수 있다.\n",
    "- 이때, 시작 index 가 0 부터임을 기억하자.\n"
   ]
  },
  {
   "cell_type": "code",
   "execution_count": 30,
   "id": "japanese-oliver",
   "metadata": {
    "scrolled": false
   },
   "outputs": [
    {
     "name": "stdout",
     "output_type": "stream",
     "text": [
      "0 딸기\n",
      "1 사과\n",
      "2 포토\n"
     ]
    }
   ],
   "source": [
    "for i, name in enumerate(['딸기','사과','포토']):\n",
    "    print(i, name)"
   ]
  },
  {
   "cell_type": "markdown",
   "id": "residential-parcel",
   "metadata": {},
   "source": [
    "## Filter"
   ]
  },
  {
   "cell_type": "markdown",
   "id": "crucial-boston",
   "metadata": {},
   "source": [
    "- filter함수는 특정 조건으로 걸러서 걸러진 요소들로 iterator객체를 만들어서 리턴해준다.\n",
    "- map함수와 사용 방법은 동일하다. 하지만 함수의 결과가 참인지 거짓인지에 따라, 해당 요소를 포함할지를 결정한다.\n",
    "- "
   ]
  },
  {
   "cell_type": "code",
   "execution_count": 7,
   "id": "administrative-relevance",
   "metadata": {
    "scrolled": true
   },
   "outputs": [
    {
     "name": "stdout",
     "output_type": "stream",
     "text": [
      "[2, 4, 6, 8, 10]\n"
     ]
    }
   ],
   "source": [
    "target = [1, 2, 3, 4, 5, 6, 7, 8, 9, 10]\n",
    "\n",
    "# 함수를 정의한다.\n",
    "def is_even(n):\n",
    "    return True if n % 2 == 0 else False\n",
    "\n",
    "# filter 를 통해서 map 과 같이 target 에 함수를 적용한다.\n",
    "# 이 때에 filter 에서 'TRUE'를 뽑아내는 경우에만 target 값에서 뽑아낸다.\n",
    "result = filter(is_even, target)\n",
    "\n",
    "# result 는 filter 객체이기 떄문에 list 로 변환시켜주어야 한다.\n",
    "print(list(result))"
   ]
  },
  {
   "cell_type": "markdown",
   "id": "banned-bottle",
   "metadata": {},
   "source": [
    "## in / not in "
   ]
  },
  {
   "cell_type": "markdown",
   "id": "maritime-friday",
   "metadata": {},
   "source": [
    "- x in 리스트\t/ x not in 리스트\n",
    "- x in 튜플\t/ x not in 튜플\n",
    "- x in 문자열 / x not in 문자열\n"
   ]
  },
  {
   "cell_type": "code",
   "execution_count": 15,
   "id": "integrated-short",
   "metadata": {
    "scrolled": false
   },
   "outputs": [
    {
     "data": {
      "text/plain": [
       "True"
      ]
     },
     "execution_count": 15,
     "metadata": {},
     "output_type": "execute_result"
    }
   ],
   "source": [
    "1 in [1, 2, 3] # 1 이 list 안에 있는가?"
   ]
  },
  {
   "cell_type": "markdown",
   "id": "recent-attachment",
   "metadata": {},
   "source": [
    "## len"
   ]
  },
  {
   "cell_type": "markdown",
   "id": "beginning-canadian",
   "metadata": {},
   "source": [
    "- len(s)은 입력값 s의 길이(요소의 전체 개수)를 돌려주는 함수이다.\n",
    "- .size 등의 메소드가 있지만 이는 각 packages 에서나 통용되는것이기 때문에 위같은 내장함수를 알아두는것이 편리히다."
   ]
  },
  {
   "cell_type": "code",
   "execution_count": 28,
   "id": "tight-standing",
   "metadata": {
    "scrolled": false
   },
   "outputs": [
    {
     "data": {
      "text/plain": [
       "2"
      ]
     },
     "execution_count": 28,
     "metadata": {},
     "output_type": "execute_result"
    }
   ],
   "source": [
    "lis = ['a','b']\n",
    "len(lis)"
   ]
  },
  {
   "cell_type": "markdown",
   "id": "recovered-converter",
   "metadata": {},
   "source": [
    "## Lambda"
   ]
  },
  {
   "cell_type": "markdown",
   "id": "organized-consortium",
   "metadata": {},
   "source": [
    "- Lamda 함수는 (lambda x,y: x + y)(10, 20) 처럼 함수 def 없이 바로 적용하게 해준다.\n",
    "- 아래와 같이 map 이나 filter 등에서 사용된다."
   ]
  },
  {
   "cell_type": "code",
   "execution_count": 9,
   "id": "photographic-attack",
   "metadata": {},
   "outputs": [],
   "source": [
    "# custom 과 아래 lambda는 같은 함수를 정의하고 있다.\n",
    "# lambda 다음에 붙어있는것은 변수(input) 이고, : 뒤의 값은 결과(output) 을 나타내게 된다.\n",
    "def custom(x,y):\n",
    "    return(x+y)"
   ]
  },
  {
   "cell_type": "code",
   "execution_count": 10,
   "id": "political-maryland",
   "metadata": {},
   "outputs": [
    {
     "data": {
      "text/plain": [
       "4"
      ]
     },
     "execution_count": 10,
     "metadata": {},
     "output_type": "execute_result"
    }
   ],
   "source": [
    "(lambda x,y : x+y)(1,3)"
   ]
  },
  {
   "cell_type": "code",
   "execution_count": 1,
   "id": "better-america",
   "metadata": {},
   "outputs": [
    {
     "data": {
      "text/plain": [
       "[0, 1, 4, 9, 16]"
      ]
     },
     "execution_count": 1,
     "metadata": {},
     "output_type": "execute_result"
    }
   ],
   "source": [
    "list(map(lambda x: x ** 2, range(5)))"
   ]
  },
  {
   "cell_type": "code",
   "execution_count": 2,
   "id": "behavioral-three",
   "metadata": {
    "scrolled": false
   },
   "outputs": [
    {
     "data": {
      "text/plain": [
       "[1, 3, 5, 7, 9]"
      ]
     },
     "execution_count": 2,
     "metadata": {},
     "output_type": "execute_result"
    }
   ],
   "source": [
    "list(filter(lambda x: x % 2, range(10)))"
   ]
  },
  {
   "cell_type": "markdown",
   "id": "general-calcium",
   "metadata": {},
   "source": [
    "## max/min"
   ]
  },
  {
   "cell_type": "markdown",
   "id": "mineral-switzerland",
   "metadata": {},
   "source": [
    "- max 도 마찬가지로 sum 과 같이 작동가능하다."
   ]
  },
  {
   "cell_type": "code",
   "execution_count": 10,
   "id": "eastern-gather",
   "metadata": {
    "scrolled": false
   },
   "outputs": [
    {
     "data": {
      "text/plain": [
       "3"
      ]
     },
     "execution_count": 10,
     "metadata": {},
     "output_type": "execute_result"
    }
   ],
   "source": [
    "max([1,2,3])"
   ]
  },
  {
   "cell_type": "markdown",
   "id": "organized-horizon",
   "metadata": {},
   "source": [
    "## map"
   ]
  },
  {
   "cell_type": "markdown",
   "id": "thousand-supervisor",
   "metadata": {},
   "source": [
    "- iterable객체를 받아서, 각 요소에 함수를 적용해주는 함수이다.\n",
    "- map은 원본 리스트를 변경하지 않고 새 리스트를 생성\n",
    "- 모든 element 들에 대해서 같은 적용을 하고 싶을때에 자주 사용한다.\n",
    "    - ex) str.map(lambda x : x.zfill(3))\n"
   ]
  },
  {
   "cell_type": "code",
   "execution_count": 11,
   "id": "sacred-master",
   "metadata": {},
   "outputs": [
    {
     "data": {
      "text/plain": [
       "[1, 2, 3, 4]"
      ]
     },
     "execution_count": 11,
     "metadata": {},
     "output_type": "execute_result"
    }
   ],
   "source": [
    "# 리스트의 모든 값을 정수로 변환하고 싶다고 하자.\n",
    "# MAP 함수를 모른다면 아래와 같이 for 문으로 일일히 int 함수를 적용시켜야 한다.\n",
    "lis = [1.2, 2.5, 3.7, 4.6]\n",
    "for i in range(len(lis)):\n",
    "    lis[i] = int(lis[i])\n",
    "lis"
   ]
  },
  {
   "cell_type": "code",
   "execution_count": 12,
   "id": "israeli-consensus",
   "metadata": {
    "scrolled": true
   },
   "outputs": [
    {
     "data": {
      "text/plain": [
       "[1, 2, 3, 4]"
      ]
     },
     "execution_count": 12,
     "metadata": {},
     "output_type": "execute_result"
    }
   ],
   "source": [
    "# 하지만 아래와 같이 적용 가능\n",
    "lis = list(map(int, lis))\n",
    "lis"
   ]
  },
  {
   "cell_type": "markdown",
   "id": "furnished-profit",
   "metadata": {},
   "source": [
    "## open"
   ]
  },
  {
   "cell_type": "markdown",
   "id": "meaningful-dietary",
   "metadata": {},
   "source": [
    "- 파일을 여는 함수\n",
    "- r 은 읽을때 사용\n",
    "- w 은 파일을 작성할 때 사용"
   ]
  },
  {
   "cell_type": "code",
   "execution_count": null,
   "id": "intense-struggle",
   "metadata": {},
   "outputs": [],
   "source": [
    "# ex = open('example.txt','r')"
   ]
  },
  {
   "cell_type": "markdown",
   "id": "quick-nursery",
   "metadata": {},
   "source": [
    "## print"
   ]
  },
  {
   "cell_type": "markdown",
   "id": "fabulous-former",
   "metadata": {},
   "source": [
    "- 문자열을 출력하는 함수\n",
    "- 기본적으로 print 함수를 쓸때마다, 줄바꿈으로 문자가 바뀐다. \n",
    "    - 이를 수정하기 위해서는 end 를 바꾸어 주면 된다.\n",
    "- 변수의 '이름' 이 아니라 그 '값' 을 출력하고 싶다면 그 앞에 f 를 쓴 뒤 중괄호로 변수를 싸주면 된다."
   ]
  },
  {
   "cell_type": "code",
   "execution_count": 24,
   "id": "terminal-central",
   "metadata": {
    "scrolled": true
   },
   "outputs": [
    {
     "name": "stdout",
     "output_type": "stream",
     "text": [
      "x\n",
      "y\n",
      "x y\n",
      "10 와 20\n"
     ]
    }
   ],
   "source": [
    "a = 10 ; b = 20\n",
    "print('x') ; print('y') # x,y 가 줄바꿈으로 구분되어 출력되고있다.\n",
    "print('x',end = ' ') ; print('y') # x,y 가 띄어쓰기를 경계로 구분되고 있다.\n",
    "print(f'{a} 와 {b}') # f string 을 이용해 변수의 '값' 을 출력하고 있는 모습"
   ]
  },
  {
   "cell_type": "markdown",
   "id": "nominated-behalf",
   "metadata": {},
   "source": [
    "## reversed"
   ]
  },
  {
   "cell_type": "markdown",
   "id": "divine-mentor",
   "metadata": {},
   "source": [
    "- mutable 한 객체를 reverse 하게 만들고 싶을때 쓴다.\n",
    "- [1,2,3].reverse() 를 해버리면 원래 list 가 없어지고 inplace 하게 reversed 가 되어서 불편할 떄가 많은데, 그럴 때에 사용하는 함수가 reversed"
   ]
  },
  {
   "cell_type": "code",
   "execution_count": 30,
   "id": "material-robin",
   "metadata": {},
   "outputs": [],
   "source": [
    "lis = [1,4,3,2,5]"
   ]
  },
  {
   "cell_type": "code",
   "execution_count": 34,
   "id": "innovative-charles",
   "metadata": {},
   "outputs": [
    {
     "name": "stdout",
     "output_type": "stream",
     "text": [
      "[5, 2, 3, 4, 1]\n",
      "[1, 4, 3, 2, 5]\n"
     ]
    }
   ],
   "source": [
    "print(list(reversed(lis)))\n",
    "print(lis)"
   ]
  },
  {
   "cell_type": "markdown",
   "id": "infinite-mention",
   "metadata": {},
   "source": [
    "## range"
   ]
  },
  {
   "cell_type": "markdown",
   "id": "rapid-carrier",
   "metadata": {},
   "source": [
    "- range(a,b) : a,a+1.....b-1 의 range 객체를 만든다.\n",
    "- range(a,b,k) : a,a+k... 으로 간격이 k 가 됨\n",
    "    - 이때 k 는 음수도 가능합니다.\n",
    "    - 다만 음수를 넣으려고 한다면 , a>b 가 되어야 합니다.\n",
    "- range(a,a) : 이 경우 아무것도 출력하지 않습니다."
   ]
  },
  {
   "cell_type": "code",
   "execution_count": 2,
   "id": "rough-banks",
   "metadata": {},
   "outputs": [],
   "source": [
    "for i in range(0):\n",
    "    print(i)"
   ]
  },
  {
   "cell_type": "code",
   "execution_count": 1,
   "id": "sharp-estimate",
   "metadata": {},
   "outputs": [],
   "source": [
    "for i in range(10,10):\n",
    "    print(i)"
   ]
  },
  {
   "cell_type": "markdown",
   "id": "logical-conference",
   "metadata": {},
   "source": [
    "## sorted"
   ]
  },
  {
   "cell_type": "markdown",
   "id": "blind-cycle",
   "metadata": {},
   "source": [
    "- sorted 를 통해서 iterable 객체를 정렬할 수 있다.\n",
    "- .sort() 는 list 만 가능하지만 위 sorted 는 iterable 객체에 대해서 모두 성립한다.\n",
    "\n",
    "- 내림차순 정렬 : sorted({},reverse=True))\n",
    "- 기준을 선택해 정렬 : sorted(a, key = lambda x : x[0]) # element의 의 첫번째 인자가 기준이 되어 정렬된다.\n",
    "- 기준을 여러개 선택해 정렬 sorted(a, key = lambda x : (x[0],x[1])) # element 의 첫번쨰, 두번째 인자가 차례로 기준이 되어 정렬됨 "
   ]
  },
  {
   "cell_type": "code",
   "execution_count": 33,
   "id": "cellular-leonard",
   "metadata": {},
   "outputs": [
    {
     "data": {
      "text/plain": [
       "[1, 2, 3, 4, 5]"
      ]
     },
     "execution_count": 33,
     "metadata": {},
     "output_type": "execute_result"
    }
   ],
   "source": [
    "sorted({3: 'D', 2: 'B', 5: 'B', 4: 'E', 1: 'A'})"
   ]
  },
  {
   "cell_type": "code",
   "execution_count": 27,
   "id": "desirable-samba",
   "metadata": {},
   "outputs": [],
   "source": [
    "# a 의 element 가 list 여도 아래가 성립한다.\n",
    "a = [(1, 2), (0, 1), (5, 1), (5, 2), (3, 0)]"
   ]
  },
  {
   "cell_type": "code",
   "execution_count": 28,
   "id": "respected-karaoke",
   "metadata": {},
   "outputs": [],
   "source": [
    "# 인자없이 그냥 sorted()만 쓰면, 리스트 아이템의 각 요소 순서대로 정렬을 한다.\n",
    "b = sorted(a)\n",
    "# b = [(0, 1), (1, 2), (3, 0), (5, 1), (5, 2)]\n",
    "# key 인자에 함수를 넘겨주면 해당 함수의 반환값을 비교하여 순서대로 정렬한다.\n",
    "c = sorted(a, key = lambda x : x[0])\n",
    "# c = [(0, 1), (1, 2), (3, 0), (5, 1), (5, 2)]\n",
    "d = sorted(a, key = lambda x : x[1])\n",
    "# d = [(3, 0), (0, 1), (5, 1), (1, 2), (5, 2)]\n",
    "e = sorted(a, key = lambda x: (x[0],x[1]))\n",
    "# e = [(0, 1), (1, 2), (3, 0), (5, 1), (5, 2)]"
   ]
  },
  {
   "cell_type": "markdown",
   "id": "natural-consideration",
   "metadata": {},
   "source": [
    "## sum"
   ]
  },
  {
   "cell_type": "markdown",
   "id": "activated-stockholm",
   "metadata": {},
   "source": [
    "- List 나 dict 가 자체적으로 연산은 불가능하지만 sum 의 메소드는 작동한다\n",
    "- 즉 평균이나 합은 쉽게 구할 수 있다."
   ]
  },
  {
   "cell_type": "code",
   "execution_count": 35,
   "id": "speaking-microwave",
   "metadata": {},
   "outputs": [
    {
     "data": {
      "text/plain": [
       "6"
      ]
     },
     "execution_count": 35,
     "metadata": {},
     "output_type": "execute_result"
    }
   ],
   "source": [
    "sum([1,2,3])\n",
    "sum({1,2,3})"
   ]
  },
  {
   "cell_type": "markdown",
   "id": "shared-boulder",
   "metadata": {},
   "source": [
    "## type"
   ]
  },
  {
   "cell_type": "markdown",
   "id": "revised-input",
   "metadata": {},
   "source": [
    "- type 은 객체에 대한 자료형이 무엇인지 알려 주는 함수이다.\n",
    "- 어떤 형태인지 알기 위해서 쓸 수 있다.\n",
    "    - pandas 에 .dtype 등의 메서드가 있지만 위 type 은 내장함수이기 때문에 범용적으로 사용된다. "
   ]
  },
  {
   "cell_type": "code",
   "execution_count": 14,
   "id": "failing-carol",
   "metadata": {
    "scrolled": true
   },
   "outputs": [
    {
     "data": {
      "text/plain": [
       "str"
      ]
     },
     "execution_count": 14,
     "metadata": {},
     "output_type": "execute_result"
    }
   ],
   "source": [
    "type(\"abc\")"
   ]
  },
  {
   "cell_type": "markdown",
   "id": "every-delaware",
   "metadata": {},
   "source": [
    "## range"
   ]
  },
  {
   "cell_type": "markdown",
   "id": "paperback-ocean",
   "metadata": {},
   "source": [
    "- range([start,] stop [,step] )는 for문과 함께 자주 사용하는 함수이다. 이 함수는 입력받은 숫자에 해당하는 범위 값을 반복 가능한 객체로 만들어 돌려준다."
   ]
  },
  {
   "cell_type": "code",
   "execution_count": 21,
   "id": "circular-break",
   "metadata": {},
   "outputs": [
    {
     "data": {
      "text/plain": [
       "[1, 2, 3, 4]"
      ]
     },
     "execution_count": 21,
     "metadata": {},
     "output_type": "execute_result"
    }
   ],
   "source": [
    "lis = []\n",
    "for i in range(1,5):\n",
    "    lis.append(i)\n",
    "lis"
   ]
  },
  {
   "cell_type": "code",
   "execution_count": 22,
   "id": "multiple-insertion",
   "metadata": {},
   "outputs": [
    {
     "data": {
      "text/plain": [
       "[1, 2, 3, 4]"
      ]
     },
     "execution_count": 22,
     "metadata": {},
     "output_type": "execute_result"
    }
   ],
   "source": [
    "# range 와 np.arange 는 거의 똑같다. 거의 같다고 보면 된다.\n",
    "lis = []\n",
    "for i in np.arange(1,5):\n",
    "    lis.append(i)\n",
    "lis"
   ]
  },
  {
   "cell_type": "markdown",
   "id": "adjacent-snake",
   "metadata": {},
   "source": [
    "## zip"
   ]
  },
  {
   "cell_type": "markdown",
   "id": "inside-brooklyn",
   "metadata": {},
   "source": [
    "- 파이썬 에서는 zip이라는 내장함수가 있다. zip() 은 동일한 개수로 이루어진 자료형을 묶어 주는 역할을 하는 함수이다.\n",
    "- dataframe 의 column 을 df.columns 로 리스트 형태로 받은 뒤, 그에 따른 weight 를 지정해 준 후 dict(zip 으로 묶어서 classification 시에 이용할 수 있다.\n",
    "    - keras/lgbm 등은 weight 를 설정할 때에, 각 분류에 따른 가중치를 dict 형식으로 받는다.\n",
    "- 또는 같은 길이의 list 를 여러개 묶은 뒤 for문을 한번에 적용할 수 있다.\n",
    "    - fot i,j in zip(lis1,lis2): 로 쓴다면 i,j 를 한번에 쓸 수 있다.\n"
   ]
  },
  {
   "cell_type": "code",
   "execution_count": 4,
   "id": "greek-leonard",
   "metadata": {},
   "outputs": [],
   "source": [
    "fruits = [\"Apple\", \"Pear\", \"Peach\", \"Banana\"]\n",
    "prices = [0.35, 0.40, 0.40, 0.28]"
   ]
  },
  {
   "cell_type": "code",
   "execution_count": 12,
   "id": "informal-collective",
   "metadata": {},
   "outputs": [
    {
     "name": "stdout",
     "output_type": "stream",
     "text": [
      "{'Apple': 0.35, 'Pear': 0.4, 'Peach': 0.4, 'Banana': 0.28}\n"
     ]
    }
   ],
   "source": [
    "# 아래와같이 같은 길이의 list(혹은 numpy 도 사용할 수 있음)를 이용하면 dict로 변환가능\n",
    "dic = dict(zip(fruits, prices))\n",
    "print(dic)"
   ]
  },
  {
   "cell_type": "code",
   "execution_count": 13,
   "id": "ecological-fitting",
   "metadata": {},
   "outputs": [
    {
     "name": "stdout",
     "output_type": "stream",
     "text": [
      "[('Apple', 0.35), ('Pear', 0.4), ('Peach', 0.4), ('Banana', 0.28)]\n"
     ]
    }
   ],
   "source": [
    "lis = list(zip(fruits,prices))\n",
    "print(lis)"
   ]
  },
  {
   "cell_type": "markdown",
   "id": "atmospheric-sudan",
   "metadata": {},
   "source": [
    "## list , tuple , set\n",
    "- 각 패키지의 메소드마다 입력값으로 받는것이 다르다.\n",
    "    - list 만 받는다던가, dict 형태로만 받는등....\n",
    "- 그럴때에 맞는 형태로 바꾸기 위해서 쓰인다."
   ]
  },
  {
   "cell_type": "markdown",
   "id": "approved-workplace",
   "metadata": {},
   "source": [
    "- **list( )**: 리스트 변환\n",
    "- **tuple( )**: tuple 변환\n",
    "- **set( )**: 집합 변환"
   ]
  },
  {
   "cell_type": "markdown",
   "id": "indonesian-atlanta",
   "metadata": {},
   "source": [
    "## input"
   ]
  },
  {
   "cell_type": "markdown",
   "id": "demographic-indie",
   "metadata": {},
   "source": [
    "- input 은 어떠한 값을 입력받을때 사용된다.\n",
    "- 주로 코딩테스트시에 많이 이용됨\n",
    "- input 은 입력한 값은 string 으로 불러오기 때문에 따로 수로 지정하고 싶은 경우 int 를 사용자가 직접 지정해 주어야 한다."
   ]
  },
  {
   "cell_type": "markdown",
   "id": "historic-appeal",
   "metadata": {},
   "source": [
    "**Example** \n",
    "\n",
    "- a,b = input().split()\n",
    "    - 띄어쓰기로 구분된 값을 a,b 로 각각 받는다.\n",
    "    - 2 4 -> a:2/b:4\n",
    "- lis = list(input().split()) \n",
    "    - 띄어쓰기로 구분된 값을 list 형태로 받는다.\n",
    "    - 5 6 3 2 1 -> lis:[5,6,3,2,1] \n",
    "- num=list(map(int, str(num))) \n",
    "    - num 을 각각 구분된 int 로 분해\n",
    "    - 35243 -> num = [5,6,2,4,3]\n",
    "- list(string) \n",
    "    - string 을 각각 구분된 글자로 분해\n",
    "    - 'love' -> ['l','o','v','e']"
   ]
  },
  {
   "cell_type": "markdown",
   "id": "employed-disease",
   "metadata": {},
   "source": [
    "## sys.exit"
   ]
  },
  {
   "cell_type": "markdown",
   "id": "prospective-tongue",
   "metadata": {},
   "source": [
    "- 아예 프로그램을 종료해버는 역할을 한다.\n",
    "- 원하는 답이 나와서 print('답') 만 하고, 나머지는 다 무시해버리고 싶을때에 사용! (재귀문에서 사용됨)"
   ]
  },
  {
   "cell_type": "markdown",
   "id": "operational-climb",
   "metadata": {},
   "source": [
    "# Flow control"
   ]
  },
  {
   "cell_type": "markdown",
   "id": "acting-premises",
   "metadata": {},
   "source": [
    "## if any(..for) / if all(..for)"
   ]
  },
  {
   "cell_type": "markdown",
   "id": "first-communist",
   "metadata": {},
   "source": [
    "- any 와 all 은 각각 하나라도 / 모두의 의미를 가지고 있다.\n",
    "- 아래처럼 all 과 for문을 통해서 '모두 맞을때' 의 의미를 구성할 수 있다.\n",
    "- all / any 는 iterable 를 입력으로 받아, 안의 모든것들이 True 거나 또는 하나 이상이 True 일 때에 True 를 반환한다."
   ]
  },
  {
   "cell_type": "code",
   "execution_count": 23,
   "id": "handy-belize",
   "metadata": {},
   "outputs": [
    {
     "name": "stdout",
     "output_type": "stream",
     "text": [
      "3\n"
     ]
    }
   ],
   "source": [
    "lis = list(range(5))\n",
    "if all([lis[1] < 10 for x in lis]):\n",
    "    print(3)"
   ]
  },
  {
   "cell_type": "markdown",
   "id": "damaged-heater",
   "metadata": {},
   "source": [
    "## continue"
   ]
  },
  {
   "cell_type": "markdown",
   "id": "informed-multiple",
   "metadata": {},
   "source": [
    "- 코드를 continue 를 통해서 건너뛸 수 있다.\n",
    "- continue 아래의 코드는 실행하지 않고 건너뛴 뒤 다음 반복을 시작한다."
   ]
  },
  {
   "cell_type": "code",
   "execution_count": 19,
   "id": "conscious-juice",
   "metadata": {
    "scrolled": true
   },
   "outputs": [
    {
     "name": "stdout",
     "output_type": "stream",
     "text": [
      "1\n",
      "3\n"
     ]
    }
   ],
   "source": [
    "for i in range(5):       # 0부터 5까지 증가하면서 반복\n",
    "    if i % 2 == 0:         # i를 2로 나누었을 때 나머지가 0면 짝수\n",
    "        continue           # 아래 코드를 실행하지 않고 건너뜀\n",
    "    print(i)"
   ]
  },
  {
   "cell_type": "code",
   "execution_count": 23,
   "id": "forty-pakistan",
   "metadata": {},
   "outputs": [
    {
     "name": "stdout",
     "output_type": "stream",
     "text": [
      "1\n",
      "3\n",
      "5\n",
      "이건무시못함\n"
     ]
    }
   ],
   "source": [
    "i = 0\n",
    "while i < 5:        \n",
    "    i += 1            \n",
    "    if i % 2 == 0: # 2의 배수이면 \n",
    "        continue   # 같은 블록안의 싸~악 건너 띄고 '다음 반복'을 시작하세요~\n",
    "    print(i)\n",
    "print('이건무시못함') # 같은 줄에 있지를 않아서 이건 무시 못한다."
   ]
  },
  {
   "cell_type": "markdown",
   "id": "coordinated-mechanism",
   "metadata": {},
   "source": [
    "## Break"
   ]
  },
  {
   "cell_type": "markdown",
   "id": "consolidated-reset",
   "metadata": {},
   "source": [
    "- for와 while 문법에서 제어흐름을 벗어나기 위해 사용한다. \n",
    "- break는 제어흐름을 중단하고 빠져 나오지만\n",
    "- continue는 제어흐름(반복)을 유지한 상태에서 코드의 실행만 건너뛰는 역할을 합니다\n"
   ]
  },
  {
   "cell_type": "code",
   "execution_count": 16,
   "id": "circular-pattern",
   "metadata": {
    "scrolled": true
   },
   "outputs": [
    {
     "name": "stdout",
     "output_type": "stream",
     "text": [
      "0\n",
      "1\n",
      "2\n",
      "3\n",
      "4\n"
     ]
    }
   ],
   "source": [
    "i = 0\n",
    "while True:    # 무한 루프\n",
    "    print(i)\n",
    "    i += 1          # i를 1씩 증가시킴\n",
    "    if i == 5:    # 5일때\n",
    "        break       # 반복문을 끝냄. while의 제어흐름을 벗어남"
   ]
  },
  {
   "cell_type": "code",
   "execution_count": 7,
   "id": "roman-cooperative",
   "metadata": {
    "scrolled": true
   },
   "outputs": [
    {
     "name": "stdout",
     "output_type": "stream",
     "text": [
      "0\n",
      "1\n",
      "2\n",
      "3\n",
      "4\n",
      "5\n",
      "이건무시못하지\n"
     ]
    }
   ],
   "source": [
    "for i in range(10000):    # 0부터 9999까지 반복b\n",
    "    print(i)\n",
    "    if i == 5:    # i가 100일 때\n",
    "        break       # 반복문을 끝냄. for의 제어흐름을 벗어남\n",
    "print('이건무시못하지') # for 문 뒤의 값은 무시 못한다."
   ]
  },
  {
   "cell_type": "markdown",
   "id": "informal-point",
   "metadata": {},
   "source": [
    "## Pass"
   ]
  },
  {
   "cell_type": "markdown",
   "id": "informational-three",
   "metadata": {},
   "source": [
    "- 아무 일도 하지 않지만, if/while/for 등의 문장 구조 형태를 유지하고 싶다면 Pass 를 쓰자."
   ]
  },
  {
   "cell_type": "code",
   "execution_count": 18,
   "id": "terminal-principal",
   "metadata": {},
   "outputs": [],
   "source": [
    "for i in range(10):    # 10번 반복\n",
    "    pass               # 아무 일도 하지 않는다"
   ]
  },
  {
   "cell_type": "code",
   "execution_count": 21,
   "id": "russian-scottish",
   "metadata": {},
   "outputs": [],
   "source": [
    "if i == 0 :\n",
    "    pass # 이 역시 마찬가지"
   ]
  },
  {
   "cell_type": "code",
   "execution_count": null,
   "id": "modern-worse",
   "metadata": {},
   "outputs": [],
   "source": []
  },
  {
   "cell_type": "markdown",
   "id": "american-subscriber",
   "metadata": {},
   "source": [
    "## for else"
   ]
  },
  {
   "cell_type": "markdown",
   "id": "pediatric-swiss",
   "metadata": {},
   "source": [
    "- for문을 사용하다보면, 루프 중간에 break 문으로 빠져나오는 경우들이 있는데, 이게 break문이 걸려서 빠져나가는지 아닌지를 판단이 필요한 경우가 있습니다.\n",
    "- for문과 같은 레벨에 else를 둬서 break없이 빠져나온 경우를 처리하는 방법이 있다.\n",
    "\n"
   ]
  },
  {
   "cell_type": "code",
   "execution_count": 20,
   "id": "light-restoration",
   "metadata": {},
   "outputs": [
    {
     "name": "stdout",
     "output_type": "stream",
     "text": [
      "loop out\n"
     ]
    }
   ],
   "source": [
    "for x in range(4):\n",
    "    if x == 2:\n",
    "        print ('loop out')\n",
    "        break\n",
    "else:\n",
    "    print ('loop end')"
   ]
  },
  {
   "cell_type": "markdown",
   "id": "moved-assumption",
   "metadata": {},
   "source": [
    "-  위 예제의 경우는 x =2 에서 루프를 빠져나오기때문에, else문이 실행이 되지 않고, 'loop out' 이 출력이 된다."
   ]
  },
  {
   "cell_type": "code",
   "execution_count": 23,
   "id": "normal-robert",
   "metadata": {
    "scrolled": false
   },
   "outputs": [
    {
     "name": "stdout",
     "output_type": "stream",
     "text": [
      "loop end\n"
     ]
    }
   ],
   "source": [
    "for x in range(4):\n",
    "    pass\n",
    "else:\n",
    "    print ('loop end')"
   ]
  },
  {
   "cell_type": "markdown",
   "id": "finite-crack",
   "metadata": {},
   "source": [
    "- 위와 같은 경우는 , for loop가 break없이 빠져나왔으므로 'loop end' 가 출력이 된다."
   ]
  },
  {
   "cell_type": "markdown",
   "id": "yellow-damages",
   "metadata": {},
   "source": [
    "## for while"
   ]
  },
  {
   "cell_type": "markdown",
   "id": "distinguished-myrtle",
   "metadata": {},
   "source": [
    "- 각각의 작업들을 어떤 조건을 만족할때까지 수행시키고 싶다고 할 때에 사용합니다."
   ]
  },
  {
   "cell_type": "code",
   "execution_count": 56,
   "id": "cordless-texas",
   "metadata": {},
   "outputs": [
    {
     "name": "stdout",
     "output_type": "stream",
     "text": [
      "[1, 4]\n"
     ]
    }
   ],
   "source": [
    "num = [1,2,3,4]\n",
    "stack = [1,4,3,2]\n",
    "for x in num: \n",
    "    while stack and stack[-1]<x: # 스택이 비거나, 제일 위의 스택이 num 의 값보다 작을때 멈춘다!\n",
    "        stack.pop() \n",
    "print(stack)"
   ]
  },
  {
   "cell_type": "markdown",
   "id": "declared-programmer",
   "metadata": {},
   "source": [
    "## try exept"
   ]
  },
  {
   "cell_type": "markdown",
   "id": "dirty-yield",
   "metadata": {},
   "source": [
    "- 다음에서 진행되는 flow 들은 에러발생시 어떻게 대처해야하는지의 구문들이다."
   ]
  },
  {
   "cell_type": "code",
   "execution_count": 11,
   "id": "champion-charge",
   "metadata": {
    "scrolled": false
   },
   "outputs": [
    {
     "data": {
      "image/png": "[encoded data removed]",
      "text/plain": [
       "<IPython.core.display.Image object>"
      ]
     },
     "execution_count": 11,
     "metadata": {},
     "output_type": "execute_result"
    }
   ],
   "source": [
    "Image('./image/try.png')"
   ]
  },
  {
   "cell_type": "markdown",
   "id": "working-dinner",
   "metadata": {},
   "source": [
    "- try, exept 문\n",
    "- try 안에는 기본적으로 실행하는 코드를 넣ㅎ고, exept 절에는 에러가 발생했을 경우 시행할 코드를 넣는다."
   ]
  },
  {
   "cell_type": "code",
   "execution_count": 14,
   "id": "residential-senate",
   "metadata": {
    "scrolled": true
   },
   "outputs": [
    {
     "name": "stdout",
     "output_type": "stream",
     "text": [
      "wrong division\n"
     ]
    }
   ],
   "source": [
    "try:\n",
    "    print(5/0)\n",
    "except:\n",
    "    print('wrong division')"
   ]
  },
  {
   "cell_type": "markdown",
   "id": "offshore-format",
   "metadata": {},
   "source": [
    "## try except else"
   ]
  },
  {
   "cell_type": "markdown",
   "id": "comparative-petersburg",
   "metadata": {},
   "source": [
    "- try 절과 except 절에 else 를 추가하여 구성할 수 있다.\n",
    "- else 는 예외가 발생하지 않아 except 절을 실행하지 않았을 때에 실행되는 구문이다"
   ]
  },
  {
   "cell_type": "code",
   "execution_count": 16,
   "id": "union-timing",
   "metadata": {
    "scrolled": true
   },
   "outputs": [
    {
     "name": "stdout",
     "output_type": "stream",
     "text": [
      "5.0\n",
      "no error\n"
     ]
    }
   ],
   "source": [
    "try:\n",
    "    print(5/1)\n",
    "except:\n",
    "    print('error')\n",
    "else:\n",
    "    print('no error')"
   ]
  },
  {
   "cell_type": "markdown",
   "id": "fluid-andorra",
   "metadata": {},
   "source": [
    "## try except finally"
   ]
  },
  {
   "cell_type": "markdown",
   "id": "tired-rebecca",
   "metadata": {},
   "source": [
    "- finally 절은 try 절에서 예외의 발생여부에 관계없이 항상 실행되는 절이다."
   ]
  },
  {
   "cell_type": "code",
   "execution_count": 18,
   "id": "prescribed-aberdeen",
   "metadata": {},
   "outputs": [
    {
     "name": "stdout",
     "output_type": "stream",
     "text": [
      "error\n",
      "end\n"
     ]
    }
   ],
   "source": [
    "try:\n",
    "    print(5/0)\n",
    "except:\n",
    "    print('error')\n",
    "finally:\n",
    "    print('end')"
   ]
  },
  {
   "cell_type": "markdown",
   "id": "minute-opera",
   "metadata": {},
   "source": [
    "## 이중 for문 탈출"
   ]
  },
  {
   "cell_type": "markdown",
   "id": "everyday-grass",
   "metadata": {},
   "source": [
    "- 단일 for 문이라면 Break 를 통해서 빠져나올 수 있었다. \n",
    "- 하지만 이중 for 문이라면 어떨까?"
   ]
  },
  {
   "cell_type": "code",
   "execution_count": 64,
   "id": "limited-suffering",
   "metadata": {
    "scrolled": true
   },
   "outputs": [
    {
     "name": "stdout",
     "output_type": "stream",
     "text": [
      "0\n",
      "1\n",
      "0\n",
      "1\n",
      "0\n",
      "1\n",
      "0\n",
      "1\n",
      "0\n",
      "1\n",
      "1\n"
     ]
    }
   ],
   "source": [
    "a = 0 \n",
    "for x in range(5):\n",
    "    for y in range(5):\n",
    "        a = y \n",
    "        print(a)\n",
    "        if a == 1 : # a 가 1이 되면 모든 for 문을 중지시키고 싶다!\n",
    "            break\n",
    "print(a)"
   ]
  },
  {
   "cell_type": "markdown",
   "id": "marine-funeral",
   "metadata": {},
   "source": [
    "- 위처럼 print 를 할 때에 제대로 수행되지 않음을 볼 수 있다.\n",
    "- 하나의 break 를 하게되면 그 바로 상단의 반복문, 즉 for y 의 부분을 중지시키기 때문이다."
   ]
  },
  {
   "cell_type": "code",
   "execution_count": 71,
   "id": "missing-malpractice",
   "metadata": {},
   "outputs": [
    {
     "name": "stdout",
     "output_type": "stream",
     "text": [
      "2\n"
     ]
    }
   ],
   "source": [
    "a = 0 \n",
    "for x in range(5):\n",
    "    for y in range(5):\n",
    "        a = y \n",
    "        if a == 1 : # a 가 1이 되면 모든 for 문을 중지시키고 싶다!\n",
    "            break\n",
    "    a = 2\n",
    "    break \n",
    "print(a)"
   ]
  },
  {
   "cell_type": "markdown",
   "id": "recognized-rabbit",
   "metadata": {},
   "source": [
    "- 위와 같이 두번의 break 을 준다고 해도 결과는 같다. 둘이 '별개로' break 가 작용하기 때문에 둘의 break 는 연동되지 않는다. \n",
    "- 그 증거로 위에서 a = 2 를 시행하고 어서, 결과가 2가 나온것을 볼 수 있다.\n",
    "- break 가 연동된다면 a = 1 이여야 한다."
   ]
  },
  {
   "cell_type": "code",
   "execution_count": 67,
   "id": "excess-respect",
   "metadata": {},
   "outputs": [
    {
     "name": "stdout",
     "output_type": "stream",
     "text": [
      "0\n",
      "1\n"
     ]
    }
   ],
   "source": [
    "a = 0 \n",
    "switch = False\n",
    "for x in range(5):\n",
    "    for y in range(5):\n",
    "        a = y \n",
    "        if a == 1 : # a 가 1이 되면 모든 for 문을 중지시키고 싶다!\n",
    "            switch = True\n",
    "            break\n",
    "    if switch :\n",
    "        break"
   ]
  },
  {
   "cell_type": "markdown",
   "id": "impressive-ghost",
   "metadata": {},
   "source": [
    "# Method"
   ]
  },
  {
   "cell_type": "markdown",
   "id": "tribal-highland",
   "metadata": {},
   "source": [
    "## Comprehension"
   ]
  },
  {
   "cell_type": "markdown",
   "id": "satisfied-adams",
   "metadata": {},
   "source": [
    "- Comprehension이란 iterable한 오브젝트를 생성하기 위한 방법중 하나로 파이썬에서 사용할 수 있는 유용한 기능중 하나이다.\n",
    "- set , list , dict 등등에 모두 쓰일 수 있다.\n",
    "- 맨 앞의 값은, 실제로 들어가는 값이고, 그 뒤의 for 문은 어떤값이 들어갈지의 조건이다."
   ]
  },
  {
   "cell_type": "code",
   "execution_count": 109,
   "id": "premier-feeling",
   "metadata": {
    "scrolled": false
   },
   "outputs": [
    {
     "name": "stdout",
     "output_type": "stream",
     "text": [
      "[0, 2, 4, 6, 8, 10, 12, 14, 16, 18, 20]\n",
      "[0, 3, 6, 9]\n"
     ]
    }
   ],
   "source": [
    "evens = [x * 2 for x in range(11)] ; print(evens)\n",
    "ex = [x for x in range(10) if x % 3 ==0] ; print(ex) "
   ]
  },
  {
   "cell_type": "code",
   "execution_count": 110,
   "id": "preceding-stable",
   "metadata": {
    "scrolled": true
   },
   "outputs": [
    {
     "name": "stdout",
     "output_type": "stream",
     "text": [
      "{0, 2, 4, 6, 8, 10, 12, 14, 16, 18, 20}\n"
     ]
    }
   ],
   "source": [
    "evens = {x * 2 for x in range(11)} ; print(evens)"
   ]
  },
  {
   "cell_type": "code",
   "execution_count": 13,
   "id": "opponent-charlotte",
   "metadata": {
    "scrolled": true
   },
   "outputs": [
    {
     "data": {
      "text/plain": [
       "[(0, 0), (1, 1), (2, 2), (3, 3), (4, 4)]"
      ]
     },
     "execution_count": 13,
     "metadata": {},
     "output_type": "execute_result"
    }
   ],
   "source": [
    "p = [(x,y) for x,y in enumerate(range(5))] ; p"
   ]
  },
  {
   "cell_type": "markdown",
   "id": "lovely-first",
   "metadata": {},
   "source": [
    "## Packing/Unpacking"
   ]
  },
  {
   "cell_type": "markdown",
   "id": "inappropriate-front",
   "metadata": {},
   "source": [
    "- Unpacking : 컬렉션의 요소들을 여러개의 변수에 나누어 담는 방법\n",
    "- Packing : 여러개의 데이터를 컬렉션으로 묶어 변수에 대입하는것 "
   ]
  },
  {
   "cell_type": "code",
   "execution_count": 74,
   "id": "architectural-discharge",
   "metadata": {
    "scrolled": false
   },
   "outputs": [
    {
     "name": "stdout",
     "output_type": "stream",
     "text": [
      "(1, 2, 3, 4, 5)\n",
      "1\n"
     ]
    }
   ],
   "source": [
    "num = 1,2,3,4,5 ; print(num) # packing\n",
    "a,b,c,d,e = num ; print(a) # unpacking"
   ]
  },
  {
   "cell_type": "code",
   "execution_count": 76,
   "id": "dated-challenge",
   "metadata": {
    "scrolled": true
   },
   "outputs": [
    {
     "name": "stdout",
     "output_type": "stream",
     "text": [
      "1\n"
     ]
    }
   ],
   "source": [
    "num = [1,2,3,4]\n",
    "a,b,c,d = num ; print(a)"
   ]
  },
  {
   "cell_type": "code",
   "execution_count": null,
   "id": "fresh-implementation",
   "metadata": {},
   "outputs": [],
   "source": []
  }
 ],
 "metadata": {
  "kernelspec": {
   "display_name": "Python 3",
   "language": "python",
   "name": "python3"
  },
  "language_info": {
   "codemirror_mode": {
    "name": "ipython",
    "version": 3
   },
   "file_extension": ".py",
   "mimetype": "text/x-python",
   "name": "python",
   "nbconvert_exporter": "python",
   "pygments_lexer": "ipython3",
   "version": "3.7.9"
  },
  "toc": {
   "base_numbering": 1,
   "nav_menu": {},
   "number_sections": true,
   "sideBar": true,
   "skip_h1_title": false,
   "title_cell": "Table of Contents",
   "title_sidebar": "Contents",
   "toc_cell": false,
   "toc_position": {
    "height": "calc(100% - 180px)",
    "left": "10px",
    "top": "150px",
    "width": "320.556px"
   },
   "toc_section_display": true,
   "toc_window_display": true
  }
 },
 "nbformat": 4,
 "nbformat_minor": 5
}

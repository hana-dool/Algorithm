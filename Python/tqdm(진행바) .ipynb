{
 "cells": [
  {
   "cell_type": "code",
   "execution_count": 20,
   "id": "active-button",
   "metadata": {},
   "outputs": [],
   "source": [
    "from tqdm import tqdm"
   ]
  },
  {
   "cell_type": "markdown",
   "id": "mathematical-thunder",
   "metadata": {},
   "source": [
    "# time"
   ]
  },
  {
   "cell_type": "markdown",
   "id": "satellite-arizona",
   "metadata": {},
   "source": [
    "- 코드의 실행시간을 측정하는 모듈입니다.\n",
    "- time.time 함수를 호출하면 1970년 1월 1일 0시 0분 0초 이후 경과한 시간을 초단위로 반환합니다"
   ]
  },
  {
   "cell_type": "code",
   "execution_count": 64,
   "id": "minute-bridge",
   "metadata": {
    "scrolled": true
   },
   "outputs": [
    {
     "data": {
      "text/plain": [
       "1620889769.645509"
      ]
     },
     "execution_count": 64,
     "metadata": {},
     "output_type": "execute_result"
    }
   ],
   "source": [
    "import time\n",
    "time.time()"
   ]
  },
  {
   "cell_type": "markdown",
   "id": "hazardous-walter",
   "metadata": {},
   "source": [
    "- 아래와 같이 코드를 실행하고 나서 시간 time - 코드를 실행하기 전 시간time 을 하고나면 코드가 얼마나 걸렸는지를 알 수 있습니다."
   ]
  },
  {
   "cell_type": "code",
   "execution_count": 66,
   "id": "initial-execution",
   "metadata": {},
   "outputs": [
    {
     "name": "stdout",
     "output_type": "stream",
     "text": [
      "0.15292143821716309\n"
     ]
    }
   ],
   "source": [
    "import time\n",
    "time0 = time.time()\n",
    "a = 0 \n",
    "for _ in range(1000000):\n",
    "    a += 1\n",
    "print(time.time() - time0)"
   ]
  },
  {
   "cell_type": "markdown",
   "id": "continued-seven",
   "metadata": {},
   "source": [
    "# tqdm"
   ]
  },
  {
   "cell_type": "markdown",
   "id": "serial-princeton",
   "metadata": {},
   "source": [
    "## tqdm 바 표시하기"
   ]
  },
  {
   "cell_type": "code",
   "execution_count": 21,
   "id": "greater-letters",
   "metadata": {
    "scrolled": false
   },
   "outputs": [
    {
     "name": "stderr",
     "output_type": "stream",
     "text": [
      "100%|████████████████████████████████████████████████████████████████████████████████████| 5/5 [00:04<00:00,  1.13it/s]\n"
     ]
    }
   ],
   "source": [
    "from tqdm import tqdm\n",
    "\n",
    "a = 0\n",
    "for i in tqdm(range(5)): # tqdm가 list 객체를 만나서, Progress bar 를 만들게 된다.\n",
    "    for _ in range(10000000):\n",
    "        a+= 1"
   ]
  },
  {
   "cell_type": "markdown",
   "id": "dying-solid",
   "metadata": {},
   "source": [
    "## 하위배치"
   ]
  },
  {
   "cell_type": "markdown",
   "id": "mysterious-interpretation",
   "metadata": {},
   "source": [
    "- 아래와 같이 tqdm 을 하위에 배치시키면, 각각의 i 에 대해서 Simulation 하는것이 보이게 된다."
   ]
  },
  {
   "cell_type": "code",
   "execution_count": 22,
   "id": "recognized-burlington",
   "metadata": {
    "scrolled": false
   },
   "outputs": [
    {
     "name": "stderr",
     "output_type": "stream",
     "text": [
      "100%|█████████████████████████████████████████████████████████████████| 10000000/10000000 [00:02<00:00, 3844980.59it/s]\n",
      "100%|█████████████████████████████████████████████████████████████████| 10000000/10000000 [00:02<00:00, 4065335.70it/s]\n",
      "100%|█████████████████████████████████████████████████████████████████| 10000000/10000000 [00:02<00:00, 4022722.03it/s]\n",
      "100%|█████████████████████████████████████████████████████████████████| 10000000/10000000 [00:02<00:00, 4234219.14it/s]\n",
      "100%|█████████████████████████████████████████████████████████████████| 10000000/10000000 [00:02<00:00, 4255487.27it/s]\n"
     ]
    }
   ],
   "source": [
    "from tqdm import tqdm\n",
    "a = 0\n",
    "for i in range(5):\n",
    "    for _ in tqdm(range(10000000)):\n",
    "        a+= 1"
   ]
  },
  {
   "cell_type": "markdown",
   "id": "powered-soccer",
   "metadata": {},
   "source": [
    "## 몇번째인지 표기"
   ]
  },
  {
   "cell_type": "code",
   "execution_count": 67,
   "id": "aboriginal-sympathy",
   "metadata": {
    "scrolled": true
   },
   "outputs": [
    {
     "name": "stderr",
     "output_type": "stream",
     "text": [
      "0 번째: 100%|█████████████████████████████████████████████████████████| 10000000/10000000 [00:05<00:00, 1683870.29it/s]\n",
      "1 번째: 100%|█████████████████████████████████████████████████████████| 10000000/10000000 [00:05<00:00, 1739511.99it/s]\n",
      "2 번째: 100%|█████████████████████████████████████████████████████████| 10000000/10000000 [00:04<00:00, 2123666.18it/s]\n",
      "3 번째: 100%|█████████████████████████████████████████████████████████| 10000000/10000000 [00:05<00:00, 1930340.29it/s]\n",
      "4 번째: 100%|█████████████████████████████████████████████████████████| 10000000/10000000 [00:05<00:00, 1928355.34it/s]\n"
     ]
    }
   ],
   "source": [
    "from tqdm import tqdm\n",
    "a = 0\n",
    "for i in range(5):\n",
    "    for _ in tqdm(range(10000000),desc = f'{i} 번째'):\n",
    "        a+= 1"
   ]
  },
  {
   "cell_type": "code",
   "execution_count": null,
   "id": "pleased-assessment",
   "metadata": {},
   "outputs": [],
   "source": []
  }
 ],
 "metadata": {
  "kernelspec": {
   "display_name": "Python 3",
   "language": "python",
   "name": "python3"
  },
  "language_info": {
   "codemirror_mode": {
    "name": "ipython",
    "version": 3
   },
   "file_extension": ".py",
   "mimetype": "text/x-python",
   "name": "python",
   "nbconvert_exporter": "python",
   "pygments_lexer": "ipython3",
   "version": "3.7.9"
  },
  "toc": {
   "base_numbering": 1,
   "nav_menu": {},
   "number_sections": true,
   "sideBar": true,
   "skip_h1_title": false,
   "title_cell": "Table of Contents",
   "title_sidebar": "Contents",
   "toc_cell": false,
   "toc_position": {
    "height": "calc(100% - 180px)",
    "left": "10px",
    "top": "150px",
    "width": "234.566px"
   },
   "toc_section_display": true,
   "toc_window_display": true
  }
 },
 "nbformat": 4,
 "nbformat_minor": 5
}

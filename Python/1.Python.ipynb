{
 "cells": [
  {
   "cell_type": "markdown",
   "id": "lyric-southwest",
   "metadata": {},
   "source": [
    "# Intro"
   ]
  },
  {
   "cell_type": "markdown",
   "id": "advised-tonight",
   "metadata": {},
   "source": [
    "- 파이썬의 철학은 '배우기 쉽고 사용하기 쉬운 언어' 라는 철학에서 시작되었다.\n",
    "- 업계 / 교육에서 많이 쓰이고 있다.\n",
    "- 풍부한 자료와 커뮤니티에서 사용되고 있음."
   ]
  },
  {
   "cell_type": "code",
   "execution_count": 17,
   "id": "tired-renewal",
   "metadata": {},
   "outputs": [],
   "source": [
    "import numpy as np\n",
    "import pandas as pd\n",
    "from IPython.display import Image"
   ]
  },
  {
   "cell_type": "markdown",
   "id": "invalid-armor",
   "metadata": {},
   "source": [
    "# 파이썬 기초"
   ]
  },
  {
   "cell_type": "markdown",
   "id": "empirical-sword",
   "metadata": {},
   "source": [
    "## 파이썬이란"
   ]
  },
  {
   "cell_type": "markdown",
   "id": "ruled-transformation",
   "metadata": {},
   "source": [
    "**프로그래밍 언어란?**"
   ]
  },
  {
   "cell_type": "markdown",
   "id": "allied-error",
   "metadata": {},
   "source": [
    "- CPU\n",
    "    - CPU 는 Central Processing Unit 의 약자로 중앙 처리 장치라고 불린다.\n",
    "    - 머리에 해당하고, 컴퓨터 프로그램의 명령을 해석하고 실행한다.\n",
    "- 메모리(RAM)\n",
    "    - 메모리는 사람의 손에 해당한다.\n",
    "    - CPU 가 데이터나 프로그램을 읽으려면 어딘가에 저장이 되어있어야 한다. 그 영역이 메모리 영역이다.\n",
    "    - 메모리 영역의 장점은 매우 빠르지만, 전원이 들어오지 않을때에는 기억하지 못하는 휘발성이 있다.\n",
    "- 하드디스크\n",
    "    - 사람의 가방에 해당한다.\n",
    "    - 전원이 없어도 오랫동안 보관이 가능하고 비휘발성을 가지고 있다.\n",
    "    - CPU 는 메모리를 거치지 않고 하드디스크의 데이터를 읽을 수 없다.\n",
    "        - 그래서 하드디스크와 메모리간 데이터 이동은 매우 빈번하다.\n",
    "        - CPI 연산시 데이터가 하드에있는지 메모리(메모리에 있으면 빠르다.)에 있는지에 따라 속도가 매우 다름\n",
    "- 프로그래밍 언어\n",
    "    - 컴퓨터는 0,1 만을 이해할 수 있는데 어떻게 명령을 내려야 할까?\n",
    "    - 프로그래밍 언어는 CPU 에 어떤 작업을 하라고 컴퓨터가 이해할 수 있게 명령을 내리는 언어이다.\n",
    "- 변수\n",
    "    - 변수는 데이터를 메모리에 저장할 때 사용하는 물리적인 메모리 주소 대신에 사용하는, 기억하기 쉬운 단어로 구성된 꼬리표\n",
    "    - 예를 들어 x=20 은 x 에 20을 저장한것이 아니라, x 에 20이라는 값의 메모리 주소를 할당한것이다."
   ]
  },
  {
   "cell_type": "markdown",
   "id": "optional-gambling",
   "metadata": {},
   "source": [
    "**파이썬**"
   ]
  },
  {
   "cell_type": "markdown",
   "id": "lined-chorus",
   "metadata": {},
   "source": [
    "- 동적 바인딩에 강한 타입 언어\n",
    "    - 데이터의 타입을 정의하지 않고도, 자동적으로 타입을 추론/정의해줌\n",
    "     "
   ]
  },
  {
   "cell_type": "markdown",
   "id": "outdoor-gather",
   "metadata": {},
   "source": [
    "## 키워드"
   ]
  },
  {
   "cell_type": "markdown",
   "id": "primary-pacific",
   "metadata": {},
   "source": [
    "- 키워드 (Keyword)는 파이썬 언어에서 이미 예약되어 있는 문자열이어서 변수나 함수의 이름 등으로 사용할 수 없습니다.\n",
    "- 키워드의 종류는 다음과 같습니다.\n",
    "- False, None, True, and, as, assert, break, class, continue, def,\n",
    "del, elif, else, except, finally, for, from, global, if, import,\n",
    "in, is, lambda, nonlocal, not, or, pass, raise, return, try,\n",
    "while, with, yield\n",
    "\n",
    "\n"
   ]
  },
  {
   "cell_type": "markdown",
   "id": "certified-pennsylvania",
   "metadata": {},
   "source": [
    "## 식별자"
   ]
  },
  {
   "cell_type": "markdown",
   "id": "reliable-settle",
   "metadata": {},
   "source": [
    "- 식별자 (Identifier)는 변수, 함수, 클래스와 같은 대상을 식별하기 위해 사용됩니다.\n",
    "- 식별자를 선택할 때 아래와 같은 몇가지 규칙이 있습니다.\n",
    "    - 식별자는 소문자, 대문자, 숫자, 언더스코어 (_)의 조합으로 이루어져야 합니다.\n",
    "    - 식별자는 숫자로 시작할 수 없습니다. 예를 들어, ‘my_var1’은 가능하지만, ‘1my_var’은 사용할 수 없습니다.\n",
    "    - 식별자에 키워드를 사용할 수 없습니다.\n",
    "    - 식별자에 !, @, #, $, %와 같은 특수문자는 사용할 수 없습니다.\n",
    "\n"
   ]
  },
  {
   "cell_type": "markdown",
   "id": "local-article",
   "metadata": {},
   "source": [
    "## 들여쓰기"
   ]
  },
  {
   "cell_type": "markdown",
   "id": "lovely-politics",
   "metadata": {},
   "source": [
    "- 파이썬에서는 들여쓰기를 사용합니다.\n",
    "- 탭 (tab) 키 또는 두 칸 또는 네 칸의 공백을 이용해서 if 문, for 문, 함수의 내부 영역을 구분합니다.\n",
    "\n"
   ]
  },
  {
   "cell_type": "markdown",
   "id": "impressive-literacy",
   "metadata": {},
   "source": [
    "## 주석"
   ]
  },
  {
   "cell_type": "markdown",
   "id": "affecting-roulette",
   "metadata": {},
   "source": [
    "- 주석 (Comment)은 실행되지 않는 코드 부분을 말합니다.\n",
    "- 주로 코드의 의미를 설명하고, 이해하기 쉽게 하기 위해서 # 을 사용합니다.\n",
    "\n"
   ]
  },
  {
   "cell_type": "markdown",
   "id": "lyric-certificate",
   "metadata": {},
   "source": [
    "## mutable, immutable"
   ]
  },
  {
   "cell_type": "markdown",
   "id": "rational-specific",
   "metadata": {},
   "source": [
    "- mutable/imutable\n",
    "    - immutable \n",
    "        - 변경할 수 없는\n",
    "        - 숫자(float, int...), 문자열, 튜플, bool\n",
    "        -ex) str = 'abc' 를 지정했다고 하자. str = str+'b' 로 update 하면 str의 주소(물리적) 이 바뀌게 된다. 즉 '주소를 그래도 두고' 변경이 불가능\n",
    "        - 즉 inplace 연산이 없다.\n",
    "    - mutable\n",
    "        - 변경할 수 있는\n",
    "        - list, dict, set\n",
    "        - EX) lis.append('a') 를 해서 lis 를 update 했다고 하자. 그러면 list 의 주소는 그대로인 상태로 그 리스트가 바뀌게 된다. 즉 '주소가 그대로' 인데 그 값이 변경될 수 있다.\n",
    "        - inplace 연산이 있다.\n",
    "- 왜 mutable/immutable 이 있을까?\n",
    "    - 이는 바로 성능적인 이점떄문\n",
    "    - mutable 인 경우 많은 메소드 적용 가능(append)\n",
    "    - immutable 은 많은 메소드를 적용하지 못하나, 메모리상의 이점이 있음\n",
    "        - mutable 에 계속 for문 돌리면서 변경하면 메모리 부족하게 된다.\n",
    "        - 또는 mutable 의 객체를 계속 형성하고 삭제하지 않으면 메모리를 잡아먹는다.\n",
    "        - 그래서 dict 의 연산시 메모리를 절약하기 위해서 tuple 로 바꾼다음에 연산을 한 다음 dict 로 다시 바꾸는 경우도 있다."
   ]
  },
  {
   "cell_type": "markdown",
   "id": "collective-capitol",
   "metadata": {},
   "source": [
    "**변경**"
   ]
  },
  {
   "cell_type": "markdown",
   "id": "according-arrival",
   "metadata": {},
   "source": [
    "- mutable 에서는 변경한 경우에도 그 id(주소) 는 그대로 유지된다."
   ]
  },
  {
   "cell_type": "code",
   "execution_count": 44,
   "id": "irish-mambo",
   "metadata": {
    "scrolled": true
   },
   "outputs": [
    {
     "name": "stdout",
     "output_type": "stream",
     "text": [
      "1907297816840\n",
      "1907297816840\n"
     ]
    }
   ],
   "source": [
    "a = [1,2,3]\n",
    "print(id(a))\n",
    "a[0] = 9\n",
    "print(id(a))"
   ]
  },
  {
   "cell_type": "markdown",
   "id": "eight-asset",
   "metadata": {},
   "source": [
    "- immutable 에서는 아래와 같이 변경을 시도하게 되면 에러가 뜬다."
   ]
  },
  {
   "cell_type": "code",
   "execution_count": 45,
   "id": "surgical-operations",
   "metadata": {
    "scrolled": true
   },
   "outputs": [
    {
     "name": "stdout",
     "output_type": "stream",
     "text": [
      "1907193470448\n"
     ]
    },
    {
     "ename": "TypeError",
     "evalue": "'str' object does not support item assignment",
     "output_type": "error",
     "traceback": [
      "\u001b[1;31m---------------------------------------------------------------------------\u001b[0m",
      "\u001b[1;31mTypeError\u001b[0m                                 Traceback (most recent call last)",
      "\u001b[1;32m<ipython-input-45-b0c9d405b2d0>\u001b[0m in \u001b[0;36m<module>\u001b[1;34m\u001b[0m\n\u001b[0;32m      1\u001b[0m \u001b[0ma\u001b[0m \u001b[1;33m=\u001b[0m \u001b[1;34m'string'\u001b[0m\u001b[1;33m\u001b[0m\u001b[1;33m\u001b[0m\u001b[0m\n\u001b[0;32m      2\u001b[0m \u001b[0mprint\u001b[0m\u001b[1;33m(\u001b[0m\u001b[0mid\u001b[0m\u001b[1;33m(\u001b[0m\u001b[0ma\u001b[0m\u001b[1;33m)\u001b[0m\u001b[1;33m)\u001b[0m\u001b[1;33m\u001b[0m\u001b[1;33m\u001b[0m\u001b[0m\n\u001b[1;32m----> 3\u001b[1;33m \u001b[0ma\u001b[0m\u001b[1;33m[\u001b[0m\u001b[1;36m0\u001b[0m\u001b[1;33m]\u001b[0m \u001b[1;33m=\u001b[0m \u001b[1;34m't'\u001b[0m\u001b[1;33m\u001b[0m\u001b[1;33m\u001b[0m\u001b[0m\n\u001b[0m",
      "\u001b[1;31mTypeError\u001b[0m: 'str' object does not support item assignment"
     ]
    }
   ],
   "source": [
    "a = 'string'\n",
    "print(id(a))\n",
    "a[0] = 't'"
   ]
  },
  {
   "cell_type": "markdown",
   "id": "dynamic-interface",
   "metadata": {},
   "source": [
    "**할당**"
   ]
  },
  {
   "cell_type": "markdown",
   "id": "regulation-university",
   "metadata": {},
   "source": [
    "- mutable\n",
    "- b=a 를 하게 되면, 변수명은 다를지어도, 같은 메모리 주소를 바라보게 된다. \n",
    "- 즉 mutable 의 경우 b를 변경하게 되면 a 도 바뀐다."
   ]
  },
  {
   "cell_type": "code",
   "execution_count": 47,
   "id": "driving-southeast",
   "metadata": {},
   "outputs": [
    {
     "data": {
      "text/plain": [
       "[1, 2, 3]"
      ]
     },
     "execution_count": 47,
     "metadata": {},
     "output_type": "execute_result"
    }
   ],
   "source": [
    "a = [1,2,3]\n",
    "b = a \n",
    "b = [3,4,3]\n",
    "a"
   ]
  },
  {
   "cell_type": "markdown",
   "id": "black-driving",
   "metadata": {},
   "source": [
    "- immutable 의 경우는 좀 다르다. \n",
    "- 애초에 객체가 변경 불가능하기 때문에, 바뀐다는것은, 메모리 주소도 새로이 할당된다는 것이다.\n",
    "- 그러므로 아래와 같이, id 가 바뀌게된다."
   ]
  },
  {
   "cell_type": "code",
   "execution_count": 50,
   "id": "filled-advantage",
   "metadata": {},
   "outputs": [
    {
     "name": "stdout",
     "output_type": "stream",
     "text": [
      "abc\n"
     ]
    }
   ],
   "source": [
    "a = 'abc'\n",
    "b = a \n",
    "b.upper() # 모두 대문자로 바꾸어본다.\n",
    "print(a) # a는 바뀌지 않았다."
   ]
  },
  {
   "cell_type": "markdown",
   "id": "empirical-poverty",
   "metadata": {},
   "source": [
    "## 객체"
   ]
  },
  {
   "cell_type": "markdown",
   "id": "noted-harbor",
   "metadata": {},
   "source": [
    "- 객체란?\n",
    "    - 객체는 어떤 속성값과 행동을 가지고 있는 데이타이다.\n",
    "    - 파이썬의 모든것들은 여러 속성과 행동을 가지고 있다. (즉 그 본연의 개념만 아니라, 다양한 정보와 행동을 가지고 있다는 뜻 )\n",
    "        - 예를 들어 '안녕' 이라는 문자열은 그냥 안녕 이라는 string 의 의미 뿐만 아니라, join,upper,..... 등의 메서드도 같이 가지고 있는 '객체' 인 것이다.\n",
    "    - 파이썬은 모든것을 객체로 취급한다.\n",
    "- 객체의 저장\n",
    "    - 파이썬에서 객체가 생성된다는것은, 객체의 속성값들을 포함한 정보가 생성된다는것이다.\n",
    "    - 이러한 정보들은 컴퓨터'내' 에 저장되어야 한다. \n",
    "    - 하지만 객체는 빠르게 연산되여야 하기 때문에 하드디스크가 아니라 메모리 위에 올라가게 된다.\n",
    "    - 즉! 메모리 위에 객체들이 올라갈때마다 메모리에 용량을 차지하게 된다.\n",
    "- 메모리\n",
    "    - 하지만 우리가 가진 메모리는 대게 8 ~ 16G 이다. \n",
    "    - 메모리에 올라간 객체들이 사용되지 않으면, 메모리 용량을 차지하지 않도록 지워야 컴퓨터 속도가 떨어지지 않는다.\n",
    "    - 이 때에 GC(galbage collector) 라 불리는 파이썬 내부에 사용되지 않는 파이썬 객체들을 자동으로 중간중간 제거해준다.\n",
    "\n"
   ]
  },
  {
   "cell_type": "markdown",
   "id": "supreme-montgomery",
   "metadata": {},
   "source": [
    "## 변수"
   ]
  },
  {
   "cell_type": "markdown",
   "id": "southern-garbage",
   "metadata": {},
   "source": [
    "**변수 이름 정하기**"
   ]
  },
  {
   "cell_type": "markdown",
   "id": "satisfied-petite",
   "metadata": {},
   "source": [
    "1. 의미를 알 수 있게 하자.\n",
    "2. 소문자 ‘l’/대문자 ‘O’/대문자 ‘I’는 피하자.\n",
    "3. 변수와 함수의 이름은 소문자로만 구성한다.\n",
    "4. 문자열의 연결은 언더스코어 (_) 사용\n",
    "5. 클래스의 이름은 CapWords 스타일로.(즉 첫자만 대문자)\n",
    "6. 상수는 모두 대문자로 표시한다.\n"
   ]
  },
  {
   "cell_type": "markdown",
   "id": "inclusive-metabolism",
   "metadata": {},
   "source": [
    "## iterable"
   ]
  },
  {
   "cell_type": "markdown",
   "id": "failing-polymer",
   "metadata": {},
   "source": [
    "- iterable\n",
    "    - 반복 가능한 개체\n",
    "    - list, dict, set, str, tuple, range 의 객체들이 대표적이다. "
   ]
  },
  {
   "cell_type": "markdown",
   "id": "demanding-banner",
   "metadata": {},
   "source": [
    "# 파이썬 중급"
   ]
  },
  {
   "cell_type": "markdown",
   "id": "recovered-bench",
   "metadata": {},
   "source": [
    "## 잡다상식"
   ]
  },
  {
   "cell_type": "markdown",
   "id": "entire-leone",
   "metadata": {},
   "source": [
    "- 빈 Sequence(String / Tuple / List)는 False 값을 가진다."
   ]
  },
  {
   "cell_type": "markdown",
   "id": "sophisticated-fountain",
   "metadata": {},
   "source": [
    "## Name space"
   ]
  },
  {
   "cell_type": "markdown",
   "id": "desirable-executive",
   "metadata": {},
   "source": [
    "- 변수에 객체를 할당하면, 변수와 변수에 연결된 객체는 딕셔너리형태(key, value)로 연결되어 네임스페이스 안에 저장됩니다."
   ]
  },
  {
   "cell_type": "markdown",
   "id": "curious-corrections",
   "metadata": {},
   "source": [
    "- globals() 함수를 통해 현재 global space 내의 전체 namespace 들을 살펴볼 수 있다."
   ]
  },
  {
   "cell_type": "code",
   "execution_count": 33,
   "id": "bulgarian-swaziland",
   "metadata": {
    "scrolled": true
   },
   "outputs": [
    {
     "name": "stdout",
     "output_type": "stream",
     "text": [
      "{'__name__': '__main__', '__doc__': 'Automatically created module for IPython interactive environment', '__package__': None, '__loader__': None, '__spec__': None, '__builtin__': <module 'builtins' (built-in)>, '__builtins__': <module 'builtins' (built-in)>, '_ih': ['', \"Image('./image/name_space1.png')\", 'import numpy as np\\nimport pandas as pd\\nfrom IPython.display import Image', \"Image('./image/name_space1.png')\", \"a = 3\\ndef func():\\n    a = 100\\n    b = 'python'\\nfunc()\\nprint(globals())\", \"a = 3\\ndef func():\\n    a = 100\\n    b = 'python'\\nprint(globals())\", \"a = 3\\ndef func():\\n    a = 100\\n    b = 'python'\\nfunc()\\nprint(globals())\", \"a = 3\\nc = 'Hello'\\ndef func():\\n    a = 100\\n    b = 'python'\\n    print('함수 내부 namespace', locals())\\nfunc()\", \"a = 3\\nc = 'Hello'\\ndef func():\\n    a = 100\\n    b = 'python'\\n    print('함수 내부 namespace', locals())\\nfunc()\", \"a = 100\\n\\ndef func():\\n    def inner():\\n        b = 'python'\\n    inner()\\n    print(a)\\n    print(b)\\nfunc()\", 'max([1,2,3])', '# 리스트의 모든 값을 정수로 변환하고 싶다고 하자.\\n# MAP 함수를 모른다면 아래와 같이 for 문으로 일일히 int 함수를 적용시켜야 한다.\\nlis = [1.2, 2.5, 3.7, 4.6]\\nfor i in range(len(lis)):\\n    lis[i] = int(lis[i])\\nlis', '# 하지만 아래와 같이 적용 가능\\nlis = list(map(int, lis))\\nlis', \"print('x')\\nprint('y')\", \"a = 10, b = 20\\nprint('x') ; print('y')\\nprint('x',end = ' ') ; print('y',end = ' ')\", \"a = 10, b = 20\\nprint('x') ; print('y')\\nprint('x',end = ' ') ; print('y',end = ' ')\", \"a = 10 ; b = 20\\nprint('x') ; print('y')\\nprint('x',end = ' ') ; print('y',end = ' ')\", \"a = 10 ; b = 20\\nprint('x') ; print('y') # x,y 가 줄바꿈으로 구분되어 출력되고있다.\\nprint('x',end = ' ') ; print('y',end = ' ') # x,y 가 띄어쓰기를 경계로 구분되고 있다.\", \"a = 10 ; b = 20\\nprint('x') ; print('y') # x,y 가 줄바꿈으로 구분되어 출력되고있다.\\nprint('x',end = ' ') ; print('y',end = ' ') # x,y 가 띄어쓰기를 경계로 구분되고 있다.\", \"a = 10 ; b = 20\\nprint('x') ; print('y') # x,y 가 줄바꿈으로 구분되어 출력되고있다.\\nprint('x',end = ' ') ; print('y',end = ' ') # x,y 가 띄어쓰기를 경계로 구분되고 있다.\\nprint('f{a}와{b}')\", \"a = 10 ; b = 20\\nprint('x') ; print('y') # x,y 가 줄바꿈으로 구분되어 출력되고있다.\\nprint('x',end = ' ') ; print('y',end = ' ') # x,y 가 띄어쓰기를 경계로 구분되고 있다.\\nprint(f'{a}와{b}')\", \"a = 10 ; b = 20\\nprint('x') ; print('y') # x,y 가 줄바꿈으로 구분되어 출력되고있다.\\nprint('x',end = ' ') ; print('y') # x,y 가 띄어쓰기를 경계로 구분되고 있다.\\nprint(f'{a}와{b}')\", \"a = 10 ; b = 20\\nprint('x') ; print('y') # x,y 가 줄바꿈으로 구분되어 출력되고있다.\\nprint('x',end = ' ') ; print('y') # x,y 가 띄어쓰기를 경계로 구분되고 있다.\\nprint(f'{a}와{b}') # f strn\", \"a = 10 ; b = 20\\nprint('x') ; print('y') # x,y 가 줄바꿈으로 구분되어 출력되고있다.\\nprint('x',end = ' ') ; print('y') # x,y 가 띄어쓰기를 경계로 구분되고 있다.\\nprint(f'{a}와{b}') # f string 을 이용해 변수의 '값' 을 출력하고 있는 모습\", \"a = 10 ; b = 20\\nprint('x') ; print('y') # x,y 가 줄바꿈으로 구분되어 출력되고있다.\\nprint('x',end = ' ') ; print('y') # x,y 가 띄어쓰기를 경계로 구분되고 있다.\\nprint(f'{a} 와 {b}') # f string 을 이용해 변수의 '값' 을 출력하고 있는 모습\", '2^20', '2**30', '2**32', '2**64', '2**65', '2**100', '2**240', '2**1000', \"a = 3\\ndef func():\\n    a = 100\\n    b = 'python'\\nfunc()\\nprint(globals())\"], '_oh': {3: <IPython.core.display.Image object>, 10: 3, 11: [1, 2, 3, 4], 12: [1, 2, 3, 4], 25: 22, 26: 1073741824, 27: 4294967296, 28: 18446744073709551616, 29: 36893488147419103232, 30: 1267650600228229401496703205376, 31: 1766847064778384329583297500742918515827483896875618958121606201292619776, 32: 10715086071862673209484250490600018105614048117055336074437503883703510511249361224931983788156958581275946729175531468251871452856923140435984577574698574803934567774824230985421074605062371141877954182153046474983581941267398767559165543946077062914571196477686542167660429831652624386837205668069376}, '_dh': ['C:\\\\Users\\\\goran\\\\Desktop\\\\Git_Hub\\\\Algorithm\\\\Python'], 'In': ['', \"Image('./image/name_space1.png')\", 'import numpy as np\\nimport pandas as pd\\nfrom IPython.display import Image', \"Image('./image/name_space1.png')\", \"a = 3\\ndef func():\\n    a = 100\\n    b = 'python'\\nfunc()\\nprint(globals())\", \"a = 3\\ndef func():\\n    a = 100\\n    b = 'python'\\nprint(globals())\", \"a = 3\\ndef func():\\n    a = 100\\n    b = 'python'\\nfunc()\\nprint(globals())\", \"a = 3\\nc = 'Hello'\\ndef func():\\n    a = 100\\n    b = 'python'\\n    print('함수 내부 namespace', locals())\\nfunc()\", \"a = 3\\nc = 'Hello'\\ndef func():\\n    a = 100\\n    b = 'python'\\n    print('함수 내부 namespace', locals())\\nfunc()\", \"a = 100\\n\\ndef func():\\n    def inner():\\n        b = 'python'\\n    inner()\\n    print(a)\\n    print(b)\\nfunc()\", 'max([1,2,3])', '# 리스트의 모든 값을 정수로 변환하고 싶다고 하자.\\n# MAP 함수를 모른다면 아래와 같이 for 문으로 일일히 int 함수를 적용시켜야 한다.\\nlis = [1.2, 2.5, 3.7, 4.6]\\nfor i in range(len(lis)):\\n    lis[i] = int(lis[i])\\nlis', '# 하지만 아래와 같이 적용 가능\\nlis = list(map(int, lis))\\nlis', \"print('x')\\nprint('y')\", \"a = 10, b = 20\\nprint('x') ; print('y')\\nprint('x',end = ' ') ; print('y',end = ' ')\", \"a = 10, b = 20\\nprint('x') ; print('y')\\nprint('x',end = ' ') ; print('y',end = ' ')\", \"a = 10 ; b = 20\\nprint('x') ; print('y')\\nprint('x',end = ' ') ; print('y',end = ' ')\", \"a = 10 ; b = 20\\nprint('x') ; print('y') # x,y 가 줄바꿈으로 구분되어 출력되고있다.\\nprint('x',end = ' ') ; print('y',end = ' ') # x,y 가 띄어쓰기를 경계로 구분되고 있다.\", \"a = 10 ; b = 20\\nprint('x') ; print('y') # x,y 가 줄바꿈으로 구분되어 출력되고있다.\\nprint('x',end = ' ') ; print('y',end = ' ') # x,y 가 띄어쓰기를 경계로 구분되고 있다.\", \"a = 10 ; b = 20\\nprint('x') ; print('y') # x,y 가 줄바꿈으로 구분되어 출력되고있다.\\nprint('x',end = ' ') ; print('y',end = ' ') # x,y 가 띄어쓰기를 경계로 구분되고 있다.\\nprint('f{a}와{b}')\", \"a = 10 ; b = 20\\nprint('x') ; print('y') # x,y 가 줄바꿈으로 구분되어 출력되고있다.\\nprint('x',end = ' ') ; print('y',end = ' ') # x,y 가 띄어쓰기를 경계로 구분되고 있다.\\nprint(f'{a}와{b}')\", \"a = 10 ; b = 20\\nprint('x') ; print('y') # x,y 가 줄바꿈으로 구분되어 출력되고있다.\\nprint('x',end = ' ') ; print('y') # x,y 가 띄어쓰기를 경계로 구분되고 있다.\\nprint(f'{a}와{b}')\", \"a = 10 ; b = 20\\nprint('x') ; print('y') # x,y 가 줄바꿈으로 구분되어 출력되고있다.\\nprint('x',end = ' ') ; print('y') # x,y 가 띄어쓰기를 경계로 구분되고 있다.\\nprint(f'{a}와{b}') # f strn\", \"a = 10 ; b = 20\\nprint('x') ; print('y') # x,y 가 줄바꿈으로 구분되어 출력되고있다.\\nprint('x',end = ' ') ; print('y') # x,y 가 띄어쓰기를 경계로 구분되고 있다.\\nprint(f'{a}와{b}') # f string 을 이용해 변수의 '값' 을 출력하고 있는 모습\", \"a = 10 ; b = 20\\nprint('x') ; print('y') # x,y 가 줄바꿈으로 구분되어 출력되고있다.\\nprint('x',end = ' ') ; print('y') # x,y 가 띄어쓰기를 경계로 구분되고 있다.\\nprint(f'{a} 와 {b}') # f string 을 이용해 변수의 '값' 을 출력하고 있는 모습\", '2^20', '2**30', '2**32', '2**64', '2**65', '2**100', '2**240', '2**1000', \"a = 3\\ndef func():\\n    a = 100\\n    b = 'python'\\nfunc()\\nprint(globals())\"], 'Out': {3: <IPython.core.display.Image object>, 10: 3, 11: [1, 2, 3, 4], 12: [1, 2, 3, 4], 25: 22, 26: 1073741824, 27: 4294967296, 28: 18446744073709551616, 29: 36893488147419103232, 30: 1267650600228229401496703205376, 31: 1766847064778384329583297500742918515827483896875618958121606201292619776, 32: 10715086071862673209484250490600018105614048117055336074437503883703510511249361224931983788156958581275946729175531468251871452856923140435984577574698574803934567774824230985421074605062371141877954182153046474983581941267398767559165543946077062914571196477686542167660429831652624386837205668069376}, 'get_ipython': <bound method InteractiveShell.get_ipython of <ipykernel.zmqshell.ZMQInteractiveShell object at 0x000001BC11A5C248>>, 'exit': <IPython.core.autocall.ZMQExitAutocall object at 0x000001BC11A0A508>, 'quit': <IPython.core.autocall.ZMQExitAutocall object at 0x000001BC11A0A508>, '_': 10715086071862673209484250490600018105614048117055336074437503883703510511249361224931983788156958581275946729175531468251871452856923140435984577574698574803934567774824230985421074605062371141877954182153046474983581941267398767559165543946077062914571196477686542167660429831652624386837205668069376, '__': 1766847064778384329583297500742918515827483896875618958121606201292619776, '___': 1267650600228229401496703205376, '_i': '2**1000', '_ii': '2**240', '_iii': '2**100', '_i1': \"Image('./image/name_space1.png')\", '_i2': 'import numpy as np\\nimport pandas as pd\\nfrom IPython.display import Image', 'np': <module 'numpy' from 'C:\\\\Users\\\\goran\\\\Anaconda3\\\\envs\\\\tensor\\\\lib\\\\site-packages\\\\numpy\\\\__init__.py'>, 'pd': <module 'pandas' from 'C:\\\\Users\\\\goran\\\\Anaconda3\\\\envs\\\\tensor\\\\lib\\\\site-packages\\\\pandas\\\\__init__.py'>, 'Image': <class 'IPython.core.display.Image'>, '_i3': \"Image('./image/name_space1.png')\", '_3': <IPython.core.display.Image object>, '_i4': \"a = 3\\ndef func():\\n    a = 100\\n    b = 'python'\\nfunc()\\nprint(globals())\", 'a': 3, 'func': <function func at 0x000001BC13CEC708>, '_i5': \"a = 3\\ndef func():\\n    a = 100\\n    b = 'python'\\nprint(globals())\", '_i6': \"a = 3\\ndef func():\\n    a = 100\\n    b = 'python'\\nfunc()\\nprint(globals())\", '_i7': \"a = 3\\nc = 'Hello'\\ndef func():\\n    a = 100\\n    b = 'python'\\n    print('함수 내부 namespace', locals())\\nfunc()\", 'c': 'Hello', '_i8': \"a = 3\\nc = 'Hello'\\ndef func():\\n    a = 100\\n    b = 'python'\\n    print('함수 내부 namespace', locals())\\nfunc()\", '_i9': \"a = 100\\n\\ndef func():\\n    def inner():\\n        b = 'python'\\n    inner()\\n    print(a)\\n    print(b)\\nfunc()\", '_i10': 'max([1,2,3])', '_10': 3, '_i11': '# 리스트의 모든 값을 정수로 변환하고 싶다고 하자.\\n# MAP 함수를 모른다면 아래와 같이 for 문으로 일일히 int 함수를 적용시켜야 한다.\\nlis = [1.2, 2.5, 3.7, 4.6]\\nfor i in range(len(lis)):\\n    lis[i] = int(lis[i])\\nlis', 'lis': [1, 2, 3, 4], 'i': 3, '_11': [1, 2, 3, 4], '_i12': '# 하지만 아래와 같이 적용 가능\\nlis = list(map(int, lis))\\nlis', '_12': [1, 2, 3, 4], '_i13': \"print('x')\\nprint('y')\", '_i14': \"a = 10, b = 20\\nprint('x') ; print('y')\\nprint('x',end = ' ') ; print('y',end = ' ')\", '_i15': \"a = 10, b = 20\\nprint('x') ; print('y')\\nprint('x',end = ' ') ; print('y',end = ' ')\", '_i16': \"a = 10 ; b = 20\\nprint('x') ; print('y')\\nprint('x',end = ' ') ; print('y',end = ' ')\", 'b': 20, '_i17': \"a = 10 ; b = 20\\nprint('x') ; print('y') # x,y 가 줄바꿈으로 구분되어 출력되고있다.\\nprint('x',end = ' ') ; print('y',end = ' ') # x,y 가 띄어쓰기를 경계로 구분되고 있다.\", '_i18': \"a = 10 ; b = 20\\nprint('x') ; print('y') # x,y 가 줄바꿈으로 구분되어 출력되고있다.\\nprint('x',end = ' ') ; print('y',end = ' ') # x,y 가 띄어쓰기를 경계로 구분되고 있다.\", '_i19': \"a = 10 ; b = 20\\nprint('x') ; print('y') # x,y 가 줄바꿈으로 구분되어 출력되고있다.\\nprint('x',end = ' ') ; print('y',end = ' ') # x,y 가 띄어쓰기를 경계로 구분되고 있다.\\nprint('f{a}와{b}')\", '_i20': \"a = 10 ; b = 20\\nprint('x') ; print('y') # x,y 가 줄바꿈으로 구분되어 출력되고있다.\\nprint('x',end = ' ') ; print('y',end = ' ') # x,y 가 띄어쓰기를 경계로 구분되고 있다.\\nprint(f'{a}와{b}')\", '_i21': \"a = 10 ; b = 20\\nprint('x') ; print('y') # x,y 가 줄바꿈으로 구분되어 출력되고있다.\\nprint('x',end = ' ') ; print('y') # x,y 가 띄어쓰기를 경계로 구분되고 있다.\\nprint(f'{a}와{b}')\", '_i22': \"a = 10 ; b = 20\\nprint('x') ; print('y') # x,y 가 줄바꿈으로 구분되어 출력되고있다.\\nprint('x',end = ' ') ; print('y') # x,y 가 띄어쓰기를 경계로 구분되고 있다.\\nprint(f'{a}와{b}') # f strn\", '_i23': \"a = 10 ; b = 20\\nprint('x') ; print('y') # x,y 가 줄바꿈으로 구분되어 출력되고있다.\\nprint('x',end = ' ') ; print('y') # x,y 가 띄어쓰기를 경계로 구분되고 있다.\\nprint(f'{a}와{b}') # f string 을 이용해 변수의 '값' 을 출력하고 있는 모습\", '_i24': \"a = 10 ; b = 20\\nprint('x') ; print('y') # x,y 가 줄바꿈으로 구분되어 출력되고있다.\\nprint('x',end = ' ') ; print('y') # x,y 가 띄어쓰기를 경계로 구분되고 있다.\\nprint(f'{a} 와 {b}') # f string 을 이용해 변수의 '값' 을 출력하고 있는 모습\", '_i25': '2^20', '_25': 22, '_i26': '2**30', '_26': 1073741824, '_i27': '2**32', '_27': 4294967296, '_i28': '2**64', '_28': 18446744073709551616, '_i29': '2**65', '_29': 36893488147419103232, '_i30': '2**100', '_30': 1267650600228229401496703205376, '_i31': '2**240', '_31': 1766847064778384329583297500742918515827483896875618958121606201292619776, '_i32': '2**1000', '_32': 10715086071862673209484250490600018105614048117055336074437503883703510511249361224931983788156958581275946729175531468251871452856923140435984577574698574803934567774824230985421074605062371141877954182153046474983581941267398767559165543946077062914571196477686542167660429831652624386837205668069376, '_i33': \"a = 3\\ndef func():\\n    a = 100\\n    b = 'python'\\nfunc()\\nprint(globals())\"}\n"
     ]
    }
   ],
   "source": [
    "a = 3\n",
    "def func():\n",
    "    a = 100\n",
    "    b = 'python'\n",
    "func()\n",
    "print(globals())"
   ]
  },
  {
   "cell_type": "markdown",
   "id": "primary-circulation",
   "metadata": {},
   "source": [
    "- 함수는 함수만의 별도로 구분된 네임 스페이스 공간을 가진다.\n",
    "- locals() 함수는 실행하는 공간의 namespace 를 출력해준다. 함수 안에서 locals 함수를 실행했기 때문에 함수 안의 namespace 를 출력하게 된다."
   ]
  },
  {
   "cell_type": "code",
   "execution_count": 34,
   "id": "graphic-grill",
   "metadata": {
    "scrolled": true
   },
   "outputs": [
    {
     "name": "stdout",
     "output_type": "stream",
     "text": [
      "함수 내부 namespace {'a': 100, 'b': 'python'}\n"
     ]
    }
   ],
   "source": [
    "a = 3\n",
    "c = 'Hello'\n",
    "def func():\n",
    "    a = 100\n",
    "    b = 'python'\n",
    "    print('함수 내부 namespace', locals())\n",
    "func()"
   ]
  },
  {
   "cell_type": "markdown",
   "id": "mysterious-austria",
   "metadata": {},
   "source": [
    "- 함수 안에 함수를 또 생성하게 되면 어떻게 될까?\n",
    "- 아래와 같이 다른 함수안에 있어도, 별도의 namespace 를 가지게 되는것을 확인할 수 있다."
   ]
  },
  {
   "cell_type": "code",
   "execution_count": 35,
   "id": "occupied-cooking",
   "metadata": {
    "scrolled": true
   },
   "outputs": [
    {
     "name": "stdout",
     "output_type": "stream",
     "text": [
      "외부 함수 내부 namespace {'a': 100, 'b': 'python'}\n",
      "내부 함수 내부 namespace {}\n"
     ]
    }
   ],
   "source": [
    "a = 3\n",
    "c = 'Hello'\n",
    "def func():\n",
    "    a = 100\n",
    "    b = 'python'\n",
    "    print('외부 함수 내부 namespace', locals())\n",
    "    def inner_func():\n",
    "        print('내부 함수 내부 namespace', locals())\n",
    "    inner_func()\n",
    "func()"
   ]
  },
  {
   "cell_type": "markdown",
   "id": "considered-essex",
   "metadata": {},
   "source": [
    "**네임스페이스 참조**"
   ]
  },
  {
   "cell_type": "markdown",
   "id": "sporting-stations",
   "metadata": {},
   "source": [
    "- 네임 스페이스가 다르면 값을 참조할 수 없다."
   ]
  },
  {
   "cell_type": "code",
   "execution_count": 40,
   "id": "controlled-bargain",
   "metadata": {},
   "outputs": [
    {
     "ename": "NameError",
     "evalue": "name 'kk' is not defined",
     "output_type": "error",
     "traceback": [
      "\u001b[1;31m---------------------------------------------------------------------------\u001b[0m",
      "\u001b[1;31mNameError\u001b[0m                                 Traceback (most recent call last)",
      "\u001b[1;32m<ipython-input-40-6dce96a9c0a2>\u001b[0m in \u001b[0;36m<module>\u001b[1;34m\u001b[0m\n\u001b[0;32m      1\u001b[0m \u001b[1;32mdef\u001b[0m \u001b[0mfunc\u001b[0m\u001b[1;33m(\u001b[0m\u001b[1;33m)\u001b[0m\u001b[1;33m:\u001b[0m\u001b[1;33m\u001b[0m\u001b[1;33m\u001b[0m\u001b[0m\n\u001b[0;32m      2\u001b[0m       \u001b[0mkk\u001b[0m \u001b[1;33m=\u001b[0m \u001b[1;36m3\u001b[0m\u001b[1;33m\u001b[0m\u001b[1;33m\u001b[0m\u001b[0m\n\u001b[1;32m----> 3\u001b[1;33m \u001b[0mprint\u001b[0m\u001b[1;33m(\u001b[0m\u001b[0mkk\u001b[0m\u001b[1;33m)\u001b[0m\u001b[1;33m\u001b[0m\u001b[1;33m\u001b[0m\u001b[0m\n\u001b[0m",
      "\u001b[1;31mNameError\u001b[0m: name 'kk' is not defined"
     ]
    }
   ],
   "source": [
    "def func():\n",
    "      kk = 3\n",
    "print(kk)"
   ]
  },
  {
   "cell_type": "markdown",
   "id": "adjusted-admission",
   "metadata": {},
   "source": [
    "- 하지만 global 변수(정확하게는 상위층의 변수)를 참조할 수 있습니다."
   ]
  },
  {
   "cell_type": "code",
   "execution_count": 41,
   "id": "quarterly-express",
   "metadata": {
    "scrolled": true
   },
   "outputs": [
    {
     "name": "stdout",
     "output_type": "stream",
     "text": [
      "100\n",
      "20\n"
     ]
    }
   ],
   "source": [
    "a = 100\n",
    "def func():\n",
    "    def inner():\n",
    "        b = 'python'\n",
    "    inner()\n",
    "    print(a)\n",
    "    print(b)\n",
    "func()"
   ]
  },
  {
   "cell_type": "code",
   "execution_count": 42,
   "id": "certain-hydrogen",
   "metadata": {
    "scrolled": true
   },
   "outputs": [
    {
     "data": {
      "image/png": "[encoded data removed]",
      "text/plain": [
       "<IPython.core.display.Image object>"
      ]
     },
     "execution_count": 42,
     "metadata": {},
     "output_type": "execute_result"
    }
   ],
   "source": [
    "Image('./image/name_space1.png')"
   ]
  },
  {
   "cell_type": "markdown",
   "id": "afraid-percentage",
   "metadata": {},
   "source": [
    "**왜 분리하였을까?**"
   ]
  },
  {
   "cell_type": "markdown",
   "id": "monetary-cornell",
   "metadata": {},
   "source": [
    "- 함수별로 네임스페이스가 분리되어있지 않고, 하나로 관리된다면 함수를 만드는데에 복잡한 고려사항이 생긴다.\n",
    "    - 함수를 만들때에 모든 변수를 겹치지 않게 만들어야 하게 되고,\n",
    "    - 또 여러 모듈의 함수를 합칠때에 변수의 이름이 겹치지 않게 주의해야한다.\n",
    "- 위 같은 충돌이 생기지 않게 하기 위해서, 분리하여 관리하게 된다."
   ]
  },
  {
   "cell_type": "markdown",
   "id": "bibliographic-startup",
   "metadata": {},
   "source": [
    "## import"
   ]
  },
  {
   "cell_type": "markdown",
   "id": "adult-pearl",
   "metadata": {},
   "source": [
    "- 파이썬에서 module 은 파이썬 코드를 담고 있는 파일이다. 해당 파일에는 파이썬 클래스, 함수 또는 단순하게 names 의 리스트가 들어있을 수 있다.\n",
    "- 모듈은 자신만의 유일한 namespace 를 갖는다.(모듈의 namespace 이름은 보통 모듈의 파일이름과 같다.) 그래서 동일한 모듈내에서 동일한 이름을 가지는 클래스나 함수를 정의할 수 없다. 또한 모듈은 각각 완벽하게 독립적(isolated)이기 때문에(namespace 가 다르기 때문에), 두 모듈은 동일한 이름을 갖는 클래스나 함수를 정의할 수 있다."
   ]
  },
  {
   "cell_type": "markdown",
   "id": "macro-processing",
   "metadata": {},
   "source": [
    "- import 명령을 가지고 namespace 에 대해서 조금 더 알아보도록 하자. module 을 import 하는 방법은 여러가지가 있다. 방법에 따라 namespace 가 달라 질 수가 있다.\n",
    "\n",
    "**1. import (module_name)**\n",
    "\n",
    "모듈을 import 하는 가장 간단한 방법이고, 일반적으로 추천되는 방법이다. 이렇게 import 를 하게 되면 module 의 name 을 prefix 로 사용함으로써 모듈의 namespace 에 접근할 수 있다.\n",
    "\n",
    "\n",
    "**2. from (module_name) import (name)**\n",
    "\n",
    "모듈의 namespace 에서 import 에서 지정된 name 들을 직접 가져오도록 한다. 이렇게 하게 되면 import 이후에 지정한 name 들은 module 의 name을 prefix 로 지정하지 않고도 접근이 가능하다. 하지만, 이 경우에 module 에서 import 된 이름과 main script 에서 지정된 이름이 동일한 경우, 나중에 정의되는 이름으로 대체되어서 이전 것에 접근이 불가능하게 된다.\n",
    "\n",
    "**3. from (module_name) import ***\n",
    "\n",
    "2 와 동일하지만, module 에 있는 모든 name 을 직접 현재 namespace 로 가져오게 된다. 이렇게 되면 namespace 가 섞이게 되어서 일반적으로 사용을 권장하지 않는다. 차라리 첫번째 타입(1번)의 import 를 사용하는 것이 좋다."
   ]
  },
  {
   "cell_type": "markdown",
   "id": "attempted-democracy",
   "metadata": {},
   "source": [
    "## Overflow"
   ]
  },
  {
   "cell_type": "markdown",
   "id": "artificial-breakdown",
   "metadata": {},
   "source": [
    "- 파이썬 2에서는 정수형 데이터 타입이 int와 long 두 가지가 있었는데, int는 C에서의 그것과 같은 4바이트 데이터형이고, long은 arbitrary precision을 따르는 데이터형이다. 그래서 int 타입 변수의 값이 표현 범위를 넘어서게 되면 자동으로 long으로 타입 변경이 되는 형식이었다.\n",
    "- 파이썬 3에서는 long 타입이 없어지고 int 타입만 남았는데, 이 int가 arbitrary precision을 지원하여 오버플로우가 발생하지 않게 되었다.\n",
    "    - arbitrary precision 이란 사용할 수 있는 메모리양이 정해져 있는 기존의 fixed-precision과 달리, 현재 남아있는 만큼의 가용 메모리를 모두 수 표현에 끌어다 쓸 수 있는 형태\n",
    "- 하지만 파이썬3에서도 pydata stack을 사용하는 numpy/pandas 같은 패키지를 사용할 때는 C 스타일이 유지되기 때문에 오버플로우 발생을 고려해야 한다."
   ]
  },
  {
   "cell_type": "markdown",
   "id": "deluxe-developer",
   "metadata": {},
   "source": [
    "## why python is slow?"
   ]
  },
  {
   "cell_type": "markdown",
   "id": "latest-trailer",
   "metadata": {},
   "source": [
    "**1. 파이썬은 동적 타입 언어이기 때문이다.**"
   ]
  },
  {
   "cell_type": "markdown",
   "id": "arctic-france",
   "metadata": {},
   "source": [
    "- 동적 타입 언어란 변수를 정의 할 때 그 자료형을 굳이 명시하지않아도 되는 언어다. \n",
    "- C나 Java처럼 반드시 표기해줘야하는 정적 타입언어와는 성격이 다르다.\n",
    "\n",
    "- 아래 표를 보자\n",
    "|c언어|파이썬|\n",
    "|---|---|\n",
    "|int a = 1; <br> int b = 2; <br> int c = a + b; |a = 1 <br>b = 2 <br>c = a+b |\n",
    "- C 언어\n",
    "    - 컴파일(이미 각 개체 자료형 판단 완료) -> a에 1을 할당 -> b에 2를 할당 -> 덧셈 루틴 호출 -> 결과를 c에 할당 // 끝\n",
    "    - 글로 써도 연산과정이 한 줄밖에 안 나올 정도로 간단하다\n",
    "- Py\n",
    "    - 개체 a에 1을 할당 -> a의 타입을 판단(정수) -> a의 값 = 1 설정 -> 개체 b에 2를 할당 -> b의 타입을 판단(정수) -> b의 값 = 2 설정 -> 덧셈 루틴 호출 -> a의 자료형 검색 -> a는 정수 -> b도 자료형 검색 -> b도 정수 -> 덧셈 루틴에 입력 ->정수형 결과값 도출 -> 개체 c 생성 -> c의 자료형을 정수로 설정 -> c에 덧셈한 결과값을 설정 // 끝\n",
    "    - 자료형을 판단해야하는 번거로움이 존재하여 매우 느리다."
   ]
  },
  {
   "cell_type": "markdown",
   "id": "descending-geology",
   "metadata": {},
   "source": [
    "**2. 파이썬은 인터프리터 언어이기 떄문이다.**\n",
    "- 컴파일러 / 인터프리터 둘다 C/자바같은 고레벨 언어를 기계어로 변환하는것은 같다. 하지만 아래와 같은 차이가 있다.\n",
    "- 컴파일러\n",
    "    - 컴파일러는 전체 소스코드를 보고 변환한다. \n",
    "    - 고레벨 언어를 바로 기계어로 변환한다.\n",
    "    - 전체 소스코드를 변환한 뒤, 에러를 보고한다. \n",
    "- 인터프리터\n",
    "    - 소스코드의 각 행을 단계적으로 분석하며 변환한다. \n",
    "    - 고레벨 언어를 바로 기계어로 변환하는것이 아니라, 중간형태로 변환한 다음 실행한다.\n",
    "    - 즉 각 행마다 실행하는 특성을 가지고 있다. 각 행마다 실행하는 도중 에러가 보고되면, 이후 작성된 코드를 살펴보지 않는다. "
   ]
  },
  {
   "cell_type": "markdown",
   "id": "digital-turning",
   "metadata": {},
   "source": [
    "**3. 파이썬 개체 모델은 비효율적 메모리 엑세스가 발생한다.**\n",
    "- 타입 판단' 및 '이미 판단한 타입을 검색'하는 등의 추가적인 과정이 메모리 사용량을 더 필요로 한다. \n",
    "- 즉 컴파일 언어라면 굳이 쓰지 않아도 될 메모리가 사용되고 있기 때문에 비효율적 메모리 액세스가 발생\n",
    "\n"
   ]
  },
  {
   "cell_type": "markdown",
   "id": "twenty-merit",
   "metadata": {},
   "source": [
    "## 시간복잡도"
   ]
  },
  {
   "cell_type": "markdown",
   "id": "finite-sally",
   "metadata": {},
   "source": [
    "**시간복잡도란?**\n",
    "- 알고리즘은 유한한 자원을 가진 환경에서 문제를 푸는 동작들의 모임이다.\n",
    "- 적은 시간과 적은 자원을 이용해 문제를 해결하는 알고리즘이 좋은 알고리즘이다.\n",
    "- 알고리즘 평가에 있어서, 2가지 척도가 있다.\n",
    "    - 시간 복잡도 \n",
    "        - 알고리즘이 문제를 해결하기 위한 시간(연산) 의 횟수를 말한다.\n",
    "    - 공간 복잡도\n",
    "        - 알고리즘의 메모리 사용량에 해당한다.\n",
    "- 알고리즘의 평가 기준에는 3가지 경우가 있다.\n",
    "    - 최선의 경우\n",
    "    - 평균적인 경우\n",
    "    - 최악의 경우\n",
    "- 평균적인 경우가 가장 이상적으로 보이지만 '평균' 은 많은 sample 들을 요구하기때문에 적절하지 않다. 즉 최악의 경우로 알고리즘의 성능을 파악한다.\n",
    "\n"
   ]
  },
  {
   "cell_type": "markdown",
   "id": "dimensional-egyptian",
   "metadata": {},
   "source": [
    "**어떻게 측정?**\n",
    "- Program 의 실행과정에서 Elementary Operation이란 프로그램의 진행정도를 나타내는 기본 단위이다.\n",
    "    - 대입연산\n",
    "    - 사칙연산\n",
    "    - 비교구문\n",
    "    - 함수호출\n",
    "- 알고리즘의 실행 순서를 따라가면서 Elementray Operation 이 일어나는 수를 측정한다."
   ]
  },
  {
   "cell_type": "markdown",
   "id": "enhanced-ethiopia",
   "metadata": {},
   "source": [
    "**Big O**\n",
    "- Big O notation 을 통해서 Asymptotic Comlexity 에 대해서 알 수 있다.\n",
    "- 알고리즘의 성능평가는 시간복잡도 / 공간 복잡도를 big O natatation 으로 나타낸다. \n",
    "    - $n^2 + 2n + 9 > O(n^2) $ \n",
    "- 다항식이 커질수록 급격하게 알고리즘의 수행 시간이 많아진다. "
   ]
  },
  {
   "cell_type": "markdown",
   "id": "comparable-monkey",
   "metadata": {},
   "source": [
    "# 파이썬 고급"
   ]
  },
  {
   "cell_type": "markdown",
   "id": "intensive-overhead",
   "metadata": {},
   "source": [
    "## 메모리 초과"
   ]
  },
  {
   "cell_type": "markdown",
   "id": "tracked-circumstances",
   "metadata": {},
   "source": [
    "- python 에서는 list에 slice 연산을 하면 매번 새로운 list가 만들어집니다. 그러므로 slice 연산을 너무 많이하면 메모리초과가 일어난다.\n",
    "- list 보다는 Tuple 이 더 메모리가 적다. 즉 데이터를 바꿀 필요가 없다면, tuple 을 웬만하면 사용하자."
   ]
  },
  {
   "cell_type": "markdown",
   "id": "sixth-program",
   "metadata": {},
   "source": [
    "## indexing은 왜 0부터고, \\[a,b\\) 꼴이야 ?"
   ]
  },
  {
   "cell_type": "markdown",
   "id": "alone-enhancement",
   "metadata": {},
   "source": [
    "Zero-based Half-open 컨벤션에 관해서 다익스트라가 1982년에 자신의 생각을 담은 노트가 있다. '0부터 시작하고 마지막 수는 포함하지 않는 인덱스 넘버링'이 프로그래밍에 왜 가장 좋은 표현법인지에 대해 설명하고 있다.\n",
    "\n"
   ]
  },
  {
   "cell_type": "markdown",
   "id": "visible-format",
   "metadata": {},
   "source": [
    "**인덱스의 구간을 표현할 때에 [a,b) 표현법이 제일 좋다**\n",
    "\n",
    "- 인덱스의 구간을 표현할 때에 (a,b) \\[a,b\\] \\(a,b\\] \\[a,b\\) 네가지가 있다.\n",
    "- 이 경우에는 반 받힌 구간 \\(a,b\\] , \\[b,a\\) 의 경우가 좋은데 그 이유는 다음과 같은 이유가 있다.\n",
    "    - \\(a,b\\] , \\[a,b\\) 의 경우 그 구간의 크기가 \\| a- b \\| 이다. \n",
    "    - 두 구간들을 차례로 제약없이 붙이기 쉽다. \\(a,b\\] + \\(b,c\\] ... 가 제약없이 붙을 수 있다.\n",
    "- 이렇게 반 닫힌 구간도 두개가 있는데 그 중에서 \\[a,b\\) 가 좋은 이유를 풀어보자.\n",
    "    - \\(a,b\\] 의 경우 시작을 포함하지 않는 경우를 말하고싶을때, 시작수보다 1 작게 해야된다. 이 경우가 매우 보기 안좋다고 함..\n",
    "    \n",
    "- 그리고 아래와 같은 예제에서 실증이 된 부분도 있다.\n",
    "    - Xerox PARC에서 Mesa라는 프로그래밍 언어를 만들어서 사용하였다. 이 언어에는 (a,b] [a,b) [a,b] (a,b) 이 네 가지 컨벤션을 지원하는 특별한 문법이 있었다. 근데 사람들이 이 언어 써 보다가 [a,b) 빼고 나머지가 지속적으로 오류를 유발하는 원인이라는 것을 알게됨. 이를 계기로 Mesa 프로그래머들이 나머지 3개 문법을 쓰지 말자고 하고 사장시킴. 즉 [a,b)가 제일 좋다는 게 실험으로 증명된 거임.\n",
    "\n"
   ]
  },
  {
   "cell_type": "markdown",
   "id": "determined-birmingham",
   "metadata": {},
   "source": [
    "**\\[a,b\\) 표현법을 사용하게 될 경우에, 0부터 시작하는것이 자연스럽다.**\n",
    "\n",
    "- 인덱싱이 0부터 시작되어야 마지막 수가 N이 될 때에, 집합의 크기와 딱 맞아서 자연스럽다. "
   ]
  },
  {
   "cell_type": "markdown",
   "id": "civilian-monitor",
   "metadata": {},
   "source": [
    "**C는 언어의 설계 단계에서 0부터 시작하는 넘버링을 사용**\n",
    "\n",
    "- C에서는 배열의 순차적인 접근시에 포인터(Base)를 기준으로 오프셋을 나타내는 인덱스를 더해서 메모리의 상대적인 주소를 계산합니다. 이 때문에 C는 언어의 설계 단계에서 0부터 시작하는 넘버링이 뿌리를 내렸습니다. (좀 더 자세히는 C의 전신인 B언어와 BCPL로부터 물려받은 것)\n",
    "- 거의 모든 프로그램이 C 의 영향을 받았다고 해도 과언이 아니다. 그래서 0 부터 인덱싱이 시작하는듯..!\n"
   ]
  },
  {
   "cell_type": "markdown",
   "id": "spiritual-subsection",
   "metadata": {},
   "source": [
    "# 자료형"
   ]
  },
  {
   "cell_type": "markdown",
   "id": "internal-phrase",
   "metadata": {},
   "source": [
    "## Number"
   ]
  },
  {
   "cell_type": "markdown",
   "id": "fitting-throw",
   "metadata": {},
   "source": [
    "- **int**\n",
    "    - 정수 형태의 자료형\n",
    "    - 메모리가 허용하는데 까지 매우 크게 값을 늘릴 수 있다. \n",
    "    - immutable\n",
    "- **float**\n",
    "    - 실수를 지원하기 위해 소수점이 있는 부동 소수형을 지원한다.\n",
    "    - 저장공간을 효율적으로 사용하기 위해 제한된 바이트만 사용해서 저장하므로 정밀도에 한계가 있다.\n",
    "    - immutable\n",
    "    "
   ]
  },
  {
   "cell_type": "markdown",
   "id": "composed-olympus",
   "metadata": {},
   "source": [
    "❗ **주의사항**\n",
    "- 4/2 처럼 딱 떨어지는 나눗셈을 하더라도 파이썬에서는 2.0 으로 int 형이 나오지 않게 된다\n",
    "    - 이로 인해, indexing 을 할 때에 에러가 나곤한다.\n",
    "    - 그러므로 떨어지는 결과가 정수가 나오게 하려면 4//2 를 해 주어야 한다."
   ]
  },
  {
   "cell_type": "markdown",
   "id": "binary-former",
   "metadata": {
    "id": "ZOxXllzLJ9L0"
   },
   "source": [
    "## List"
   ]
  },
  {
   "cell_type": "markdown",
   "id": "earlier-august",
   "metadata": {},
   "source": [
    "- List 는 의외로 많이 쓰이는 자료형이다.\n",
    "- pred = [] 로 정의 후 뒤의 for 문에서 c.v. 로 계산한 predict 값을 pred 에 concat 해서 채워 넣는등 많이 쓰임"
   ]
  },
  {
   "cell_type": "markdown",
   "id": "incredible-praise",
   "metadata": {
    "id": "dsCXEYbTKZDz"
   },
   "source": [
    "**기본성질**\n",
    "- **indexing**\n",
    "    - x[a] : a 번째 element\n",
    "    - x[a:b] : a~b-1 까지의 리스트값 출력\n",
    "    - x[a:b:k] : k 씩 간격을 두면서 a~b-1 까지의 list 값 출력\n",
    "    - x[b:a:-1] : b 부터 a+1 까지 역순으로 리스트값 출력\n",
    "        - ex) [1,2,3,4,5][5:1:-1] 은 [5,4,3,2] 이다.\n",
    "        - ex) [1,2,3,4,5][5:-1:-1] 은 [5,4,3,2,1] 이 아니라 에러가 난다.\n",
    "    - x[a][b] : a 번째 element 의 b번째 element\n",
    "        - ex) [[1,2],[3,4]][1] = [1,2]"
   ]
  },
  {
   "cell_type": "markdown",
   "id": "banner-avenue",
   "metadata": {
    "id": "dsCXEYbTKZDz"
   },
   "source": [
    "**메소드**\n",
    "- **\\+\\***\n",
    "    - \\+ : 리스트 concat\n",
    "    - \\* : 리스트 반복\n",
    "- **.len ( )**: list의 길이 \n",
    "- **.append()**: list 맨 뒤에 element 추가\n",
    "    - 이 떄에 x = x.append(i) 로 하면 안된다. \n",
    "    - x.append(i) 를 하면 x 에 inplace 하게 추가가 된다.\n",
    "    - inplace\n",
    "- **.extend()**: list 맨 뒤에 iterable 객체 elemenet 추가\n",
    "    - 이 때 x.append([1,2]) 를 하게되면 x 의 맨 뒤에 element 가 추가된다.\n",
    "    - inplace\n",
    "- **.insert (위치,데이터)**: 리스트의 위치에 데이터 추가\n",
    "    - 추가되는 데이터의 위치는 \n",
    "    - inplace\n",
    "- **.sort ( )** : list 를 sorting 해준다.\n",
    "    - inplace\n",
    "- **.reverse ( )**: list 를 역방향으로 sorting\n",
    "    - inplace \n",
    "- **.index ( x )**: x의 위치를 반환.\n",
    "    - 처음으로 만나는 x 의 위치를 반환한다.\n",
    "    - 없으면 에러를 발생시킨다.\n",
    "- **.insert ( a, b )**: a번째 위치에 b를 삽입\n",
    "    - inplace\n",
    "- **.remove ( x )** : 첫번째로 나오는 x를 삭제\n",
    "    - inplace\n",
    "- **.pop ( )**: list의 맨 마지막 element 출력 이후 삭제\n",
    "    - 이때 맨 마지막 element가 나온 이후 삭제가 inplace 하게 이루어진다.\n",
    "    - pop( a ): a 번쨰 element 를 pop 한 이후 삭제\n",
    "    - inplace \n",
    "    - [Examlple]\n",
    "        - val = [1,3,2].pop() -> 리스트는 [1,3] 이 되고, val 은 2 가 된다.\n",
    "- **.count ( x )**: list 안에 x가 몇 개 있는지 조사해서 그 개수를 반환"
   ]
  },
  {
   "cell_type": "markdown",
   "id": "functioning-cemetery",
   "metadata": {},
   "source": [
    "**주의점**\n",
    "- 리스트는 연산을 하지 못한다. ([1,2,3] + 3 은 에러가남 )\n",
    "- 리스트끼리 연산이 된다 해도, 그건 concat 이다. ([1,2,3] + [1,2] = [1,2,3,1,2])\n",
    "- 대부분의 연산이 inplace 하게 일어나기 때문에 lis = lis.sort() 같은 연산을 하면 안된다.\n",
    "- 비어있는 list 에 인덱스를 이용해 추가하는 연산은 불가능\n",
    "    - 즉 lis = [] 에 대해 lis[1] = 2 는 에러가 남"
   ]
  },
  {
   "cell_type": "markdown",
   "id": "offshore-temple",
   "metadata": {},
   "source": [
    "**Tip**\n",
    "- **if x in [a,b,..]**\n",
    "    - 'x 가 [] 안에 있는 값을 가진다면' 의 의미를 가진다.\n",
    "- **list(enumerate(['딸기','사과','포토']))**\n",
    "    - [(0,'딸기'),....(2,'포도')] 처럼 list 가 생성이 된다.\n",
    "- **list('abc')**\n",
    "    - ['a','b','c'] 처럼 분해가 된다\n",
    "- **list(set(list('word')))**\n",
    "    - word 를 'unique 한 값들의 list 로 변환시켜준다.\n",
    "- **append 와 \\+= 의 차이**\n",
    "    - append 는 inplace 하게 연산되어서 id 가 바뀌지 않는다.\n",
    "    - \\+ 는 L += [4] 의 경우 L = L + [4] 와 같고, 이는 L+[4] 라는 새로운 LIST 를 만든 뒤에 L 에 할당되어서 id 가 바뀐다.\n",
    "    - def 와 사용하게 될 때에 \\+= 를 사용하게 되면 L = L+[4] 에서 왼쪽의 L 을 local 변수로 인식하기 떄문에 주의해야한다\n",
    "- **\\* 와 주소**\n",
    "    - element 가 list 이라면, * 로 element 를 생성한다면 동일 id 를 공유하게 된다.\n",
    "    - [x]*3 을 하게 되면  [x, x, x] 가 나오고 x 는 모두 같은 id 를 공유\n",
    "    - 즉 lis = [[]]*4 를 한 뒤, lis[1].append(1) 을 하면 [[1],[1],[1],[1]] 로 4개가 전부 바뀌어버린다.\n",
    "    - 즉 [[] for _ in range(3)] 으로 해주는게안전\n",
    "   "
   ]
  },
  {
   "cell_type": "code",
   "execution_count": 153,
   "id": "preceding-freight",
   "metadata": {},
   "outputs": [],
   "source": [
    "lis = [[] for _ in range(3)]"
   ]
  },
  {
   "cell_type": "code",
   "execution_count": 154,
   "id": "simple-gathering",
   "metadata": {},
   "outputs": [
    {
     "data": {
      "text/plain": [
       "2281960892680"
      ]
     },
     "execution_count": 154,
     "metadata": {},
     "output_type": "execute_result"
    }
   ],
   "source": [
    "id(lis[1])"
   ]
  },
  {
   "cell_type": "code",
   "execution_count": 155,
   "id": "later-expert",
   "metadata": {},
   "outputs": [
    {
     "data": {
      "text/plain": [
       "2281960778312"
      ]
     },
     "execution_count": 155,
     "metadata": {},
     "output_type": "execute_result"
    }
   ],
   "source": [
    "id(lis[0])"
   ]
  },
  {
   "cell_type": "code",
   "execution_count": null,
   "id": "elementary-group",
   "metadata": {},
   "outputs": [],
   "source": []
  },
  {
   "cell_type": "code",
   "execution_count": 5,
   "id": "orange-transition",
   "metadata": {},
   "outputs": [
    {
     "data": {
      "text/plain": [
       "[1, 2, 3, 6]"
      ]
     },
     "execution_count": 5,
     "metadata": {},
     "output_type": "execute_result"
    }
   ],
   "source": [
    "lis.remove(3) ; lis"
   ]
  },
  {
   "cell_type": "code",
   "execution_count": 4,
   "id": "differential-celtic",
   "metadata": {},
   "outputs": [
    {
     "data": {
      "text/plain": [
       "[1, 2, 3, 3, 6]"
      ]
     },
     "execution_count": 4,
     "metadata": {},
     "output_type": "execute_result"
    }
   ],
   "source": [
    "lis.insert(3,3) ; lis"
   ]
  },
  {
   "cell_type": "code",
   "execution_count": null,
   "id": "previous-accreditation",
   "metadata": {},
   "outputs": [],
   "source": []
  },
  {
   "cell_type": "code",
   "execution_count": 40,
   "id": "impressed-disposition",
   "metadata": {},
   "outputs": [
    {
     "data": {
      "text/plain": [
       "[1, 3, 5, 4]"
      ]
     },
     "execution_count": 40,
     "metadata": {},
     "output_type": "execute_result"
    }
   ],
   "source": [
    "lis= [1,3,5]\n",
    "lis.append(4)\n",
    "lis"
   ]
  },
  {
   "cell_type": "code",
   "execution_count": 41,
   "id": "voluntary-health",
   "metadata": {},
   "outputs": [
    {
     "data": {
      "text/plain": [
       "[1, '추가', 3, 5]"
      ]
     },
     "execution_count": 41,
     "metadata": {},
     "output_type": "execute_result"
    }
   ],
   "source": [
    "lis = [1,3,5]\n",
    "lis.insert(1,'추가') # 들어가게 되는 데이터의 위치에 추가하게 된다.\n",
    "lis"
   ]
  },
  {
   "cell_type": "code",
   "execution_count": 42,
   "id": "champion-static",
   "metadata": {},
   "outputs": [
    {
     "data": {
      "text/plain": [
       "[1, 3]"
      ]
     },
     "execution_count": 42,
     "metadata": {},
     "output_type": "execute_result"
    }
   ],
   "source": [
    "lis = [1,3,5]\n",
    "lis.pop()\n",
    "lis"
   ]
  },
  {
   "cell_type": "code",
   "execution_count": 43,
   "id": "automotive-jersey",
   "metadata": {},
   "outputs": [
    {
     "data": {
      "text/plain": [
       "[5, 1, 3]"
      ]
     },
     "execution_count": 43,
     "metadata": {},
     "output_type": "execute_result"
    }
   ],
   "source": [
    "lis = [5,1,3]\n",
    "lis.sort\n",
    "lis"
   ]
  },
  {
   "cell_type": "code",
   "execution_count": 2,
   "id": "wanted-algorithm",
   "metadata": {},
   "outputs": [
    {
     "data": {
      "text/plain": [
       "[1, 2, 3]"
      ]
     },
     "execution_count": 2,
     "metadata": {},
     "output_type": "execute_result"
    }
   ],
   "source": [
    "new = [1,2,3]\n",
    "val = new.copy()\n",
    "new.append(4)\n",
    "val"
   ]
  },
  {
   "cell_type": "markdown",
   "id": "atmospheric-process",
   "metadata": {
    "id": "h2BX7tuwKF1V"
   },
   "source": [
    "## Dictionary"
   ]
  },
  {
   "cell_type": "markdown",
   "id": "comprehensive-clear",
   "metadata": {},
   "source": [
    "- 사람은 누구든지 \"이름\" = \"홍길동\", \"생일\" = \"몇 월 며칠\" 등으로 구별할 수 있다.\n",
    "- 이런 대응관계를  요즘 사용하는 대부분의 언어도 이러한 대응 관계를 나타내는 자료형을 갖고 있는데, 이를 연관 배열(Associative array) 또는 해시(Hash)라고 한다\n",
    "- 파이썬에서는 위의 대응관계를 나타내는것을 dictionary 라고 한다. Key와 Value를 한 쌍으로 갖는 자료형이다. \n",
    "- 딕셔너리는 리스트나 튜플처럼 순차적으로(sequential) 해당 요솟값을 구하지 않고 Key를 통해 Value를 얻는다.\n",
    "- Key 는 변하지 않는(immutable) 자료형이 key 로 가능하다.\n",
    "- Iterable이며 순서가 보장되는 자료형이다. 따라서 인덱싱과 슬라이싱, 합과 곱 연산이 가능합니다."
   ]
  },
  {
   "cell_type": "markdown",
   "id": "confident-shade",
   "metadata": {
    "id": "3ski8RraKaQ0"
   },
   "source": [
    "**structure**\n",
    "- key는 immutable, values 는 mutable 한 element 가 들어와야한다.\n",
    "- construct 하는 방법은 아래와 같다.\n",
    "    - 딕셔너리 = dict(키1=값1, 키2=값2)\n",
    "    - 딕셔너리 = dict(zip([키1, 키2], [값1, 값2]))\n",
    "    - 딕셔너리 = dict([(키1, 값1), (키2, 값2)])\n",
    "    - 딕셔너리 = dict({키1: 값1, 키2: 값2})\n"
   ]
  },
  {
   "cell_type": "markdown",
   "id": "outdoor-tobago",
   "metadata": {
    "id": "3ski8RraKaQ0"
   },
   "source": [
    "**기본 성질**\n",
    "- **indexing**\n",
    "    - x['a'] : key a 에 해당하는 value 를 출력\n",
    "    - x[3] : 이는 에러가 난다. 위치에 따른 indexing 은 불가능\n",
    "    - x[3:5] : 이 역시 에러가 난다. slicing 또한 불가능\n",
    "- **len()** : 사전의 길이 출력\n",
    "    - 이때, 길이는 key 의 수가 된다.\n",
    "- **.keys ( )**: key 를 가지는 배열 만들기\n",
    "    - list 도 얻고싶다면 list(...keys()) 로 한번 더 덛씌워야 한다.\n",
    "- **.values ( )**: value를 list로 만들기\n",
    "    - 이 역시 위와 같음\n",
    "- **.items ( )**: key, value의 tuple 반한\n",
    "    - [(key,value)...] 꼴로 반환하게 된다.    \n",
    "- **.get ( x , '디폴트')**\n",
    "    - x에 해당하는 key 에 대해 vlaue 값을 출력한다.\n",
    "    - x에 해당하는 key 값이 없을 때 디폴트 값을 출력한다.\n",
    "- **in**: 해당 key가 있는지 조사"
   ]
  },
  {
   "cell_type": "markdown",
   "id": "ordered-astrology",
   "metadata": {},
   "source": [
    "**dict의 변수지정**\n",
    "- dic = { } 이후 dic[i] = j 로 지정하면 바로 {i:j} 가 형성된다.\n",
    "- dic = { } 이후 dic[i] += j 로 연산을 처리하면 error 가 발생한다."
   ]
  },
  {
   "cell_type": "markdown",
   "id": "higher-planner",
   "metadata": {},
   "source": [
    "**dict의 sorting**\n",
    "\n",
    "- **key sorting**\n",
    "    - sorted(dic.items()) # dictionary 를 [(key,value)] 꼴로 나타낸 후 오름차순 정렬한다. 즉 이 값에 다시 dict 를 붙여주면 key 를 기준으로 sorting ,된 dictionary 가 나옴\n",
    "    - sorted(dic.items(),reverse=True ) 를 통해서 내림차순도 가능하다.    \n",
    "- **value sorting**\n",
    "    - sorted(dic.items(), key = lambda dic : dic[1]) # key 를 지정해주면 해당 함수의 반환값을 비교하여 순서대로 정렬한다.\n"
   ]
  },
  {
   "cell_type": "markdown",
   "id": "swedish-internet",
   "metadata": {},
   "source": [
    "**Tip**\n",
    "- .values() 나 . keys() 로 나온값은 list 가 아니라 그 자체 values, keys 객체이기 떄문에 별로 쓸모가 없다. 바로 list 로 바꿔주어여 한다. \n",
    "    - 즉 list(dict.values()) 로 사용하는것이 좋다는 이야기\n",
    "- for 문\n",
    "    - for x in {} :\n",
    "        - x 는 key 값을 출력하게 된다.\n",
    "    - for x,y in {}.items :\n",
    "        - x,y 는 각각 key 와 value 값이 된다.\n",
    "- Update\n",
    "    - dict[x] += 1 처럼 업데이트가 필요할 때에, x key 가 없는 상태라면 저절로 1로 업데이트 되지 않고 에러가 난다. \n",
    "    - 이런 경우를 대비하기 위해서는 dict.get(x,0) += 1 로, 없는 상태의 경우도 대비하기 위해서 get 으로 가져와야한다."
   ]
  },
  {
   "cell_type": "code",
   "execution_count": 52,
   "id": "relevant-exemption",
   "metadata": {},
   "outputs": [],
   "source": [
    "dic = {'고':1,'지':3,'방':2}"
   ]
  },
  {
   "cell_type": "code",
   "execution_count": 55,
   "id": "printable-terminology",
   "metadata": {},
   "outputs": [
    {
     "data": {
      "text/plain": [
       "False"
      ]
     },
     "execution_count": 55,
     "metadata": {},
     "output_type": "execute_result"
    }
   ],
   "source": [
    "dic.get('항',False)"
   ]
  },
  {
   "cell_type": "code",
   "execution_count": 45,
   "id": "educated-swiss",
   "metadata": {},
   "outputs": [
    {
     "name": "stdout",
     "output_type": "stream",
     "text": [
      "고\n",
      "지\n",
      "방\n"
     ]
    }
   ],
   "source": [
    "for x,y in dic.items() :\n",
    "    print(x)"
   ]
  },
  {
   "cell_type": "code",
   "execution_count": 66,
   "id": "standard-president",
   "metadata": {
    "scrolled": true
   },
   "outputs": [
    {
     "data": {
      "text/plain": [
       "[0, 1, 2]"
      ]
     },
     "execution_count": 66,
     "metadata": {},
     "output_type": "execute_result"
    }
   ],
   "source": [
    "dic = {1:3,2:5,0:2}\n",
    "sorted(dic)"
   ]
  },
  {
   "cell_type": "code",
   "execution_count": null,
   "id": "statutory-ordinance",
   "metadata": {},
   "outputs": [],
   "source": [
    "dic.keys()"
   ]
  },
  {
   "cell_type": "markdown",
   "id": "diagnostic-creativity",
   "metadata": {
    "id": "N3NgYviRKF6Q"
   },
   "source": [
    "##  Set"
   ]
  },
  {
   "cell_type": "markdown",
   "id": "driving-louis",
   "metadata": {},
   "source": [
    "**📝기본 구조**\n",
    "- 순서가 없고, 집합안에서는 unique한 값을 가진다.\n",
    "- mutable 객체\n",
    "- {[1,2,2,2,3]} = {1,2,3}"
   ]
  },
  {
   "cell_type": "markdown",
   "id": "bigger-yeast",
   "metadata": {},
   "source": [
    "**🔨Method**\n",
    "- **a in set** : a 가 set 안에 있는지 검사\n",
    "- **A | B** : A,B set 에 대한 합집합\n",
    "- **A & B** : A,B set 에 대힌 교집합\n",
    "- **A - B** : A,B set 에 대한 차집합\n",
    "- **A ^ B** : A,B set 에 대한 sym_diff\n",
    "- **.add()** : set 에 원소 추가(하나씩)\n",
    "    - inplace\n",
    "- **.update()** : 한번에 여러 원소들을 update 할 때에 사용\n",
    "    - {1,2}.update([1,4,5]) -> {1,2,4,5}\n",
    "    - inplace \n",
    "- **.remove()** : 원소 제거\n",
    "    - inplace\n",
    "- **.issubset** : 부분집합 여부 확인\n",
    "    - {1,2}.issubset({1,2,4,5}) -> True\n",
    "- **.isdisjoint** : 두 집합이 겹치지 않으면 True\n",
    "    - {1,3}.isdisjoint({2,4}) -> True\n",
    "  "
   ]
  },
  {
   "cell_type": "markdown",
   "id": "dried-catholic",
   "metadata": {},
   "source": [
    "❗**주의점**\n",
    "- 빈 set 을 만들때에는 {} 가 아니라 set() 으로 해주어야한다. {} 는 dict 를 형성하는것임"
   ]
  },
  {
   "cell_type": "markdown",
   "id": "center-mistake",
   "metadata": {},
   "source": [
    "## Tuple"
   ]
  },
  {
   "cell_type": "markdown",
   "id": "selective-present",
   "metadata": {},
   "source": [
    "- **기본구조** \n",
    "    - 튜플 내장함수는 리스트와 동일합니다.\n",
    "    - 하지만 메소드는 리스트 대비 매우 적다. (이는 immutable 이기 때문)\n",
    "- **len()** : 튜플 길이\n",
    "- **max/min()** : 최대/최소\n",
    "- **.count()**  : 튜플의 element 수"
   ]
  },
  {
   "cell_type": "markdown",
   "id": "conventional-gates",
   "metadata": {},
   "source": [
    "## Strng"
   ]
  },
  {
   "cell_type": "markdown",
   "id": "micro-polymer",
   "metadata": {},
   "source": [
    "- 기본적으로 immutable 이기 때문에 inplace 연산이 없다."
   ]
  },
  {
   "cell_type": "markdown",
   "id": "referenced-response",
   "metadata": {},
   "source": [
    "- **indexing**\n",
    "    - x[::-1] : 역순으로 만들어준다."
   ]
  },
  {
   "cell_type": "markdown",
   "id": "reasonable-operation",
   "metadata": {},
   "source": [
    "- **len()** : 문자열 길이를 출력\n",
    "- **.count('a')** : 문자열 안에서 a 가 몇개 들어있는지 개수를 센다.\n",
    "- **.startswith('a')** : 문자열이 a 로 시작하면 T 반환\n",
    "- **.endswith('a')** : 문자열이 a 로 끝나면 T 반환 \n",
    "- **.find('a')** : 문자열에 a 가 있는지를 앞에서부터 찾아 index 반환\n",
    "    - 없으면 -1 반환\n",
    "- **.index('a')** : find 와 기능이 동일하다. 하지만 입력한 문자열이 없으면 error 발생\n",
    "- **.lower()** : 문자열을 모두 소문자로\n",
    "    - inplace 가 아님\n",
    "- **.isalnum()** : 문자열이 알파벳과 숫자로만 이루어졌으면 True\n",
    "- **.isalpha()** : 문자열이 알파벳만 이루어졌으면 True\n",
    "- **.isdigit()/.isnumeric()/isdecimal()** : 문자열이 숫자를 포함하고있으면 True\n",
    "    - isdecimal : 0~9 의 숫자로 이루어진 경우에만 True 로 판정한다.\n",
    "    - isdigit : 숫자로 이루어졋는지 검사한다.\n",
    "    - isnumeric : 숫자값 표현에 해당하는 텍스트까지 인정해준다. 예를 들어 “½” 이런 특수문자도 isnumeric()에서는 True로 판정한다.\n",
    "    - EX)\n",
    "        - ('½').isnumeric : True \n",
    "        - ('½').isdecimal : False\n",
    "        - ('½').isdigit : False\n",
    "        - ('³').isnumeric : True\n",
    "        - ('³').isdecimal : False\n",
    "        - ('³').isdigit : True\n",
    "- **.isspace()** : 문자열이 공백으로만 되어있으면 T\n",
    "- **.lstrip()** : 문자열 왼쪽 공백 제거\n",
    "    - inplace 가 아님\n",
    "- **.rstrip()** : 문자열 오른쪽 공백 제거\n",
    "    - inplace 가 아님\n",
    "- **.strip()** : 문자열 양쪽의 공백 제거\n",
    "    - inplace 가 아님\n",
    "- **.split(',')** : 문자열을 구분자 기준에 따라 나눠 리스트 생성\n",
    "    - 'ha,ho'.split(',') -> ['ha','ho']\n",
    "- **.splitlines()** : 여러개 줄로 이루어진 문자열을 줄별로 구분해 리스트 생성\n",
    "    - 'ha\\nho'.splitlines() ->['ha','ho']\n",
    "- **.replace(old,new,max)** : old 문자열을 new 문자열로 교체\n",
    "    - max 는 바꾸는 최대 갯수가 된다.\n",
    "    - 'love line'.replace('l','g') -> 'gove gine'\n",
    "- **.join('a')** : iterable 한 객체의 문자를 붙이기(사이사이에 a 넣음)\n",
    "    - '-'.join(['I','Love','You']) -> 'I-Love-You'\n",
    "- **.zfill(width)** : 문자열을 width 만큼 길이로 만들되, 추가로 필요한 자릿수만큼 앞에 0 채움 \n",
    "    - 'abc'.zfill(5) -> '00abc'\n",
    "\n"
   ]
  },
  {
   "cell_type": "markdown",
   "id": "ready-leeds",
   "metadata": {},
   "source": [
    "😁**Tip**"
   ]
  },
  {
   "cell_type": "markdown",
   "id": "suited-content",
   "metadata": {},
   "source": [
    "- list('abc') = ['a','b','c'] 로 분해된 list 를 얻을 수 있다.\n",
    "- set에 들어있는 값들은 해쉬 가능해야합니다. 즉 문자열, 숫자, 튜플만 set에 넣으면 중복 제거가 가능 \n",
    "    - 즉 list 는 set 안에 들어갈 수 없습니다.\n",
    "- 특정 문자열에 우리가 확인하고자 하는 문자열이 있는지 확인할 수 있다.\n",
    "    - 'n' in 'fruit' -> False\n",
    "\n"
   ]
  },
  {
   "cell_type": "markdown",
   "id": "global-trainer",
   "metadata": {},
   "source": [
    "# 연산"
   ]
  },
  {
   "cell_type": "markdown",
   "id": "cutting-thesis",
   "metadata": {},
   "source": [
    "## /"
   ]
  },
  {
   "cell_type": "markdown",
   "id": "developed-sierra",
   "metadata": {},
   "source": [
    "- / 는 나누기 연산이다. 하지만 주의해야될 것은 4/2 의 경우 2를 내보내는것이 아니라 2.0 을 내보낸다. 즉 결과값이 int 형일지어도, 그 출력은 float 의 형태가 된다."
   ]
  },
  {
   "cell_type": "markdown",
   "id": "controlled-arbitration",
   "metadata": {},
   "source": [
    "# Class"
   ]
  },
  {
   "cell_type": "markdown",
   "id": "affecting-consensus",
   "metadata": {},
   "source": [
    "- 프로그래머들이 가장 많이 사용한다는 C 에는 클래스가 없다. 즉 클래스가 없어도 프로그래밍하는데에는 큰 상관이 없다는것이다.\n",
    "- 하지만 Class 를 잘 사용하면 얻을 수 있는 이익이 상당하다."
   ]
  },
  {
   "cell_type": "markdown",
   "id": "adjusted-england",
   "metadata": {},
   "source": [
    "- 아래의 경우는 계산기의 더하기 기능을 구현한 파이썬 코드이다. "
   ]
  },
  {
   "cell_type": "code",
   "execution_count": 5,
   "id": "jewish-disclaimer",
   "metadata": {
    "scrolled": true
   },
   "outputs": [
    {
     "name": "stdout",
     "output_type": "stream",
     "text": [
      "3\n",
      "7\n"
     ]
    }
   ],
   "source": [
    "result = 0\n",
    "\n",
    "def add(num):\n",
    "    global result # 이전의 값을 저장하기위해서 전역변수 사용\n",
    "    result += num\n",
    "    return result\n",
    "print(add(3))\n",
    "print(add(4))"
   ]
  },
  {
   "cell_type": "markdown",
   "id": "fiscal-burden",
   "metadata": {},
   "source": [
    "- 하지만 이때에 2개의 계산기가 필요하게 되면 어떻게 될까? 각각의 계산기는 각각의 결과값을 유지해야한다. 즉 위 add 하나의 함수로는 변수들을 분리해서 저장할 수 없기때문에 함수를 하나 더 만들어야한다."
   ]
  },
  {
   "cell_type": "code",
   "execution_count": 6,
   "id": "right-receiver",
   "metadata": {
    "scrolled": true
   },
   "outputs": [
    {
     "name": "stdout",
     "output_type": "stream",
     "text": [
      "3\n",
      "7\n",
      "3\n",
      "10\n"
     ]
    }
   ],
   "source": [
    "result1 = 0\n",
    "result2 = 0\n",
    "\n",
    "def add1(num):\n",
    "    global result1\n",
    "    result1 += num\n",
    "    return result1\n",
    "\n",
    "def add2(num):\n",
    "    global result2\n",
    "    result2 += num\n",
    "    return result2\n",
    "\n",
    "print(add1(3))\n",
    "print(add1(4))\n",
    "print(add2(3))\n",
    "print(add2(7))"
   ]
  },
  {
   "cell_type": "markdown",
   "id": "alpha-moral",
   "metadata": {},
   "source": [
    "- 하지만 위와같이 번거롭게 하지 않고 클래스로 구현하는 방법이 있다."
   ]
  },
  {
   "cell_type": "code",
   "execution_count": 9,
   "id": "present-royalty",
   "metadata": {
    "scrolled": false
   },
   "outputs": [
    {
     "name": "stdout",
     "output_type": "stream",
     "text": [
      "3\n",
      "7\n",
      "3\n",
      "10\n"
     ]
    }
   ],
   "source": [
    "class Calculator:\n",
    "    def __init__(self):\n",
    "        self.result = 0\n",
    "    def add(self, num):\n",
    "        self.result += num\n",
    "        return self.result\n",
    "\n",
    "cal1 = Calculator()\n",
    "cal2 = Calculator()\n",
    "\n",
    "print(cal1.add(3))\n",
    "print(cal1.add(4))\n",
    "print(cal2.add(3))\n",
    "print(cal2.add(7))"
   ]
  },
  {
   "cell_type": "markdown",
   "id": "united-participant",
   "metadata": {},
   "source": [
    "- calculator 클래스로 만든 별개의 계산기 cal1, cal2 (이것은 객체라고 불림) 은 각각의 역할을 수행하게 된다."
   ]
  },
  {
   "cell_type": "markdown",
   "id": "atomic-family",
   "metadata": {},
   "source": [
    "## 객체"
   ]
  },
  {
   "cell_type": "markdown",
   "id": "faced-international",
   "metadata": {},
   "source": [
    "- 과자 틀은 클래스이고, 과자 틀에 의해서 만들어진 과자는 객체이다. \n",
    "- class 는 무엇인가를 계속 만들어낼 수 있는 설계 도면이라 할 수 있다. \n",
    "- 객체는 클래스로 만든 피조물이다. "
   ]
  },
  {
   "cell_type": "markdown",
   "id": "requested-parameter",
   "metadata": {},
   "source": [
    "## 인스턴스"
   ]
  },
  {
   "cell_type": "markdown",
   "id": "silver-economy",
   "metadata": {},
   "source": [
    "- 클래스로 만든 객체를 인스턴스라고도 한다. \n",
    "- 두개는 같은것을 의미한다. 문맥상 서로 다르게 불리지만 어쩃든 둘은 같음."
   ]
  },
  {
   "cell_type": "markdown",
   "id": "adaptive-bandwidth",
   "metadata": {},
   "source": [
    "## self"
   ]
  },
  {
   "cell_type": "code",
   "execution_count": 16,
   "id": "aging-increase",
   "metadata": {},
   "outputs": [],
   "source": [
    "def setdata(self, first, second):   # ① 메서드의 매개변수\n",
    "    self.first = first              # ② 메서드의 수행문\n",
    "    self.second = second            # ② 메서드의 수행문"
   ]
  },
  {
   "cell_type": "code",
   "execution_count": 12,
   "id": "clinical-louisiana",
   "metadata": {},
   "outputs": [],
   "source": [
    "class FourCal:\n",
    "    def setdata(self, first, second):\n",
    "        self.first = first\n",
    "        self.second = second"
   ]
  },
  {
   "cell_type": "code",
   "execution_count": 15,
   "id": "dirty-acting",
   "metadata": {},
   "outputs": [],
   "source": [
    "a = FourCal()\n",
    "a.setdata(4, 2)"
   ]
  },
  {
   "cell_type": "markdown",
   "id": "internal-presence",
   "metadata": {},
   "source": [
    "- FourCal 을 정의할때에는 3개의 변수 (self , first, second) 가 쓰였는데 여기에서는 왜 4,2 2개만 쓸까? \n",
    "- self 는 객체가 전달되는 값이다. \n",
    "- 파이썬에서 첫 매개변수 이름은 관례적으로 self 를 사용한다."
   ]
  },
  {
   "cell_type": "code",
   "execution_count": 25,
   "id": "recognized-active",
   "metadata": {
    "scrolled": true
   },
   "outputs": [
    {
     "data": {
      "image/png": "[encoded data removed]",
      "text/plain": [
       "<IPython.core.display.Image object>"
      ]
     },
     "execution_count": 25,
     "metadata": {},
     "output_type": "execute_result"
    }
   ],
   "source": [
    "Image('./image/class1.PNG')"
   ]
  },
  {
   "cell_type": "code",
   "execution_count": 26,
   "id": "toxic-associate",
   "metadata": {
    "scrolled": true
   },
   "outputs": [
    {
     "name": "stdout",
     "output_type": "stream",
     "text": [
      "4\n",
      "2\n"
     ]
    }
   ],
   "source": [
    "print(a.first)\n",
    "print(a.second)"
   ]
  },
  {
   "cell_type": "code",
   "execution_count": 29,
   "id": "naughty-falls",
   "metadata": {
    "scrolled": true
   },
   "outputs": [
    {
     "name": "stdout",
     "output_type": "stream",
     "text": [
      "5\n"
     ]
    }
   ],
   "source": [
    "b = FourCal()\n",
    "b.setdata(5,6)\n",
    "print(b.first)"
   ]
  },
  {
   "cell_type": "markdown",
   "id": "altered-efficiency",
   "metadata": {},
   "source": [
    "- 위와 같이 다른 객체를 통해 생성되었으므로, 그 안에서 first 변수 (a.first / b.first) 는 다른값을 가진다."
   ]
  },
  {
   "cell_type": "code",
   "execution_count": 31,
   "id": "surface-undergraduate",
   "metadata": {},
   "outputs": [
    {
     "name": "stdout",
     "output_type": "stream",
     "text": [
      "140708683424240\n",
      "140708683424272\n"
     ]
    }
   ],
   "source": [
    "print(id(a.first))\n",
    "print(id(b.first))"
   ]
  },
  {
   "cell_type": "markdown",
   "id": "downtown-oregon",
   "metadata": {},
   "source": [
    "- 위에서 보듯이 다른 객체에서 생성되어서 다른 주소를 가진다. 즞 객체들끼리는 서로 영향받지 않고 독립적으로 그 값을 유지할 수 있다."
   ]
  },
  {
   "cell_type": "markdown",
   "id": "involved-hampton",
   "metadata": {},
   "source": [
    "## 메서드"
   ]
  },
  {
   "cell_type": "markdown",
   "id": "iraqi-thought",
   "metadata": {},
   "source": [
    "- 클래스 안에 구현된 함수를 메서드라고 부른다. \n",
    "- 내부의 함수는 항상 메서드라고 불린다. "
   ]
  },
  {
   "cell_type": "code",
   "execution_count": 37,
   "id": "young-insert",
   "metadata": {},
   "outputs": [],
   "source": [
    "class FourCal:\n",
    "    def setdata(self, first, second):\n",
    "        self.first = first\n",
    "        self.second = second\n",
    "    def add(self):\n",
    "        result = self.first + self.second\n",
    "        return result"
   ]
  },
  {
   "cell_type": "code",
   "execution_count": 38,
   "id": "synthetic-chicago",
   "metadata": {},
   "outputs": [],
   "source": [
    "a = FourCal()\n",
    "a.setdata(4,2) # self.first / self.second 의 변수에 4,2 를 전달한다."
   ]
  },
  {
   "cell_type": "code",
   "execution_count": 39,
   "id": "velvet-italy",
   "metadata": {
    "scrolled": false
   },
   "outputs": [
    {
     "data": {
      "text/plain": [
       "6"
      ]
     },
     "execution_count": 39,
     "metadata": {},
     "output_type": "execute_result"
    }
   ],
   "source": [
    "a.add() # add 라는 메서드를 수행한다. "
   ]
  },
  {
   "cell_type": "markdown",
   "id": "clean-secondary",
   "metadata": {},
   "source": [
    "## 생성자 (Constructor)"
   ]
  },
  {
   "cell_type": "markdown",
   "id": "comparable-capacity",
   "metadata": {},
   "source": [
    "- 생성자는 객체가 생성될떄 자동으로 수행되는 메서드를 의미한다.\n",
    "- 파이썬 메서드 이름으로 \\_\\_init\\_\\_ 를 사용하면 이 메서드는 생성자가 된다."
   ]
  },
  {
   "cell_type": "code",
   "execution_count": 41,
   "id": "active-deployment",
   "metadata": {},
   "outputs": [
    {
     "ename": "AttributeError",
     "evalue": "'FourCal' object has no attribute 'first'",
     "output_type": "error",
     "traceback": [
      "\u001b[1;31m---------------------------------------------------------------------------\u001b[0m",
      "\u001b[1;31mAttributeError\u001b[0m                            Traceback (most recent call last)",
      "\u001b[1;32m<ipython-input-41-93d8790fe05f>\u001b[0m in \u001b[0;36m<module>\u001b[1;34m\u001b[0m\n\u001b[0;32m      1\u001b[0m \u001b[0ma\u001b[0m \u001b[1;33m=\u001b[0m \u001b[0mFourCal\u001b[0m\u001b[1;33m(\u001b[0m\u001b[1;33m)\u001b[0m\u001b[1;33m\u001b[0m\u001b[1;33m\u001b[0m\u001b[0m\n\u001b[1;32m----> 2\u001b[1;33m \u001b[0ma\u001b[0m\u001b[1;33m.\u001b[0m\u001b[0madd\u001b[0m\u001b[1;33m(\u001b[0m\u001b[1;33m)\u001b[0m\u001b[1;33m\u001b[0m\u001b[1;33m\u001b[0m\u001b[0m\n\u001b[0m",
      "\u001b[1;32m<ipython-input-37-e3014b14d498>\u001b[0m in \u001b[0;36madd\u001b[1;34m(self)\u001b[0m\n\u001b[0;32m      4\u001b[0m         \u001b[0mself\u001b[0m\u001b[1;33m.\u001b[0m\u001b[0msecond\u001b[0m \u001b[1;33m=\u001b[0m \u001b[0msecond\u001b[0m\u001b[1;33m\u001b[0m\u001b[1;33m\u001b[0m\u001b[0m\n\u001b[0;32m      5\u001b[0m     \u001b[1;32mdef\u001b[0m \u001b[0madd\u001b[0m\u001b[1;33m(\u001b[0m\u001b[0mself\u001b[0m\u001b[1;33m)\u001b[0m\u001b[1;33m:\u001b[0m\u001b[1;33m\u001b[0m\u001b[1;33m\u001b[0m\u001b[0m\n\u001b[1;32m----> 6\u001b[1;33m         \u001b[0mresult\u001b[0m \u001b[1;33m=\u001b[0m \u001b[0mself\u001b[0m\u001b[1;33m.\u001b[0m\u001b[0mfirst\u001b[0m \u001b[1;33m+\u001b[0m \u001b[0mself\u001b[0m\u001b[1;33m.\u001b[0m\u001b[0msecond\u001b[0m\u001b[1;33m\u001b[0m\u001b[1;33m\u001b[0m\u001b[0m\n\u001b[0m\u001b[0;32m      7\u001b[0m         \u001b[1;32mreturn\u001b[0m \u001b[0mresult\u001b[0m\u001b[1;33m\u001b[0m\u001b[1;33m\u001b[0m\u001b[0m\n",
      "\u001b[1;31mAttributeError\u001b[0m: 'FourCal' object has no attribute 'first'"
     ]
    }
   ],
   "source": [
    "a = FourCal()\n",
    "a.add()"
   ]
  },
  {
   "cell_type": "markdown",
   "id": "social-selling",
   "metadata": {},
   "source": [
    "- 위의 경우 seltdata 메서드를 수행하지 않고 add 를 하게되어서 에러가 뜨는 모습이다."
   ]
  },
  {
   "cell_type": "code",
   "execution_count": 42,
   "id": "worthy-description",
   "metadata": {},
   "outputs": [],
   "source": [
    "class FourCal:\n",
    "    def __init__(self, first, second):\n",
    "        self.first = first\n",
    "        self.second = second\n",
    "    def setdata(self, first, second):\n",
    "        self.first = first\n",
    "        self.second = second\n",
    "    def add(self):\n",
    "        result = self.first + self.second\n",
    "        return result"
   ]
  },
  {
   "cell_type": "markdown",
   "id": "sought-remains",
   "metadata": {},
   "source": [
    "- init 메서드를 보게되면 setdata 메서드와 이름만 다르고 모든게 동일하다."
   ]
  },
  {
   "cell_type": "code",
   "execution_count": 43,
   "id": "personalized-collar",
   "metadata": {},
   "outputs": [
    {
     "ename": "TypeError",
     "evalue": "__init__() missing 2 required positional arguments: 'first' and 'second'",
     "output_type": "error",
     "traceback": [
      "\u001b[1;31m---------------------------------------------------------------------------\u001b[0m",
      "\u001b[1;31mTypeError\u001b[0m                                 Traceback (most recent call last)",
      "\u001b[1;32m<ipython-input-43-5cfa1e393ba9>\u001b[0m in \u001b[0;36m<module>\u001b[1;34m\u001b[0m\n\u001b[1;32m----> 1\u001b[1;33m \u001b[0ma\u001b[0m \u001b[1;33m=\u001b[0m \u001b[0mFourCal\u001b[0m\u001b[1;33m(\u001b[0m\u001b[1;33m)\u001b[0m\u001b[1;33m\u001b[0m\u001b[1;33m\u001b[0m\u001b[0m\n\u001b[0m",
      "\u001b[1;31mTypeError\u001b[0m: __init__() missing 2 required positional arguments: 'first' and 'second'"
     ]
    }
   ],
   "source": [
    "a = FourCal()"
   ]
  },
  {
   "cell_type": "markdown",
   "id": "hourly-welsh",
   "metadata": {},
   "source": [
    "- 아니? 이전에는 잘 작동하더니 왜 안될까? 이는 a = FourCal()을 수행할 때 생성자 \\_\\_init\\_\\_이 호출되어 위와 같은 오류가 발생했다. 오류가 발생한 이유는 생성자의 매개변수 first와 second에 해당하는 값이 전달되지 않았기 때문이다.\n",
    "\n",
    "- 위 오류를 해결하려면 다음처럼 first와 second에 해당되는 값을 전달하여 객체를 생성해야 한다.\n",
    "\n"
   ]
  },
  {
   "cell_type": "code",
   "execution_count": 47,
   "id": "suspended-cooper",
   "metadata": {},
   "outputs": [
    {
     "name": "stdout",
     "output_type": "stream",
     "text": [
      "4\n",
      "2\n"
     ]
    }
   ],
   "source": [
    "a = FourCal(4, 2)\n",
    "print(a.first)\n",
    "print(a.second)"
   ]
  },
  {
   "cell_type": "markdown",
   "id": "subjective-ocean",
   "metadata": {},
   "source": [
    "- 처음에 바로 \\_\\_init\\_\\_ 이 실행되명서 각 변수에 값을 할당하게 된다."
   ]
  },
  {
   "cell_type": "code",
   "execution_count": null,
   "id": "appropriate-bidder",
   "metadata": {},
   "outputs": [],
   "source": []
  }
 ],
 "metadata": {
  "kernelspec": {
   "display_name": "Python 3",
   "language": "python",
   "name": "python3"
  },
  "language_info": {
   "codemirror_mode": {
    "name": "ipython",
    "version": 3
   },
   "file_extension": ".py",
   "mimetype": "text/x-python",
   "name": "python",
   "nbconvert_exporter": "python",
   "pygments_lexer": "ipython3",
   "version": "3.7.9"
  },
  "toc": {
   "base_numbering": 1,
   "nav_menu": {},
   "number_sections": true,
   "sideBar": true,
   "skip_h1_title": false,
   "title_cell": "Table of Contents",
   "title_sidebar": "Contents",
   "toc_cell": false,
   "toc_position": {
    "height": "calc(100% - 180px)",
    "left": "10px",
    "top": "150px",
    "width": "238.559px"
   },
   "toc_section_display": true,
   "toc_window_display": true
  }
 },
 "nbformat": 4,
 "nbformat_minor": 5
}

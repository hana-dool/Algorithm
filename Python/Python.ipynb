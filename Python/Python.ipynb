{
 "cells": [
  {
   "cell_type": "markdown",
   "metadata": {},
   "source": [
    "# Intro"
   ]
  },
  {
   "cell_type": "markdown",
   "metadata": {},
   "source": [
    "- 파이썬의 철학은 '배우기 쉽고 사용하기 쉬운 언어' 라는 철학에서 시작되었다.\n",
    "- 업계 / 교육에서 많이 쓰이고 있다.\n",
    "- 풍부한 자료와 커뮤니티에서 사용되고 있음."
   ]
  },
  {
   "cell_type": "code",
   "execution_count": 1,
   "metadata": {},
   "outputs": [],
   "source": [
    "import numpy as np\n",
    "import pandas as pd\n",
    "from IPython.display import Image"
   ]
  },
  {
   "cell_type": "markdown",
   "metadata": {},
   "source": [
    "# 파이썬 기초"
   ]
  },
  {
   "cell_type": "markdown",
   "metadata": {},
   "source": [
    "## 파이썬이란"
   ]
  },
  {
   "cell_type": "markdown",
   "metadata": {},
   "source": [
    "**프로그래밍 언어란?**"
   ]
  },
  {
   "cell_type": "markdown",
   "metadata": {},
   "source": [
    "- CPU\n",
    "    - CPU 는 Central Processing Unit 의 약자로 중앙 처리 장치라고 불린다.\n",
    "    - 머리에 해당하고, 컴퓨터 프로그램의 명령을 해석하고 실행한다.\n",
    "- 메모리(RAM)\n",
    "    - 메모리는 사람의 손에 해당한다.\n",
    "    - CPU 가 데이터나 프로그램을 읽으려면 어딘가에 저장이 되어있어야 한다. 그 영역이 메모리 영역이다.\n",
    "    - 메모리 영역의 장점은 매우 빠르지만, 전원이 들어오지 않을때에는 기억하지 못하는 휘발성이 있다.\n",
    "- 하드디스크\n",
    "    - 사람의 가방에 해당한다.\n",
    "    - 전원이 없어도 오랫동안 보관이 가능하고 비휘발성을 가지고 있다.\n",
    "    - CPU 는 메모리를 거치지 않고 하드디스크의 데이터를 읽을 수 없다.\n",
    "        - 그래서 하드디스크와 메모리간 데이터 이동은 매우 빈번하다.\n",
    "        - CPI 연산시 데이터가 하드에있는지 메모리(메모리에 있으면 빠르다.)에 있는지에 따라 속도가 매우 다름\n",
    "- 프로그래밍 언어\n",
    "    - 컴퓨터는 0,1 만을 이해할 수 있는데 어떻게 명령을 내려야 할까?\n",
    "    - 프로그래밍 언어는 CPU 에 어떤 작업을 하라고 컴퓨터가 이해할 수 있게 명령을 내리는 언어이다.\n",
    "- 변수\n",
    "    - 변수는 데이터를 메모리에 저장할 때 사용하는 물리적인 메모리 주소 대신에 사용하는, 기억하기 쉬운 단어로 구성된 꼬리표\n",
    "    - 예를 들어 x=20 은 x 에 20을 저장한것이 아니라, x 에 20이라는 값의 메모리 주소를 할당한것이다."
   ]
  },
  {
   "cell_type": "markdown",
   "metadata": {},
   "source": [
    "**파이썬**"
   ]
  },
  {
   "cell_type": "markdown",
   "metadata": {},
   "source": [
    "- 동적 바인딩에 강한 타입 언어\n",
    "    - 데이터의 타입을 정의하지 않고도, 자동적으로 타입을 추론/정의해줌\n",
    "     "
   ]
  },
  {
   "cell_type": "markdown",
   "metadata": {},
   "source": [
    "## 키워드"
   ]
  },
  {
   "cell_type": "markdown",
   "metadata": {},
   "source": [
    "- 키워드 (Keyword)는 파이썬 언어에서 이미 예약되어 있는 문자열이어서 변수나 함수의 이름 등으로 사용할 수 없습니다.\n",
    "- 키워드의 종류는 다음과 같습니다.\n",
    "- False, None, True, and, as, assert, break, class, continue, def,\n",
    "del, elif, else, except, finally, for, from, global, if, import,\n",
    "in, is, lambda, nonlocal, not, or, pass, raise, return, try,\n",
    "while, with, yield\n",
    "\n",
    "\n"
   ]
  },
  {
   "cell_type": "markdown",
   "metadata": {},
   "source": [
    "## 식별자"
   ]
  },
  {
   "cell_type": "markdown",
   "metadata": {},
   "source": [
    "- 식별자 (Identifier)는 변수, 함수, 클래스와 같은 대상을 식별하기 위해 사용됩니다.\n",
    "- 식별자를 선택할 때 아래와 같은 몇가지 규칙이 있습니다.\n",
    "    - 식별자는 소문자, 대문자, 숫자, 언더스코어 (_)의 조합으로 이루어져야 합니다.\n",
    "    - 식별자는 숫자로 시작할 수 없습니다. 예를 들어, ‘my_var1’은 가능하지만, ‘1my_var’은 사용할 수 없습니다.\n",
    "    - 식별자에 키워드를 사용할 수 없습니다.\n",
    "    - 식별자에 !, @, #, $, %와 같은 특수문자는 사용할 수 없습니다.\n",
    "\n"
   ]
  },
  {
   "cell_type": "markdown",
   "metadata": {},
   "source": [
    "## 들여쓰기"
   ]
  },
  {
   "cell_type": "markdown",
   "metadata": {},
   "source": [
    "- 파이썬에서는 들여쓰기를 사용합니다.\n",
    "- 탭 (tab) 키 또는 두 칸 또는 네 칸의 공백을 이용해서 if 문, for 문, 함수의 내부 영역을 구분합니다.\n",
    "\n"
   ]
  },
  {
   "cell_type": "markdown",
   "metadata": {},
   "source": [
    "## 주석"
   ]
  },
  {
   "cell_type": "markdown",
   "metadata": {},
   "source": [
    "- 주석 (Comment)은 실행되지 않는 코드 부분을 말합니다.\n",
    "- 주로 코드의 의미를 설명하고, 이해하기 쉽게 하기 위해서 # 을 사용합니다.\n",
    "\n"
   ]
  },
  {
   "cell_type": "markdown",
   "metadata": {},
   "source": [
    "## mutable, immutable"
   ]
  },
  {
   "cell_type": "markdown",
   "metadata": {},
   "source": [
    "- mutable/imutable\n",
    "    - immutable \n",
    "        - 변경할 수 없는\n",
    "        - 숫자(float, int...), 문자열, 튜플, bool\n",
    "        -ex) str = 'abc' 를 지정했다고 하자. str = str+'b' 로 update 하면 str의 주소(물리적) 이 바뀌게 된다. 즉 '주소를 그래도 두고' 변경이 불가능\n",
    "        - 즉 inplace 연산이 없다.\n",
    "    - mutable\n",
    "        - 변경할 수 있는\n",
    "        - list, dict, set\n",
    "        - EX) lis.append('a') 를 해서 lis 를 update 했다고 하자. 그러면 list 의 주소는 그대로인 상태로 그 리스트가 바뀌게 된다. 즉 '주소가 그대로' 인데 그 값이 변경될 수 있다.\n",
    "        - inplace 연산이 있다.\n",
    "- 왜 mutable/immutable 이 있을까?\n",
    "    - 이는 바로 성능적인 이점떄문\n",
    "    - mutable 인 경우 많은 메소드 적용 가능(append)\n",
    "    - immutable 은 많은 메소드를 적용하지 못하나, 메모리상의 이점이 있음\n",
    "        - mutable 에 계속 for문 돌리면서 변경하면 메모리 부족하게 된다.\n",
    "        - 또는 mutable 의 객체를 계속 형성하고 삭제하지 않으면 메모리를 잡아먹는다.\n",
    "        - 그래서 dict 의 연산시 메모리를 절약하기 위해서 tuple 로 바꾼다음에 연산을 한 다음 dict 로 다시 바꾸는 경우도 있다."
   ]
  },
  {
   "cell_type": "markdown",
   "metadata": {},
   "source": [
    "**변경**"
   ]
  },
  {
   "cell_type": "markdown",
   "metadata": {},
   "source": [
    "- mutable 에서는 변경한 경우에도 그 id(주소) 는 그대로 유지된다."
   ]
  },
  {
   "cell_type": "code",
   "execution_count": 44,
   "metadata": {
    "scrolled": true
   },
   "outputs": [
    {
     "name": "stdout",
     "output_type": "stream",
     "text": [
      "1907297816840\n",
      "1907297816840\n"
     ]
    }
   ],
   "source": [
    "a = [1,2,3]\n",
    "print(id(a))\n",
    "a[0] = 9\n",
    "print(id(a))"
   ]
  },
  {
   "cell_type": "markdown",
   "metadata": {},
   "source": [
    "- immutable 에서는 아래와 같이 변경을 시도하게 되면 에러가 뜬다."
   ]
  },
  {
   "cell_type": "code",
   "execution_count": 45,
   "metadata": {
    "scrolled": true
   },
   "outputs": [
    {
     "name": "stdout",
     "output_type": "stream",
     "text": [
      "1907193470448\n"
     ]
    },
    {
     "ename": "TypeError",
     "evalue": "'str' object does not support item assignment",
     "output_type": "error",
     "traceback": [
      "\u001b[1;31m---------------------------------------------------------------------------\u001b[0m",
      "\u001b[1;31mTypeError\u001b[0m                                 Traceback (most recent call last)",
      "\u001b[1;32m<ipython-input-45-b0c9d405b2d0>\u001b[0m in \u001b[0;36m<module>\u001b[1;34m\u001b[0m\n\u001b[0;32m      1\u001b[0m \u001b[0ma\u001b[0m \u001b[1;33m=\u001b[0m \u001b[1;34m'string'\u001b[0m\u001b[1;33m\u001b[0m\u001b[1;33m\u001b[0m\u001b[0m\n\u001b[0;32m      2\u001b[0m \u001b[0mprint\u001b[0m\u001b[1;33m(\u001b[0m\u001b[0mid\u001b[0m\u001b[1;33m(\u001b[0m\u001b[0ma\u001b[0m\u001b[1;33m)\u001b[0m\u001b[1;33m)\u001b[0m\u001b[1;33m\u001b[0m\u001b[1;33m\u001b[0m\u001b[0m\n\u001b[1;32m----> 3\u001b[1;33m \u001b[0ma\u001b[0m\u001b[1;33m[\u001b[0m\u001b[1;36m0\u001b[0m\u001b[1;33m]\u001b[0m \u001b[1;33m=\u001b[0m \u001b[1;34m't'\u001b[0m\u001b[1;33m\u001b[0m\u001b[1;33m\u001b[0m\u001b[0m\n\u001b[0m",
      "\u001b[1;31mTypeError\u001b[0m: 'str' object does not support item assignment"
     ]
    }
   ],
   "source": [
    "a = 'string'\n",
    "print(id(a))\n",
    "a[0] = 't'"
   ]
  },
  {
   "cell_type": "markdown",
   "metadata": {},
   "source": [
    "**할당**"
   ]
  },
  {
   "cell_type": "markdown",
   "metadata": {},
   "source": [
    "- mutable\n",
    "- b=a 를 하게 되면, 변수명은 다를지어도, 같은 메모리 주소를 바라보게 된다. \n",
    "- 즉 mutable 의 경우 b를 변경하게 되면 a 도 바뀐다."
   ]
  },
  {
   "cell_type": "code",
   "execution_count": 47,
   "metadata": {},
   "outputs": [
    {
     "data": {
      "text/plain": [
       "[1, 2, 3]"
      ]
     },
     "execution_count": 47,
     "metadata": {},
     "output_type": "execute_result"
    }
   ],
   "source": [
    "a = [1,2,3]\n",
    "b = a \n",
    "b = [3,4,3]\n",
    "a"
   ]
  },
  {
   "cell_type": "markdown",
   "metadata": {},
   "source": [
    "- immutable 의 경우는 좀 다르다. \n",
    "- 애초에 객체가 변경 불가능하기 때문에, 바뀐다는것은, 메모리 주소도 새로이 할당된다는 것이다.\n",
    "- 그러므로 아래와 같이, id 가 바뀌게된다."
   ]
  },
  {
   "cell_type": "code",
   "execution_count": 50,
   "metadata": {},
   "outputs": [
    {
     "name": "stdout",
     "output_type": "stream",
     "text": [
      "abc\n"
     ]
    }
   ],
   "source": [
    "a = 'abc'\n",
    "b = a \n",
    "b.upper() # 모두 대문자로 바꾸어본다.\n",
    "print(a) # a는 바뀌지 않았다."
   ]
  },
  {
   "cell_type": "markdown",
   "metadata": {},
   "source": [
    "## 객체"
   ]
  },
  {
   "cell_type": "markdown",
   "metadata": {},
   "source": [
    "- 객체란?\n",
    "    - 객체는 어떤 속성값과 행동을 가지고 있는 데이타이다.\n",
    "    - 파이썬의 모든것들은 여러 속성과 행동을 가지고 있다. (즉 그 본연의 개념만 아니라, 다양한 정보와 행동을 가지고 있다는 뜻 )\n",
    "        - 예를 들어 '안녕' 이라는 문자열은 그냥 안녕 이라는 string 의 의미 뿐만 아니라, join,upper,..... 등의 메서드도 같이 가지고 있는 '객체' 인 것이다.\n",
    "    - 파이썬은 모든것을 객체로 취급한다.\n",
    "- 객체의 저장\n",
    "    - 파이썬에서 객체가 생성된다는것은, 객체의 속성값들을 포함한 정보가 생성된다는것이다.\n",
    "    - 이러한 정보들은 컴퓨터'내' 에 저장되어야 한다. \n",
    "    - 하지만 객체는 빠르게 연산되여야 하기 때문에 하드디스크가 아니라 메모리 위에 올라가게 된다.\n",
    "    - 즉! 메모리 위에 객체들이 올라갈때마다 메모리에 용량을 차지하게 된다.\n",
    "- 메모리\n",
    "    - 하지만 우리가 가진 메모리는 대게 8 ~ 16G 이다. \n",
    "    - 메모리에 올라간 객체들이 사용되지 않으면, 메모리 용량을 차지하지 않도록 지워야 컴퓨터 속도가 떨어지지 않는다.\n",
    "    - 이 때에 GC(galbage collector) 라 불리는 파이썬 내부에 사용되지 않는 파이썬 객체들을 자동으로 중간중간 제거해준다.\n",
    "\n"
   ]
  },
  {
   "cell_type": "markdown",
   "metadata": {},
   "source": [
    "## 변수"
   ]
  },
  {
   "cell_type": "markdown",
   "metadata": {},
   "source": [
    "**변수 이름 정하기**"
   ]
  },
  {
   "cell_type": "markdown",
   "metadata": {},
   "source": [
    "1. 의미를 알 수 있게 하자.\n",
    "2. 소문자 ‘l’/대문자 ‘O’/대문자 ‘I’는 피하자.\n",
    "3. 변수와 함수의 이름은 소문자로만 구성한다.\n",
    "4. 문자열의 연결은 언더스코어 (_) 사용\n",
    "5. 클래스의 이름은 CapWords 스타일로.(즉 첫자만 대문자)\n",
    "6. 상수는 모두 대문자로 표시한다.\n"
   ]
  },
  {
   "cell_type": "markdown",
   "metadata": {},
   "source": [
    "## iterable"
   ]
  },
  {
   "cell_type": "markdown",
   "metadata": {},
   "source": [
    "- iterable\n",
    "    - 반복 가능한 개체\n",
    "    - list, dict, set, str, tuple, range 의 객체들이 대표적이다. "
   ]
  },
  {
   "cell_type": "markdown",
   "metadata": {},
   "source": [
    "# 파이썬 중급"
   ]
  },
  {
   "cell_type": "markdown",
   "metadata": {},
   "source": [
    "## 잡다상식"
   ]
  },
  {
   "cell_type": "markdown",
   "metadata": {},
   "source": [
    "- 빈 Sequence(String / Tuple / List)는 False 값을 가진다."
   ]
  },
  {
   "cell_type": "markdown",
   "metadata": {},
   "source": [
    "## Name space"
   ]
  },
  {
   "cell_type": "markdown",
   "metadata": {},
   "source": [
    "- 변수에 객체를 할당하면, 변수와 변수에 연결된 객체는 딕셔너리형태(key, value)로 연결되어 네임스페이스 안에 저장됩니다."
   ]
  },
  {
   "cell_type": "markdown",
   "metadata": {},
   "source": [
    "- globals() 함수를 통해 현재 global space 내의 전체 namespace 들을 살펴볼 수 있다."
   ]
  },
  {
   "cell_type": "code",
   "execution_count": 33,
   "metadata": {
    "scrolled": true
   },
   "outputs": [
    {
     "name": "stdout",
     "output_type": "stream",
     "text": [
      "{'__name__': '__main__', '__doc__': 'Automatically created module for IPython interactive environment', '__package__': None, '__loader__': None, '__spec__': None, '__builtin__': <module 'builtins' (built-in)>, '__builtins__': <module 'builtins' (built-in)>, '_ih': ['', \"Image('./image/name_space1.png')\", 'import numpy as np\\nimport pandas as pd\\nfrom IPython.display import Image', \"Image('./image/name_space1.png')\", \"a = 3\\ndef func():\\n    a = 100\\n    b = 'python'\\nfunc()\\nprint(globals())\", \"a = 3\\ndef func():\\n    a = 100\\n    b = 'python'\\nprint(globals())\", \"a = 3\\ndef func():\\n    a = 100\\n    b = 'python'\\nfunc()\\nprint(globals())\", \"a = 3\\nc = 'Hello'\\ndef func():\\n    a = 100\\n    b = 'python'\\n    print('함수 내부 namespace', locals())\\nfunc()\", \"a = 3\\nc = 'Hello'\\ndef func():\\n    a = 100\\n    b = 'python'\\n    print('함수 내부 namespace', locals())\\nfunc()\", \"a = 100\\n\\ndef func():\\n    def inner():\\n        b = 'python'\\n    inner()\\n    print(a)\\n    print(b)\\nfunc()\", 'max([1,2,3])', '# 리스트의 모든 값을 정수로 변환하고 싶다고 하자.\\n# MAP 함수를 모른다면 아래와 같이 for 문으로 일일히 int 함수를 적용시켜야 한다.\\nlis = [1.2, 2.5, 3.7, 4.6]\\nfor i in range(len(lis)):\\n    lis[i] = int(lis[i])\\nlis', '# 하지만 아래와 같이 적용 가능\\nlis = list(map(int, lis))\\nlis', \"print('x')\\nprint('y')\", \"a = 10, b = 20\\nprint('x') ; print('y')\\nprint('x',end = ' ') ; print('y',end = ' ')\", \"a = 10, b = 20\\nprint('x') ; print('y')\\nprint('x',end = ' ') ; print('y',end = ' ')\", \"a = 10 ; b = 20\\nprint('x') ; print('y')\\nprint('x',end = ' ') ; print('y',end = ' ')\", \"a = 10 ; b = 20\\nprint('x') ; print('y') # x,y 가 줄바꿈으로 구분되어 출력되고있다.\\nprint('x',end = ' ') ; print('y',end = ' ') # x,y 가 띄어쓰기를 경계로 구분되고 있다.\", \"a = 10 ; b = 20\\nprint('x') ; print('y') # x,y 가 줄바꿈으로 구분되어 출력되고있다.\\nprint('x',end = ' ') ; print('y',end = ' ') # x,y 가 띄어쓰기를 경계로 구분되고 있다.\", \"a = 10 ; b = 20\\nprint('x') ; print('y') # x,y 가 줄바꿈으로 구분되어 출력되고있다.\\nprint('x',end = ' ') ; print('y',end = ' ') # x,y 가 띄어쓰기를 경계로 구분되고 있다.\\nprint('f{a}와{b}')\", \"a = 10 ; b = 20\\nprint('x') ; print('y') # x,y 가 줄바꿈으로 구분되어 출력되고있다.\\nprint('x',end = ' ') ; print('y',end = ' ') # x,y 가 띄어쓰기를 경계로 구분되고 있다.\\nprint(f'{a}와{b}')\", \"a = 10 ; b = 20\\nprint('x') ; print('y') # x,y 가 줄바꿈으로 구분되어 출력되고있다.\\nprint('x',end = ' ') ; print('y') # x,y 가 띄어쓰기를 경계로 구분되고 있다.\\nprint(f'{a}와{b}')\", \"a = 10 ; b = 20\\nprint('x') ; print('y') # x,y 가 줄바꿈으로 구분되어 출력되고있다.\\nprint('x',end = ' ') ; print('y') # x,y 가 띄어쓰기를 경계로 구분되고 있다.\\nprint(f'{a}와{b}') # f strn\", \"a = 10 ; b = 20\\nprint('x') ; print('y') # x,y 가 줄바꿈으로 구분되어 출력되고있다.\\nprint('x',end = ' ') ; print('y') # x,y 가 띄어쓰기를 경계로 구분되고 있다.\\nprint(f'{a}와{b}') # f string 을 이용해 변수의 '값' 을 출력하고 있는 모습\", \"a = 10 ; b = 20\\nprint('x') ; print('y') # x,y 가 줄바꿈으로 구분되어 출력되고있다.\\nprint('x',end = ' ') ; print('y') # x,y 가 띄어쓰기를 경계로 구분되고 있다.\\nprint(f'{a} 와 {b}') # f string 을 이용해 변수의 '값' 을 출력하고 있는 모습\", '2^20', '2**30', '2**32', '2**64', '2**65', '2**100', '2**240', '2**1000', \"a = 3\\ndef func():\\n    a = 100\\n    b = 'python'\\nfunc()\\nprint(globals())\"], '_oh': {3: <IPython.core.display.Image object>, 10: 3, 11: [1, 2, 3, 4], 12: [1, 2, 3, 4], 25: 22, 26: 1073741824, 27: 4294967296, 28: 18446744073709551616, 29: 36893488147419103232, 30: 1267650600228229401496703205376, 31: 1766847064778384329583297500742918515827483896875618958121606201292619776, 32: 10715086071862673209484250490600018105614048117055336074437503883703510511249361224931983788156958581275946729175531468251871452856923140435984577574698574803934567774824230985421074605062371141877954182153046474983581941267398767559165543946077062914571196477686542167660429831652624386837205668069376}, '_dh': ['C:\\\\Users\\\\goran\\\\Desktop\\\\Git_Hub\\\\Algorithm\\\\Python'], 'In': ['', \"Image('./image/name_space1.png')\", 'import numpy as np\\nimport pandas as pd\\nfrom IPython.display import Image', \"Image('./image/name_space1.png')\", \"a = 3\\ndef func():\\n    a = 100\\n    b = 'python'\\nfunc()\\nprint(globals())\", \"a = 3\\ndef func():\\n    a = 100\\n    b = 'python'\\nprint(globals())\", \"a = 3\\ndef func():\\n    a = 100\\n    b = 'python'\\nfunc()\\nprint(globals())\", \"a = 3\\nc = 'Hello'\\ndef func():\\n    a = 100\\n    b = 'python'\\n    print('함수 내부 namespace', locals())\\nfunc()\", \"a = 3\\nc = 'Hello'\\ndef func():\\n    a = 100\\n    b = 'python'\\n    print('함수 내부 namespace', locals())\\nfunc()\", \"a = 100\\n\\ndef func():\\n    def inner():\\n        b = 'python'\\n    inner()\\n    print(a)\\n    print(b)\\nfunc()\", 'max([1,2,3])', '# 리스트의 모든 값을 정수로 변환하고 싶다고 하자.\\n# MAP 함수를 모른다면 아래와 같이 for 문으로 일일히 int 함수를 적용시켜야 한다.\\nlis = [1.2, 2.5, 3.7, 4.6]\\nfor i in range(len(lis)):\\n    lis[i] = int(lis[i])\\nlis', '# 하지만 아래와 같이 적용 가능\\nlis = list(map(int, lis))\\nlis', \"print('x')\\nprint('y')\", \"a = 10, b = 20\\nprint('x') ; print('y')\\nprint('x',end = ' ') ; print('y',end = ' ')\", \"a = 10, b = 20\\nprint('x') ; print('y')\\nprint('x',end = ' ') ; print('y',end = ' ')\", \"a = 10 ; b = 20\\nprint('x') ; print('y')\\nprint('x',end = ' ') ; print('y',end = ' ')\", \"a = 10 ; b = 20\\nprint('x') ; print('y') # x,y 가 줄바꿈으로 구분되어 출력되고있다.\\nprint('x',end = ' ') ; print('y',end = ' ') # x,y 가 띄어쓰기를 경계로 구분되고 있다.\", \"a = 10 ; b = 20\\nprint('x') ; print('y') # x,y 가 줄바꿈으로 구분되어 출력되고있다.\\nprint('x',end = ' ') ; print('y',end = ' ') # x,y 가 띄어쓰기를 경계로 구분되고 있다.\", \"a = 10 ; b = 20\\nprint('x') ; print('y') # x,y 가 줄바꿈으로 구분되어 출력되고있다.\\nprint('x',end = ' ') ; print('y',end = ' ') # x,y 가 띄어쓰기를 경계로 구분되고 있다.\\nprint('f{a}와{b}')\", \"a = 10 ; b = 20\\nprint('x') ; print('y') # x,y 가 줄바꿈으로 구분되어 출력되고있다.\\nprint('x',end = ' ') ; print('y',end = ' ') # x,y 가 띄어쓰기를 경계로 구분되고 있다.\\nprint(f'{a}와{b}')\", \"a = 10 ; b = 20\\nprint('x') ; print('y') # x,y 가 줄바꿈으로 구분되어 출력되고있다.\\nprint('x',end = ' ') ; print('y') # x,y 가 띄어쓰기를 경계로 구분되고 있다.\\nprint(f'{a}와{b}')\", \"a = 10 ; b = 20\\nprint('x') ; print('y') # x,y 가 줄바꿈으로 구분되어 출력되고있다.\\nprint('x',end = ' ') ; print('y') # x,y 가 띄어쓰기를 경계로 구분되고 있다.\\nprint(f'{a}와{b}') # f strn\", \"a = 10 ; b = 20\\nprint('x') ; print('y') # x,y 가 줄바꿈으로 구분되어 출력되고있다.\\nprint('x',end = ' ') ; print('y') # x,y 가 띄어쓰기를 경계로 구분되고 있다.\\nprint(f'{a}와{b}') # f string 을 이용해 변수의 '값' 을 출력하고 있는 모습\", \"a = 10 ; b = 20\\nprint('x') ; print('y') # x,y 가 줄바꿈으로 구분되어 출력되고있다.\\nprint('x',end = ' ') ; print('y') # x,y 가 띄어쓰기를 경계로 구분되고 있다.\\nprint(f'{a} 와 {b}') # f string 을 이용해 변수의 '값' 을 출력하고 있는 모습\", '2^20', '2**30', '2**32', '2**64', '2**65', '2**100', '2**240', '2**1000', \"a = 3\\ndef func():\\n    a = 100\\n    b = 'python'\\nfunc()\\nprint(globals())\"], 'Out': {3: <IPython.core.display.Image object>, 10: 3, 11: [1, 2, 3, 4], 12: [1, 2, 3, 4], 25: 22, 26: 1073741824, 27: 4294967296, 28: 18446744073709551616, 29: 36893488147419103232, 30: 1267650600228229401496703205376, 31: 1766847064778384329583297500742918515827483896875618958121606201292619776, 32: 10715086071862673209484250490600018105614048117055336074437503883703510511249361224931983788156958581275946729175531468251871452856923140435984577574698574803934567774824230985421074605062371141877954182153046474983581941267398767559165543946077062914571196477686542167660429831652624386837205668069376}, 'get_ipython': <bound method InteractiveShell.get_ipython of <ipykernel.zmqshell.ZMQInteractiveShell object at 0x000001BC11A5C248>>, 'exit': <IPython.core.autocall.ZMQExitAutocall object at 0x000001BC11A0A508>, 'quit': <IPython.core.autocall.ZMQExitAutocall object at 0x000001BC11A0A508>, '_': 10715086071862673209484250490600018105614048117055336074437503883703510511249361224931983788156958581275946729175531468251871452856923140435984577574698574803934567774824230985421074605062371141877954182153046474983581941267398767559165543946077062914571196477686542167660429831652624386837205668069376, '__': 1766847064778384329583297500742918515827483896875618958121606201292619776, '___': 1267650600228229401496703205376, '_i': '2**1000', '_ii': '2**240', '_iii': '2**100', '_i1': \"Image('./image/name_space1.png')\", '_i2': 'import numpy as np\\nimport pandas as pd\\nfrom IPython.display import Image', 'np': <module 'numpy' from 'C:\\\\Users\\\\goran\\\\Anaconda3\\\\envs\\\\tensor\\\\lib\\\\site-packages\\\\numpy\\\\__init__.py'>, 'pd': <module 'pandas' from 'C:\\\\Users\\\\goran\\\\Anaconda3\\\\envs\\\\tensor\\\\lib\\\\site-packages\\\\pandas\\\\__init__.py'>, 'Image': <class 'IPython.core.display.Image'>, '_i3': \"Image('./image/name_space1.png')\", '_3': <IPython.core.display.Image object>, '_i4': \"a = 3\\ndef func():\\n    a = 100\\n    b = 'python'\\nfunc()\\nprint(globals())\", 'a': 3, 'func': <function func at 0x000001BC13CEC708>, '_i5': \"a = 3\\ndef func():\\n    a = 100\\n    b = 'python'\\nprint(globals())\", '_i6': \"a = 3\\ndef func():\\n    a = 100\\n    b = 'python'\\nfunc()\\nprint(globals())\", '_i7': \"a = 3\\nc = 'Hello'\\ndef func():\\n    a = 100\\n    b = 'python'\\n    print('함수 내부 namespace', locals())\\nfunc()\", 'c': 'Hello', '_i8': \"a = 3\\nc = 'Hello'\\ndef func():\\n    a = 100\\n    b = 'python'\\n    print('함수 내부 namespace', locals())\\nfunc()\", '_i9': \"a = 100\\n\\ndef func():\\n    def inner():\\n        b = 'python'\\n    inner()\\n    print(a)\\n    print(b)\\nfunc()\", '_i10': 'max([1,2,3])', '_10': 3, '_i11': '# 리스트의 모든 값을 정수로 변환하고 싶다고 하자.\\n# MAP 함수를 모른다면 아래와 같이 for 문으로 일일히 int 함수를 적용시켜야 한다.\\nlis = [1.2, 2.5, 3.7, 4.6]\\nfor i in range(len(lis)):\\n    lis[i] = int(lis[i])\\nlis', 'lis': [1, 2, 3, 4], 'i': 3, '_11': [1, 2, 3, 4], '_i12': '# 하지만 아래와 같이 적용 가능\\nlis = list(map(int, lis))\\nlis', '_12': [1, 2, 3, 4], '_i13': \"print('x')\\nprint('y')\", '_i14': \"a = 10, b = 20\\nprint('x') ; print('y')\\nprint('x',end = ' ') ; print('y',end = ' ')\", '_i15': \"a = 10, b = 20\\nprint('x') ; print('y')\\nprint('x',end = ' ') ; print('y',end = ' ')\", '_i16': \"a = 10 ; b = 20\\nprint('x') ; print('y')\\nprint('x',end = ' ') ; print('y',end = ' ')\", 'b': 20, '_i17': \"a = 10 ; b = 20\\nprint('x') ; print('y') # x,y 가 줄바꿈으로 구분되어 출력되고있다.\\nprint('x',end = ' ') ; print('y',end = ' ') # x,y 가 띄어쓰기를 경계로 구분되고 있다.\", '_i18': \"a = 10 ; b = 20\\nprint('x') ; print('y') # x,y 가 줄바꿈으로 구분되어 출력되고있다.\\nprint('x',end = ' ') ; print('y',end = ' ') # x,y 가 띄어쓰기를 경계로 구분되고 있다.\", '_i19': \"a = 10 ; b = 20\\nprint('x') ; print('y') # x,y 가 줄바꿈으로 구분되어 출력되고있다.\\nprint('x',end = ' ') ; print('y',end = ' ') # x,y 가 띄어쓰기를 경계로 구분되고 있다.\\nprint('f{a}와{b}')\", '_i20': \"a = 10 ; b = 20\\nprint('x') ; print('y') # x,y 가 줄바꿈으로 구분되어 출력되고있다.\\nprint('x',end = ' ') ; print('y',end = ' ') # x,y 가 띄어쓰기를 경계로 구분되고 있다.\\nprint(f'{a}와{b}')\", '_i21': \"a = 10 ; b = 20\\nprint('x') ; print('y') # x,y 가 줄바꿈으로 구분되어 출력되고있다.\\nprint('x',end = ' ') ; print('y') # x,y 가 띄어쓰기를 경계로 구분되고 있다.\\nprint(f'{a}와{b}')\", '_i22': \"a = 10 ; b = 20\\nprint('x') ; print('y') # x,y 가 줄바꿈으로 구분되어 출력되고있다.\\nprint('x',end = ' ') ; print('y') # x,y 가 띄어쓰기를 경계로 구분되고 있다.\\nprint(f'{a}와{b}') # f strn\", '_i23': \"a = 10 ; b = 20\\nprint('x') ; print('y') # x,y 가 줄바꿈으로 구분되어 출력되고있다.\\nprint('x',end = ' ') ; print('y') # x,y 가 띄어쓰기를 경계로 구분되고 있다.\\nprint(f'{a}와{b}') # f string 을 이용해 변수의 '값' 을 출력하고 있는 모습\", '_i24': \"a = 10 ; b = 20\\nprint('x') ; print('y') # x,y 가 줄바꿈으로 구분되어 출력되고있다.\\nprint('x',end = ' ') ; print('y') # x,y 가 띄어쓰기를 경계로 구분되고 있다.\\nprint(f'{a} 와 {b}') # f string 을 이용해 변수의 '값' 을 출력하고 있는 모습\", '_i25': '2^20', '_25': 22, '_i26': '2**30', '_26': 1073741824, '_i27': '2**32', '_27': 4294967296, '_i28': '2**64', '_28': 18446744073709551616, '_i29': '2**65', '_29': 36893488147419103232, '_i30': '2**100', '_30': 1267650600228229401496703205376, '_i31': '2**240', '_31': 1766847064778384329583297500742918515827483896875618958121606201292619776, '_i32': '2**1000', '_32': 10715086071862673209484250490600018105614048117055336074437503883703510511249361224931983788156958581275946729175531468251871452856923140435984577574698574803934567774824230985421074605062371141877954182153046474983581941267398767559165543946077062914571196477686542167660429831652624386837205668069376, '_i33': \"a = 3\\ndef func():\\n    a = 100\\n    b = 'python'\\nfunc()\\nprint(globals())\"}\n"
     ]
    }
   ],
   "source": [
    "a = 3\n",
    "def func():\n",
    "    a = 100\n",
    "    b = 'python'\n",
    "func()\n",
    "print(globals())"
   ]
  },
  {
   "cell_type": "markdown",
   "metadata": {},
   "source": [
    "- 함수는 함수만의 별도로 구분된 네임 스페이스 공간을 가진다.\n",
    "- locals() 함수는 실행하는 공간의 namespace 를 출력해준다. 함수 안에서 locals 함수를 실행했기 때문에 함수 안의 namespace 를 출력하게 된다."
   ]
  },
  {
   "cell_type": "code",
   "execution_count": 34,
   "metadata": {
    "scrolled": true
   },
   "outputs": [
    {
     "name": "stdout",
     "output_type": "stream",
     "text": [
      "함수 내부 namespace {'a': 100, 'b': 'python'}\n"
     ]
    }
   ],
   "source": [
    "a = 3\n",
    "c = 'Hello'\n",
    "def func():\n",
    "    a = 100\n",
    "    b = 'python'\n",
    "    print('함수 내부 namespace', locals())\n",
    "func()"
   ]
  },
  {
   "cell_type": "markdown",
   "metadata": {},
   "source": [
    "- 함수 안에 함수를 또 생성하게 되면 어떻게 될까?\n",
    "- 아래와 같이 다른 함수안에 있어도, 별도의 namespace 를 가지게 되는것을 확인할 수 있다."
   ]
  },
  {
   "cell_type": "code",
   "execution_count": 35,
   "metadata": {
    "scrolled": true
   },
   "outputs": [
    {
     "name": "stdout",
     "output_type": "stream",
     "text": [
      "외부 함수 내부 namespace {'a': 100, 'b': 'python'}\n",
      "내부 함수 내부 namespace {}\n"
     ]
    }
   ],
   "source": [
    "a = 3\n",
    "c = 'Hello'\n",
    "def func():\n",
    "    a = 100\n",
    "    b = 'python'\n",
    "    print('외부 함수 내부 namespace', locals())\n",
    "    def inner_func():\n",
    "        print('내부 함수 내부 namespace', locals())\n",
    "    inner_func()\n",
    "func()"
   ]
  },
  {
   "cell_type": "markdown",
   "metadata": {},
   "source": [
    "**네임스페이스 참조**"
   ]
  },
  {
   "cell_type": "markdown",
   "metadata": {},
   "source": [
    "- 네임 스페이스가 다르면 값을 참조할 수 없다."
   ]
  },
  {
   "cell_type": "code",
   "execution_count": 40,
   "metadata": {},
   "outputs": [
    {
     "ename": "NameError",
     "evalue": "name 'kk' is not defined",
     "output_type": "error",
     "traceback": [
      "\u001b[1;31m---------------------------------------------------------------------------\u001b[0m",
      "\u001b[1;31mNameError\u001b[0m                                 Traceback (most recent call last)",
      "\u001b[1;32m<ipython-input-40-6dce96a9c0a2>\u001b[0m in \u001b[0;36m<module>\u001b[1;34m\u001b[0m\n\u001b[0;32m      1\u001b[0m \u001b[1;32mdef\u001b[0m \u001b[0mfunc\u001b[0m\u001b[1;33m(\u001b[0m\u001b[1;33m)\u001b[0m\u001b[1;33m:\u001b[0m\u001b[1;33m\u001b[0m\u001b[1;33m\u001b[0m\u001b[0m\n\u001b[0;32m      2\u001b[0m       \u001b[0mkk\u001b[0m \u001b[1;33m=\u001b[0m \u001b[1;36m3\u001b[0m\u001b[1;33m\u001b[0m\u001b[1;33m\u001b[0m\u001b[0m\n\u001b[1;32m----> 3\u001b[1;33m \u001b[0mprint\u001b[0m\u001b[1;33m(\u001b[0m\u001b[0mkk\u001b[0m\u001b[1;33m)\u001b[0m\u001b[1;33m\u001b[0m\u001b[1;33m\u001b[0m\u001b[0m\n\u001b[0m",
      "\u001b[1;31mNameError\u001b[0m: name 'kk' is not defined"
     ]
    }
   ],
   "source": [
    "def func():\n",
    "      kk = 3\n",
    "print(kk)"
   ]
  },
  {
   "cell_type": "markdown",
   "metadata": {},
   "source": [
    "- 하지만 global 변수(정확하게는 상위층의 변수)를 참조할 수 있습니다."
   ]
  },
  {
   "cell_type": "code",
   "execution_count": 41,
   "metadata": {
    "scrolled": true
   },
   "outputs": [
    {
     "name": "stdout",
     "output_type": "stream",
     "text": [
      "100\n",
      "20\n"
     ]
    }
   ],
   "source": [
    "a = 100\n",
    "def func():\n",
    "    def inner():\n",
    "        b = 'python'\n",
    "    inner()\n",
    "    print(a)\n",
    "    print(b)\n",
    "func()"
   ]
  },
  {
   "cell_type": "code",
   "execution_count": 42,
   "metadata": {
    "scrolled": true
   },
   "outputs": [
    {
     "data": {
      "image/png": "[encoded data removed]",
      "text/plain": [
       "<IPython.core.display.Image object>"
      ]
     },
     "execution_count": 42,
     "metadata": {},
     "output_type": "execute_result"
    }
   ],
   "source": [
    "Image('./image/name_space1.png')"
   ]
  },
  {
   "cell_type": "markdown",
   "metadata": {},
   "source": [
    "**왜 분리하였을까?**"
   ]
  },
  {
   "cell_type": "markdown",
   "metadata": {},
   "source": [
    "- 함수별로 네임스페이스가 분리되어있지 않고, 하나로 관리된다면 함수를 만드는데에 복잡한 고려사항이 생긴다.\n",
    "    - 함수를 만들때에 모든 변수를 겹치지 않게 만들어야 하게 되고,\n",
    "    - 또 여러 모듈의 함수를 합칠때에 변수의 이름이 겹치지 않게 주의해야한다.\n",
    "- 위 같은 충돌이 생기지 않게 하기 위해서, 분리하여 관리하게 된다."
   ]
  },
  {
   "cell_type": "markdown",
   "metadata": {},
   "source": [
    "## import"
   ]
  },
  {
   "cell_type": "markdown",
   "metadata": {},
   "source": [
    "- 파이썬에서 module 은 파이썬 코드를 담고 있는 파일이다. 해당 파일에는 파이썬 클래스, 함수 또는 단순하게 names 의 리스트가 들어있을 수 있다.\n",
    "- 모듈은 자신만의 유일한 namespace 를 갖는다.(모듈의 namespace 이름은 보통 모듈의 파일이름과 같다.) 그래서 동일한 모듈내에서 동일한 이름을 가지는 클래스나 함수를 정의할 수 없다. 또한 모듈은 각각 완벽하게 독립적(isolated)이기 때문에(namespace 가 다르기 때문에), 두 모듈은 동일한 이름을 갖는 클래스나 함수를 정의할 수 있다."
   ]
  },
  {
   "cell_type": "markdown",
   "metadata": {},
   "source": [
    "- import 명령을 가지고 namespace 에 대해서 조금 더 알아보도록 하자. module 을 import 하는 방법은 여러가지가 있다. 방법에 따라 namespace 가 달라 질 수가 있다.\n",
    "\n",
    "**1. import (module_name)**\n",
    "\n",
    "모듈을 import 하는 가장 간단한 방법이고, 일반적으로 추천되는 방법이다. 이렇게 import 를 하게 되면 module 의 name 을 prefix 로 사용함으로써 모듈의 namespace 에 접근할 수 있다.\n",
    "\n",
    "\n",
    "**2. from (module_name) import (name)**\n",
    "\n",
    "모듈의 namespace 에서 import 에서 지정된 name 들을 직접 가져오도록 한다. 이렇게 하게 되면 import 이후에 지정한 name 들은 module 의 name을 prefix 로 지정하지 않고도 접근이 가능하다. 하지만, 이 경우에 module 에서 import 된 이름과 main script 에서 지정된 이름이 동일한 경우, 나중에 정의되는 이름으로 대체되어서 이전 것에 접근이 불가능하게 된다.\n",
    "\n",
    "**3. from (module_name) import ***\n",
    "\n",
    "2 와 동일하지만, module 에 있는 모든 name 을 직접 현재 namespace 로 가져오게 된다. 이렇게 되면 namespace 가 섞이게 되어서 일반적으로 사용을 권장하지 않는다. 차라리 첫번째 타입(1번)의 import 를 사용하는 것이 좋다."
   ]
  },
  {
   "cell_type": "markdown",
   "metadata": {},
   "source": [
    "## Overflow"
   ]
  },
  {
   "cell_type": "markdown",
   "metadata": {},
   "source": [
    "- 파이썬 2에서는 정수형 데이터 타입이 int와 long 두 가지가 있었는데, int는 C에서의 그것과 같은 4바이트 데이터형이고, long은 arbitrary precision을 따르는 데이터형이다. 그래서 int 타입 변수의 값이 표현 범위를 넘어서게 되면 자동으로 long으로 타입 변경이 되는 형식이었다.\n",
    "- 파이썬 3에서는 long 타입이 없어지고 int 타입만 남았는데, 이 int가 arbitrary precision을 지원하여 오버플로우가 발생하지 않게 되었다.\n",
    "    - arbitrary precision 이란 사용할 수 있는 메모리양이 정해져 있는 기존의 fixed-precision과 달리, 현재 남아있는 만큼의 가용 메모리를 모두 수 표현에 끌어다 쓸 수 있는 형태\n",
    "- 하지만 파이썬3에서도 pydata stack을 사용하는 numpy/pandas 같은 패키지를 사용할 때는 C 스타일이 유지되기 때문에 오버플로우 발생을 고려해야 한다."
   ]
  },
  {
   "cell_type": "markdown",
   "metadata": {},
   "source": [
    "## why python is slow?"
   ]
  },
  {
   "cell_type": "markdown",
   "metadata": {},
   "source": [
    "**1. 파이썬은 동적 타입 언어이기 때문이다.**"
   ]
  },
  {
   "cell_type": "markdown",
   "metadata": {},
   "source": [
    "- 동적 타입 언어란 변수를 정의 할 때 그 자료형을 굳이 명시하지않아도 되는 언어다. \n",
    "- C나 Java처럼 반드시 표기해줘야하는 정적 타입언어와는 성격이 다르다.\n",
    "\n",
    "- 아래 표를 보자\n",
    "|c언어|파이썬|\n",
    "|---|---|\n",
    "|int a = 1; <br> int b = 2; <br> int c = a + b; |a = 1 <br>b = 2 <br>c = a+b |\n",
    "- C 언어\n",
    "    - 컴파일(이미 각 개체 자료형 판단 완료) -> a에 1을 할당 -> b에 2를 할당 -> 덧셈 루틴 호출 -> 결과를 c에 할당 // 끝\n",
    "    - 글로 써도 연산과정이 한 줄밖에 안 나올 정도로 간단하다\n",
    "- Py\n",
    "    - 개체 a에 1을 할당 -> a의 타입을 판단(정수) -> a의 값 = 1 설정 -> 개체 b에 2를 할당 -> b의 타입을 판단(정수) -> b의 값 = 2 설정 -> 덧셈 루틴 호출 -> a의 자료형 검색 -> a는 정수 -> b도 자료형 검색 -> b도 정수 -> 덧셈 루틴에 입력 ->정수형 결과값 도출 -> 개체 c 생성 -> c의 자료형을 정수로 설정 -> c에 덧셈한 결과값을 설정 // 끝\n",
    "    - 자료형을 판단해야하는 번거로움이 존재하여 매우 느리다."
   ]
  },
  {
   "cell_type": "markdown",
   "metadata": {},
   "source": [
    "**2. 파이썬은 인터프리터 언어이기 떄문이다.**\n",
    "- 컴파일러 / 인터프리터 둘다 C/자바같은 고레벨 언어를 기계어로 변환하는것은 같다. 하지만 아래와 같은 차이가 있다.\n",
    "- 컴파일러\n",
    "    - 컴파일러는 전체 소스코드를 보고 변환한다. \n",
    "    - 고레벨 언어를 바로 기계어로 변환한다.\n",
    "    - 전체 소스코드를 변환한 뒤, 에러를 보고한다. \n",
    "- 인터프리터\n",
    "    - 소스코드의 각 행을 단계적으로 분석하며 변환한다. \n",
    "    - 고레벨 언어를 바로 기계어로 변환하는것이 아니라, 중간형태로 변환한 다음 실행한다.\n",
    "    - 즉 각 행마다 실행하는 특성을 가지고 있다. 각 행마다 실행하는 도중 에러가 보고되면, 이후 작성된 코드를 살펴보지 않는다. "
   ]
  },
  {
   "cell_type": "markdown",
   "metadata": {},
   "source": [
    "**3. 파이썬 개체 모델은 비효율적 메모리 엑세스가 발생한다.**\n",
    "- 타입 판단' 및 '이미 판단한 타입을 검색'하는 등의 추가적인 과정이 메모리 사용량을 더 필요로 한다. \n",
    "- 즉 컴파일 언어라면 굳이 쓰지 않아도 될 메모리가 사용되고 있기 때문에 비효율적 메모리 액세스가 발생\n",
    "\n"
   ]
  },
  {
   "cell_type": "markdown",
   "metadata": {},
   "source": [
    "## 시간복잡도"
   ]
  },
  {
   "cell_type": "markdown",
   "metadata": {},
   "source": [
    "**시간복잡도란?**\n",
    "- 알고리즘은 유한한 자원을 가진 환경에서 문제를 푸는 동작들의 모임이다.\n",
    "- 적은 시간과 적은 자원을 이용해 문제를 해결하는 알고리즘이 좋은 알고리즘이다.\n",
    "- 알고리즘 평가에 있어서, 2가지 척도가 있다.\n",
    "    - 시간 복잡도 \n",
    "        - 알고리즘이 문제를 해결하기 위한 시간(연산) 의 횟수를 말한다.\n",
    "    - 공간 복잡도\n",
    "        - 알고리즘의 메모리 사용량에 해당한다.\n",
    "- 알고리즘의 평가 기준에는 3가지 경우가 있다.\n",
    "    - 최선의 경우\n",
    "    - 평균적인 경우\n",
    "    - 최악의 경우\n",
    "- 평균적인 경우가 가장 이상적으로 보이지만 '평균' 은 많은 sample 들을 요구하기때문에 적절하지 않다. 즉 최악의 경우로 알고리즘의 성능을 파악한다.\n",
    "\n"
   ]
  },
  {
   "cell_type": "markdown",
   "metadata": {},
   "source": [
    "**어떻게 측정?**\n",
    "- Program 의 실행과정에서 Elementary Operation이란 프로그램의 진행정도를 나타내는 기본 단위이다.\n",
    "    - 대입연산\n",
    "    - 사칙연산\n",
    "    - 비교구문\n",
    "    - 함수호출\n",
    "- 알고리즘의 실행 순서를 따라가면서 Elementray Operation 이 일어나는 수를 측정한다."
   ]
  },
  {
   "cell_type": "markdown",
   "metadata": {},
   "source": [
    "**Big O**\n",
    "- Big O notation 을 통해서 Asymptotic Comlexity 에 대해서 알 수 있다.\n",
    "- 알고리즘의 성능평가는 시간복잡도 / 공간 복잡도를 big O natatation 으로 나타낸다. \n",
    "    - $n^2 + 2n + 9 > O(n^2) $ \n",
    "- 다항식이 커질수록 급격하게 알고리즘의 수행 시간이 많아진다. "
   ]
  },
  {
   "cell_type": "markdown",
   "metadata": {},
   "source": [
    "# 파이썬 고급"
   ]
  },
  {
   "cell_type": "markdown",
   "metadata": {},
   "source": [
    "## 메모리 초과"
   ]
  },
  {
   "cell_type": "markdown",
   "metadata": {},
   "source": [
    "- python 에서는 list에 slice 연산을 하면 매번 새로운 list가 만들어집니다. 그러므로 slice 연산을 너무 많이하면 메모리초과가 일어난다."
   ]
  },
  {
   "cell_type": "markdown",
   "metadata": {},
   "source": [
    "# 자료형"
   ]
  },
  {
   "cell_type": "markdown",
   "metadata": {},
   "source": [
    "## Number"
   ]
  },
  {
   "cell_type": "markdown",
   "metadata": {},
   "source": [
    "- **int**\n",
    "    - 정수 형태의 자료형\n",
    "    - 메모리가 허용하는데 까지 매우 크게 값을 늘릴 수 있다. \n",
    "    - immutable\n",
    "- **float**\n",
    "    - 실수를 지원하기 위해 소수점이 있는 부동 소수형을 지원한다.\n",
    "    - 저장공간을 효율적으로 사용하기 위해 제한된 바이트만 사용해서 저장하므로 정밀도에 한계가 있다.\n",
    "    - immutable\n",
    "    "
   ]
  },
  {
   "cell_type": "markdown",
   "metadata": {},
   "source": [
    "❗ **주의사항**\n",
    "- 4/2 처럼 딱 떨어지는 나눗셈을 하더라도 파이썬에서는 2.0 으로 int 형이 나오지 않게 된다\n",
    "    - 이로 인해, indexing 을 할 때에 에러가 나곤한다.\n",
    "    - 그러므로 떨어지는 결과가 정수가 나오게 하려면 4//2 를 해 주어야 한다."
   ]
  },
  {
   "cell_type": "markdown",
   "metadata": {
    "id": "ZOxXllzLJ9L0"
   },
   "source": [
    "## List"
   ]
  },
  {
   "cell_type": "markdown",
   "metadata": {},
   "source": [
    "- List 는 의외로 많이 쓰이는 자료형이다.\n",
    "- pred = [] 로 정의 후 뒤의 for 문에서 c.v. 로 계산한 predict 값을 pred 에 concat 해서 채워 넣는등 많이 쓰임"
   ]
  },
  {
   "cell_type": "markdown",
   "metadata": {
    "id": "dsCXEYbTKZDz"
   },
   "source": [
    "**기본성질**\n",
    "- **indexing**\n",
    "    - x[a] : a 번째 element\n",
    "    - x[a:b] : a~b-1 까지의 리스트값 출력\n",
    "    - x[a:b:k] : k 씩 간격을 두면서 a~b-1 까지의 list 값 출력\n",
    "    - x[b:a:-1] : b 부터 a+1 까지 역순으로 리스트값 출력\n",
    "        - ex) [1,2,3,4,5][5:1:-1] 은 [5,4,3,2] 이다.\n",
    "        - ex) [1,2,3,4,5][5:-1:-1] 은 [5,4,3,2,1] 이 아니라 에러가 난다.\n",
    "    - x[a][b] : a 번째 element 의 b번째 element\n",
    "        - ex) [[1,2],[3,4]][1] = [1,2]"
   ]
  },
  {
   "cell_type": "markdown",
   "metadata": {
    "id": "dsCXEYbTKZDz"
   },
   "source": [
    "**메소드**\n",
    "- **\\+\\***\n",
    "    - \\+ : 리스트 concat\n",
    "    - \\* : 리스트 반복\n",
    "- **.len ( )**: list의 길이 \n",
    "- **.append()**: list 맨 뒤에 element 추가\n",
    "    - 이 떄에 x = x.append(i) 로 하면 안된다. \n",
    "    - x.append(i) 를 하면 x 에 inplace 하게 추가가 된다.\n",
    "    - inplace\n",
    "- **.extend()**: list 맨 뒤에 iterable 객체 elemenet 추가\n",
    "    - 이 때 x.append([1,2]) 를 하게되면 x 의 맨 뒤에 element 가 추가된다.\n",
    "    - inplace\n",
    "- **.insert (위치,데이터)**: 리스트의 위치에 데이터 추가\n",
    "    - 추가되는 데이터의 위치는 \n",
    "    - inplace\n",
    "- **.sort ( )** : list 를 sorting 해준다.\n",
    "    - inplace\n",
    "- **.reverse ( )**: list 를 역방향으로 sorting\n",
    "    - inplace \n",
    "- **.index ( x )**: x의 위치를 반환.\n",
    "    - 처음으로 만나는 x 의 위치를 반환한다.\n",
    "    - 없으면 에러를 발생시킨다.\n",
    "- **.insert ( a, b )**: a번째 위치에 b를 삽입\n",
    "    - inplace\n",
    "- **.remove ( x )** : 첫번째로 나오는 x를 삭제\n",
    "    - inplace\n",
    "- **.pop ( )**: list의 맨 마지막 element 출력 이후 삭제\n",
    "    - 이때 맨 마지막 element가 나온 이후 삭제가 inplace 하게 이루어진다.\n",
    "    - pop( a ): a 번쨰 element 를 pop 한 이후 삭제\n",
    "    - inplace \n",
    "    - [Examlple]\n",
    "        - val = [1,3,2].pop() -> 리스트는 [1,3] 이 되고, val 은 2 가 된다.\n",
    "- **.count ( x )**: list 안에 x가 몇 개 있는지 조사해서 그 개수를 반환"
   ]
  },
  {
   "cell_type": "markdown",
   "metadata": {},
   "source": [
    "**주의점**\n",
    "- 리스트는 연산을 하지 못한다. ([1,2,3] + 3 은 에러가남 )\n",
    "- 리스트끼리 연산이 된다 해도, 그건 concat 이다. ([1,2,3] + [1,2] = [1,2,3,1,2])\n",
    "- 대부분의 연산이 inplace 하게 일어나기 때문에 lis = lis.sort() 같은 연산을 하면 안된다.\n",
    "- 비어있는 list 에 인덱스를 이용해 추가하는 연산은 불가능\n",
    "    - 즉 lis = [] 에 대해 lis[1] = 2 는 에러가 남"
   ]
  },
  {
   "cell_type": "markdown",
   "metadata": {},
   "source": [
    "**Tip**\n",
    "- **if x in [a,b,..]**\n",
    "    - 'x 가 [] 안에 있는 값을 가진다면' 의 의미를 가진다.\n",
    "- **list(enumerate(['딸기','사과','포토']))**\n",
    "    - [(0,'딸기'),....(2,'포도')] 처럼 list 가 생성이 된다.\n",
    "- **list('abc')**\n",
    "    - ['a','b','c'] 처럼 분해가 된다\n",
    "- **list(set(list('word')))**\n",
    "    - word 를 'unique 한 값들의 list 로 변환시켜준다.\n",
    "- **append 와 \\+= 의 차이**\n",
    "    - append 는 inplace 하게 연산되어서 id 가 바뀌지 않는다.\n",
    "    - \\+ 는 L += [4] 의 경우 L = L + [4] 와 같고, 이는 L+[4] 라는 새로운 LIST 를 만든 뒤에 L 에 할당되어서 id 가 바뀐다.\n",
    "    - def 와 사용하게 될 때에 \\+= 를 사용하게 되면 L = L+[4] 에서 왼쪽의 L 을 local 변수로 인식하기 떄문에 주의해야한다\n",
    "- **\\* 와 주소**\n",
    "    - element 가 list 이라면, * 로 element 를 생성한다면 동일 id 를 공유하게 된다.\n",
    "    - [x]*3 을 하게 되면  [x, x, x] 가 나오고 x 는 모두 같은 id 를 공유\n",
    "    - 즉 lis = [[]]*4 를 한 뒤, lis[1].append(1) 을 하면 [[1],[1],[1],[1]] 로 4개가 전부 바뀌어버린다.\n",
    "    - 즉 [[] for _ in range(3)] 으로 해주는게안전\n",
    "   "
   ]
  },
  {
   "cell_type": "code",
   "execution_count": 153,
   "metadata": {},
   "outputs": [],
   "source": [
    "lis = [[] for _ in range(3)]"
   ]
  },
  {
   "cell_type": "code",
   "execution_count": 154,
   "metadata": {},
   "outputs": [
    {
     "data": {
      "text/plain": [
       "2281960892680"
      ]
     },
     "execution_count": 154,
     "metadata": {},
     "output_type": "execute_result"
    }
   ],
   "source": [
    "id(lis[1])"
   ]
  },
  {
   "cell_type": "code",
   "execution_count": 155,
   "metadata": {},
   "outputs": [
    {
     "data": {
      "text/plain": [
       "2281960778312"
      ]
     },
     "execution_count": 155,
     "metadata": {},
     "output_type": "execute_result"
    }
   ],
   "source": [
    "id(lis[0])"
   ]
  },
  {
   "cell_type": "code",
   "execution_count": null,
   "metadata": {},
   "outputs": [],
   "source": []
  },
  {
   "cell_type": "code",
   "execution_count": 5,
   "metadata": {},
   "outputs": [
    {
     "data": {
      "text/plain": [
       "[1, 2, 3, 6]"
      ]
     },
     "execution_count": 5,
     "metadata": {},
     "output_type": "execute_result"
    }
   ],
   "source": [
    "lis.remove(3) ; lis"
   ]
  },
  {
   "cell_type": "code",
   "execution_count": 4,
   "metadata": {},
   "outputs": [
    {
     "data": {
      "text/plain": [
       "[1, 2, 3, 3, 6]"
      ]
     },
     "execution_count": 4,
     "metadata": {},
     "output_type": "execute_result"
    }
   ],
   "source": [
    "lis.insert(3,3) ; lis"
   ]
  },
  {
   "cell_type": "code",
   "execution_count": null,
   "metadata": {},
   "outputs": [],
   "source": []
  },
  {
   "cell_type": "code",
   "execution_count": 40,
   "metadata": {},
   "outputs": [
    {
     "data": {
      "text/plain": [
       "[1, 3, 5, 4]"
      ]
     },
     "execution_count": 40,
     "metadata": {},
     "output_type": "execute_result"
    }
   ],
   "source": [
    "lis= [1,3,5]\n",
    "lis.append(4)\n",
    "lis"
   ]
  },
  {
   "cell_type": "code",
   "execution_count": 41,
   "metadata": {},
   "outputs": [
    {
     "data": {
      "text/plain": [
       "[1, '추가', 3, 5]"
      ]
     },
     "execution_count": 41,
     "metadata": {},
     "output_type": "execute_result"
    }
   ],
   "source": [
    "lis = [1,3,5]\n",
    "lis.insert(1,'추가') # 들어가게 되는 데이터의 위치에 추가하게 된다.\n",
    "lis"
   ]
  },
  {
   "cell_type": "code",
   "execution_count": 42,
   "metadata": {},
   "outputs": [
    {
     "data": {
      "text/plain": [
       "[1, 3]"
      ]
     },
     "execution_count": 42,
     "metadata": {},
     "output_type": "execute_result"
    }
   ],
   "source": [
    "lis = [1,3,5]\n",
    "lis.pop()\n",
    "lis"
   ]
  },
  {
   "cell_type": "code",
   "execution_count": 43,
   "metadata": {},
   "outputs": [
    {
     "data": {
      "text/plain": [
       "[5, 1, 3]"
      ]
     },
     "execution_count": 43,
     "metadata": {},
     "output_type": "execute_result"
    }
   ],
   "source": [
    "lis = [5,1,3]\n",
    "lis.sort\n",
    "lis"
   ]
  },
  {
   "cell_type": "code",
   "execution_count": 2,
   "metadata": {},
   "outputs": [
    {
     "data": {
      "text/plain": [
       "[1, 2, 3]"
      ]
     },
     "execution_count": 2,
     "metadata": {},
     "output_type": "execute_result"
    }
   ],
   "source": [
    "new = [1,2,3]\n",
    "val = new.copy()\n",
    "new.append(4)\n",
    "val"
   ]
  },
  {
   "cell_type": "markdown",
   "metadata": {
    "id": "h2BX7tuwKF1V"
   },
   "source": [
    "## Dictionary"
   ]
  },
  {
   "cell_type": "markdown",
   "metadata": {},
   "source": [
    "- 사람은 누구든지 \"이름\" = \"홍길동\", \"생일\" = \"몇 월 며칠\" 등으로 구별할 수 있다.\n",
    "- 이런 대응관계를  요즘 사용하는 대부분의 언어도 이러한 대응 관계를 나타내는 자료형을 갖고 있는데, 이를 연관 배열(Associative array) 또는 해시(Hash)라고 한다\n",
    "- 파이썬에서는 위의 대응관계를 나타내는것을 dictionary 라고 한다. Key와 Value를 한 쌍으로 갖는 자료형이다. \n",
    "- 딕셔너리는 리스트나 튜플처럼 순차적으로(sequential) 해당 요솟값을 구하지 않고 Key를 통해 Value를 얻는다.\n",
    "- Key 는 변하지 않는(immutable) 자료형이 key 로 가능하다.\n",
    "- Iterable이며 순서가 보장되는 자료형이다. 따라서 인덱싱과 슬라이싱, 합과 곱 연산이 가능합니다."
   ]
  },
  {
   "cell_type": "markdown",
   "metadata": {
    "id": "3ski8RraKaQ0"
   },
   "source": [
    "**structure**\n",
    "- key는 immutable, values 는 mutable 한 element 가 들어와야한다.\n",
    "- construct 하는 방법은 아래와 같다.\n",
    "    - 딕셔너리 = dict(키1=값1, 키2=값2)\n",
    "    - 딕셔너리 = dict(zip([키1, 키2], [값1, 값2]))\n",
    "    - 딕셔너리 = dict([(키1, 값1), (키2, 값2)])\n",
    "    - 딕셔너리 = dict({키1: 값1, 키2: 값2})\n"
   ]
  },
  {
   "cell_type": "markdown",
   "metadata": {
    "id": "3ski8RraKaQ0"
   },
   "source": [
    "**기본 성질**\n",
    "- **indexing**\n",
    "    - x['a'] : key a 에 해당하는 value 를 출력\n",
    "    - x[3] : 이는 에러가 난다. 위치에 따른 indexing 은 불가능\n",
    "    - x[3:5] : 이 역시 에러가 난다. slicing 또한 불가능\n",
    "- **len()** : 사전의 길이 출력\n",
    "    - 이때, 길이는 key 의 수가 된다.\n",
    "- **.keys ( )**: key 를 가지는 배열 만들기\n",
    "    - list 도 얻고싶다면 list(...keys()) 로 한번 더 덛씌워야 한다.\n",
    "- **.values ( )**: value를 list로 만들기\n",
    "    - 이 역시 위와 같음\n",
    "- **.items ( )**: key, value의 tuple 반한\n",
    "    - [(key,value)...] 꼴로 반환하게 된다.    \n",
    "- **.get ( x , '디폴트')**\n",
    "    - x에 해당하는 key 에 대해 vlaue 값을 출력한다.\n",
    "    - x에 해당하는 key 값이 없을 때 디폴트 값을 출력한다.\n",
    "- **in**: 해당 key가 있는지 조사"
   ]
  },
  {
   "cell_type": "markdown",
   "metadata": {},
   "source": [
    "**dict의 변수지정**\n",
    "- dic = { } 이후 dic[i] = j 로 지정하면 바로 {i:j} 가 형성된다.\n",
    "- dic = { } 이후 dic[i] += j 로 연산을 처리하면 error 가 발생한다."
   ]
  },
  {
   "cell_type": "markdown",
   "metadata": {},
   "source": [
    "**dict의 sorting**\n",
    "\n",
    "- **key sorting**\n",
    "    - sorted(dic.items()) # dictionary 를 [(key,value)] 꼴로 나타낸 후 오름차순 정렬한다. 즉 이 값에 다시 dict 를 붙여주면 key 를 기준으로 sorting ,된 dictionary 가 나옴\n",
    "    - sorted(dic.items(),reverse=True ) 를 통해서 내림차순도 가능하다.    \n",
    "- **value sorting**\n",
    "    - sorted(dic.items(), key = lambda dic : dic[1]) # key 를 지정해주면 해당 함수의 반환값을 비교하여 순서대로 정렬한다.\n"
   ]
  },
  {
   "cell_type": "markdown",
   "metadata": {},
   "source": [
    "**Tip**\n",
    "- .values() 나 . keys() 로 나온값은 list 가 아니라 그 자체 values, keys 객체이기 떄문에 별로 쓸모가 없다. 바로 list 로 바꿔주어여 한다. \n",
    "    - 즉 list(dict.values()) 로 사용하는것이 좋다는 이야기\n",
    "- for 문\n",
    "    - for x in {} :\n",
    "        - x 는 key 값을 출력하게 된다.\n",
    "    - for x,y in {}.items :\n",
    "        - x,y 는 각각 key 와 value 값이 된다.\n",
    "- Update\n",
    "    - dict[x] += 1 처럼 업데이트가 필요할 때에, x key 가 없는 상태라면 저절로 1로 업데이트 되지 않고 에러가 난다. \n",
    "    - 이런 경우를 대비하기 위해서는 dict.get(x,0) += 1 로, 없는 상태의 경우도 대비하기 위해서 get 으로 가져와야한다."
   ]
  },
  {
   "cell_type": "code",
   "execution_count": 52,
   "metadata": {},
   "outputs": [],
   "source": [
    "dic = {'고':1,'지':3,'방':2}"
   ]
  },
  {
   "cell_type": "code",
   "execution_count": 55,
   "metadata": {},
   "outputs": [
    {
     "data": {
      "text/plain": [
       "False"
      ]
     },
     "execution_count": 55,
     "metadata": {},
     "output_type": "execute_result"
    }
   ],
   "source": [
    "dic.get('항',False)"
   ]
  },
  {
   "cell_type": "code",
   "execution_count": 45,
   "metadata": {},
   "outputs": [
    {
     "name": "stdout",
     "output_type": "stream",
     "text": [
      "고\n",
      "지\n",
      "방\n"
     ]
    }
   ],
   "source": [
    "for x,y in dic.items() :\n",
    "    print(x)"
   ]
  },
  {
   "cell_type": "code",
   "execution_count": 66,
   "metadata": {
    "scrolled": true
   },
   "outputs": [
    {
     "data": {
      "text/plain": [
       "[0, 1, 2]"
      ]
     },
     "execution_count": 66,
     "metadata": {},
     "output_type": "execute_result"
    }
   ],
   "source": [
    "dic = {1:3,2:5,0:2}\n",
    "sorted(dic)"
   ]
  },
  {
   "cell_type": "code",
   "execution_count": null,
   "metadata": {},
   "outputs": [],
   "source": [
    "dic.keys()"
   ]
  },
  {
   "cell_type": "markdown",
   "metadata": {
    "id": "N3NgYviRKF6Q"
   },
   "source": [
    "##  Set"
   ]
  },
  {
   "cell_type": "markdown",
   "metadata": {},
   "source": [
    "**📝기본 구조**\n",
    "- 순서가 없고, 집합안에서는 unique한 값을 가진다.\n",
    "- mutable 객체\n",
    "- {[1,2,2,2,3]} = {1,2,3}"
   ]
  },
  {
   "cell_type": "markdown",
   "metadata": {},
   "source": [
    "**🔨Method**\n",
    "- **a in set** : a 가 set 안에 있는지 검사\n",
    "- **A | B** : A,B set 에 대한 합집합\n",
    "- **A & B** : A,B set 에 대힌 교집합\n",
    "- **A - B** : A,B set 에 대한 차집합\n",
    "- **A ^ B** : A,B set 에 대한 sym_diff\n",
    "- **.add()** : set 에 원소 추가(하나씩)\n",
    "    - inplace\n",
    "- **.update()** : 한번에 여러 원소들을 update 할 때에 사용\n",
    "    - {1,2}.update([1,4,5]) -> {1,2,4,5}\n",
    "    - inplace \n",
    "- **.remove()** : 원소 제거\n",
    "    - inplace\n",
    "- **.issubset** : 부분집합 여부 확인\n",
    "    - {1,2}.issubset({1,2,4,5}) -> True\n",
    "- **.isdisjoint** : 두 집합이 겹치지 않으면 True\n",
    "    - {1,3}.isdisjoint({2,4}) -> True\n",
    "  "
   ]
  },
  {
   "cell_type": "markdown",
   "metadata": {},
   "source": [
    "❗**주의점**\n",
    "- 빈 set 을 만들때에는 {} 가 아니라 set() 으로 해주어야한다. {} 는 dict 를 형성하는것임"
   ]
  },
  {
   "cell_type": "markdown",
   "metadata": {},
   "source": [
    "## Tuple"
   ]
  },
  {
   "cell_type": "markdown",
   "metadata": {},
   "source": [
    "- **기본구조** \n",
    "    - 튜플 내장함수는 리스트와 동일합니다.\n",
    "    - 하지만 메소드는 리스트 대비 매우 적다. (이는 immutable 이기 때문)\n",
    "- **len()** : 튜플 길이\n",
    "- **max/min()** : 최대/최소\n",
    "- **.count()**  : 튜플의 element 수"
   ]
  },
  {
   "cell_type": "markdown",
   "metadata": {},
   "source": [
    "## Strng"
   ]
  },
  {
   "cell_type": "markdown",
   "metadata": {},
   "source": [
    "- 기본적으로 immutable 이기 때문에 inplace 연산이 없다."
   ]
  },
  {
   "cell_type": "markdown",
   "metadata": {},
   "source": [
    "- **indexing**\n",
    "    - x[::-1] : 역순으로 만들어준다."
   ]
  },
  {
   "cell_type": "markdown",
   "metadata": {},
   "source": [
    "- **len()** : 문자열 길이를 출력\n",
    "- **.count('a')** : 문자열 안에서 a 가 몇개 들어있는지 개수를 센다.\n",
    "- **.startswith('a')** : 문자열이 a 로 시작하면 T 반환\n",
    "- **.endswith('a')** : 문자열이 a 로 끝나면 T 반환 \n",
    "- **.find('a')** : 문자열에 a 가 있는지를 앞에서부터 찾아 index 반환\n",
    "    - 없으면 -1 반환\n",
    "- **.index('a')** : find 와 기능이 동일하다. 하지만 입력한 문자열이 없으면 error 발생\n",
    "- **.lower()** : 문자열을 모두 소문자로\n",
    "    - inplace 가 아님\n",
    "- **.isalnum()** : 문자열이 알파벳과 숫자로만 이루어졌으면 True\n",
    "- **.isalpha()** : 문자열이 알파벳만 이루어졌으면 True\n",
    "- **.isdigit()/.isnumeric()/isdecimal()** : 문자열이 숫자를 포함하고있으면 True\n",
    "    - isdecimal : 0~9 의 숫자로 이루어진 경우에만 True 로 판정한다.\n",
    "    - isdigit : 숫자로 이루어졋는지 검사한다.\n",
    "    - isnumeric : 숫자값 표현에 해당하는 텍스트까지 인정해준다. 예를 들어 “½” 이런 특수문자도 isnumeric()에서는 True로 판정한다.\n",
    "    - EX)\n",
    "        - ('½').isnumeric : True \n",
    "        - ('½').isdecimal : False\n",
    "        - ('½').isdigit : False\n",
    "        - ('³').isnumeric : True\n",
    "        - ('³').isdecimal : False\n",
    "        - ('³').isdigit : True\n",
    "- **.isspace()** : 문자열이 공백으로만 되어있으면 T\n",
    "- **.lstrip()** : 문자열 왼쪽 공백 제거\n",
    "    - inplace 가 아님\n",
    "- **.rstrip()** : 문자열 오른쪽 공백 제거\n",
    "    - inplace 가 아님\n",
    "- **.strip()** : 문자열 양쪽의 공백 제거\n",
    "    - inplace 가 아님\n",
    "- **.split(',')** : 문자열을 구분자 기준에 따라 나눠 리스트 생성\n",
    "    - 'ha,ho'.split(',') -> ['ha','ho']\n",
    "- **.splitlines()** : 여러개 줄로 이루어진 문자열을 줄별로 구분해 리스트 생성\n",
    "    - 'ha\\nho'.splitlines() ->['ha','ho']\n",
    "- **.replace(old,new,max)** : old 문자열을 new 문자열로 교체\n",
    "    - max 는 바꾸는 최대 갯수가 된다.\n",
    "    - 'love line'.replace('l','g') -> 'gove gine'\n",
    "- **.join('a')** : iterable 한 객체의 문자를 붙이기(사이사이에 a 넣음)\n",
    "    - '-'.join(['I','Love','You']) -> 'I-Love-You'\n",
    "- **.zfill(width)** : 문자열을 width 만큼 길이로 만들되, 추가로 필요한 자릿수만큼 앞에 0 채움 \n",
    "    - 'abc'.zfill(5) -> '00abc'\n",
    "\n"
   ]
  },
  {
   "cell_type": "markdown",
   "metadata": {},
   "source": [
    "😁**Tip**"
   ]
  },
  {
   "cell_type": "markdown",
   "metadata": {},
   "source": [
    "- list('abc') = ['a','b','c'] 로 분해된 list 를 얻을 수 있다.\n",
    "- set에 들어있는 값들은 해쉬 가능해야합니다. 즉 문자열, 숫자, 튜플만 set에 넣으면 중복 제거가 가능 \n",
    "    - 즉 list 는 set 안에 들어갈 수 없습니다.\n",
    "- 특정 문자열에 우리가 확인하고자 하는 문자열이 있는지 확인할 수 있다.\n",
    "    - 'n' in 'fruit' -> False\n",
    "\n"
   ]
  },
  {
   "cell_type": "markdown",
   "metadata": {},
   "source": [
    "# Class"
   ]
  },
  {
   "cell_type": "markdown",
   "metadata": {},
   "source": [
    "- 클래스는 일종의 쿠키커터이다. 반죽에 쿠키커터를 누리게 되면, 같은 쿠키 커터가 나오게 된다. \n",
    "- 클래스를 통해 찍혀 나오는 실체가 객체(object) 이다. \n",
    "- 새로운 클래스를 정의할 때 class 키워드를 사용한다.\n",
    "- 클래스에서 찍혀 나오는 새로운 객체들을 만들어 낼 수 있다.\n",
    "- 클래스는 메서드(클래스에서 제공하는 전용 함수)와 속성(객체 별로 저장되는 변수) 를 가지고 있다.\n",
    "- 클래스가 어떤 변수들을 가지고 있겠는지 등을 ...."
   ]
  },
  {
   "cell_type": "markdown",
   "metadata": {},
   "source": [
    "- 클래스의 정의는 아래와 같이 된다.\n",
    "- 밑으로 쭉 그 정의되는 내역이 나열이 된다."
   ]
  },
  {
   "cell_type": "code",
   "execution_count": 2,
   "metadata": {},
   "outputs": [],
   "source": [
    "# init 이라는 메서드를 사용하였다.\n",
    "# 매직 메서드이다. 파이썬의 내부 기능과 연결이 되어있는 메서드\n",
    "# init 은 클래스가 생성이 될 때 호출이 된다.\n",
    "# init 안에 작성하는 내용은 student 객체를 생성할 떄 이 메서드가 실행이 된다는 것이다.\n",
    "# class 안에서 함수를 만드때에 기본적으로 따라오는것이 있다.(self)\n",
    "# self 는 추후에 생성될 자기 자신을 가르킨다.\n",
    "# 두번쨰 파라미터가 의미를 가진다.\n",
    "# init 은 \n",
    "\n",
    "# Student 라는 클래스로 생성된 객체만이 가지고 있는 전용 변수 money\n",
    "# self. 의 의미는 생성된 객체 자신을 말한다. \n",
    "class Student : \n",
    "    def __init__(self,money):\n",
    "        self.money= money\n"
   ]
  },
  {
   "cell_type": "code",
   "execution_count": 6,
   "metadata": {},
   "outputs": [
    {
     "data": {
      "text/plain": [
       "500"
      ]
     },
     "execution_count": 6,
     "metadata": {},
     "output_type": "execute_result"
    }
   ],
   "source": [
    "s1 = Student(100)\n",
    "s2 = Student(500)\n",
    "s2.money # s2 의 객체가 라지는 money attribute 의 값"
   ]
  },
  {
   "cell_type": "code",
   "execution_count": 14,
   "metadata": {},
   "outputs": [
    {
     "name": "stdout",
     "output_type": "stream",
     "text": [
      "kim 600\n"
     ]
    }
   ],
   "source": [
    "class Student : \n",
    "    def __init__(self,name,money): # 기본적을 존재\n",
    "        self.name = name # 새로운 Attribute 정의\n",
    "        self.money= money\n",
    "    def eat(self,price): # 새로운 method 정의 \n",
    "        self.money = self.money - price # self.money 에서 price 뺌\n",
    "        \n",
    "me = Student('kim',1000)\n",
    "me.eat(400)\n",
    "print(me.name, me.money)"
   ]
  },
  {
   "cell_type": "code",
   "execution_count": null,
   "metadata": {},
   "outputs": [],
   "source": []
  },
  {
   "cell_type": "markdown",
   "metadata": {},
   "source": [
    "# function"
   ]
  },
  {
   "cell_type": "markdown",
   "metadata": {},
   "source": [
    "## all"
   ]
  },
  {
   "cell_type": "markdown",
   "metadata": {},
   "source": [
    "- all(iterable) 함수는 인자로 받은 반복 가능한 자료형(iterable)의 모든 요소가 참(True)이면 참(True)을 반환하는 함수\n",
    "- 즉 리스트, 튜플, 집합, 딕셔너리, 문자열에 대해서 all 을 쓸 수 있다."
   ]
  },
  {
   "cell_type": "code",
   "execution_count": 6,
   "metadata": {},
   "outputs": [
    {
     "data": {
      "text/plain": [
       "True"
      ]
     },
     "execution_count": 6,
     "metadata": {},
     "output_type": "execute_result"
    }
   ],
   "source": [
    "a = [1,2,3,4,5]\n",
    "all([a[x]>a[x-1] for x in range(1,3)])"
   ]
  },
  {
   "cell_type": "markdown",
   "metadata": {},
   "source": [
    "## any"
   ]
  },
  {
   "cell_type": "markdown",
   "metadata": {},
   "source": [
    "- any(iterable) 함수는 인자로 받은 반복가능한 자료형(iterable)중 단 하나라도 참(True)이 있으면 참(True)를 반환한다."
   ]
  },
  {
   "cell_type": "code",
   "execution_count": 7,
   "metadata": {
    "scrolled": true
   },
   "outputs": [
    {
     "data": {
      "text/plain": [
       "True"
      ]
     },
     "execution_count": 7,
     "metadata": {},
     "output_type": "execute_result"
    }
   ],
   "source": [
    "a = [1,2,3,4,5]\n",
    "any([a[x] == 3 for x in range(1,3)])"
   ]
  },
  {
   "cell_type": "markdown",
   "metadata": {},
   "source": [
    "## copy / deepcopy"
   ]
  },
  {
   "cell_type": "markdown",
   "metadata": {},
   "source": [
    "- copy 의 경우, 새로운 id 를 부여하게 되며, 그 요소들을 바꾼다 해도 복사된 변수에는 영향이 없다."
   ]
  },
  {
   "cell_type": "code",
   "execution_count": 58,
   "metadata": {
    "scrolled": true
   },
   "outputs": [
    {
     "name": "stdout",
     "output_type": "stream",
     "text": [
      "1907314651656\n",
      "1907314652104\n",
      "[1, 2, 3]\n"
     ]
    }
   ],
   "source": [
    "a = [1,2,3]\n",
    "b = a.copy() # a[:] 도 가능하다.\n",
    "print(id(a)) ; print(id(b))\n",
    "a[1] = 'gogo' ; print(b) # a를 바꾸더라도 영향이 없음"
   ]
  },
  {
   "cell_type": "markdown",
   "metadata": {},
   "source": [
    "- 하지만 리스트 안의 리스트처럼 , mutable 객체 안에 mutable 이 들어있을때에 문제가 된다\n",
    "- 아래 처럼 id(a[0])과 id(b[0])은 같은 주소를 바라보고 있습니다."
   ]
  },
  {
   "cell_type": "code",
   "execution_count": 68,
   "metadata": {
    "scrolled": true
   },
   "outputs": [
    {
     "name": "stdout",
     "output_type": "stream",
     "text": [
      "1907314604168\n",
      "1907318369224\n",
      "1907322478280\n",
      "1907322478280\n",
      "[['gogo', 2], [3, 4]]\n"
     ]
    }
   ],
   "source": [
    "a = [[1,2], [3,4]]\n",
    "b = a[:]\n",
    "print(id(a)) ; print(id(b))\n",
    "print(id(a[0])) ; print(id(b[0])) # 안의 mutable 객체는 아예 같다. \n",
    "a[0][0] = 'gogo' ; print(b) # a를 바꾸었는데 b가 바뀌고 말았다. "
   ]
  },
  {
   "cell_type": "markdown",
   "metadata": {},
   "source": [
    "- 위와 같이 '내부의 객체들' 에 까지 모두 새롭게 copy 하기 위해서는 deepcopy 메서드를 써야 한다. "
   ]
  },
  {
   "cell_type": "code",
   "execution_count": 69,
   "metadata": {},
   "outputs": [
    {
     "name": "stdout",
     "output_type": "stream",
     "text": [
      "[[1, 2], [3, 4, 5]]\n",
      "[[1, 2], [3, 4]]\n"
     ]
    }
   ],
   "source": [
    "import copy\n",
    "a = [[1,2],[3,4]]\n",
    "b = copy.deepcopy(a)\n",
    "a[1].append(5)\n",
    "print(a) ; print(b)"
   ]
  },
  {
   "cell_type": "markdown",
   "metadata": {},
   "source": [
    "## def + return"
   ]
  },
  {
   "cell_type": "markdown",
   "metadata": {},
   "source": [
    "- def 는 함수를 정의한다. 이때에 return 을 만나게 된다면 함수를 바로 빠져나와 호출한 쪽으로 되돌아간다.\n",
    "- 아래와 같이 return 을 만나면 구문이 여러개 있더라도 다시 되돌아간다. 즉 return 은 def 안에서 어떻게 보면 sys.exit 와 같이 종료구문이라 생각해도 무방하다."
   ]
  },
  {
   "cell_type": "code",
   "execution_count": 26,
   "metadata": {},
   "outputs": [
    {
     "data": {
      "text/plain": [
       "7"
      ]
     },
     "execution_count": 26,
     "metadata": {},
     "output_type": "execute_result"
    }
   ],
   "source": [
    "def operation(a,b) :\n",
    "    return a+b\n",
    "    return a*b\n",
    "    return a-b\n",
    "\n",
    "operation(5,2)\n",
    "# 처음 만난 return a+b의 결과만 반환됨"
   ]
  },
  {
   "cell_type": "markdown",
   "metadata": {},
   "source": [
    "## del"
   ]
  },
  {
   "cell_type": "markdown",
   "metadata": {},
   "source": [
    "- del 은 '객체를 지우는것' 이 아니라 변수와 객체의 연결을 끊어내는 것이다.\n",
    "- del 변수 로 사용할 수 있다. \n",
    "- 위 작업을 하면, 변수는 다시 사용하려 할 때에 정의된 적 없다는 에러가 뜨게 된다."
   ]
  },
  {
   "cell_type": "code",
   "execution_count": 12,
   "metadata": {},
   "outputs": [],
   "source": [
    "x = [1,2,3]"
   ]
  },
  {
   "cell_type": "code",
   "execution_count": 13,
   "metadata": {
    "scrolled": false
   },
   "outputs": [
    {
     "data": {
      "text/plain": [
       "[1, 3]"
      ]
     },
     "execution_count": 13,
     "metadata": {},
     "output_type": "execute_result"
    }
   ],
   "source": [
    "del(x[1]) ; x"
   ]
  },
  {
   "cell_type": "markdown",
   "metadata": {},
   "source": [
    "## dir"
   ]
  },
  {
   "cell_type": "markdown",
   "metadata": {},
   "source": [
    "- dir은 객체가 자체적으로 가지고 있는 변수나 함수를 보여 준다.\n",
    "- 잘 알지 못하는 객체를 만났을 때에, 그 객체가 어떤 method 를 가지고 있는지 등을 알게 된다."
   ]
  },
  {
   "cell_type": "code",
   "execution_count": 37,
   "metadata": {
    "scrolled": false
   },
   "outputs": [
    {
     "name": "stdout",
     "output_type": "stream",
     "text": [
      "['__add__', '__class__', '__contains__', '__delattr__', '__delitem__', '__dir__', '__doc__', '__eq__', '__format__', '__ge__', '__getattribute__', '__getitem__', '__gt__', '__hash__', '__iadd__', '__imul__', '__init__', '__init_subclass__', '__iter__', '__le__', '__len__', '__lt__', '__mul__', '__ne__', '__new__', '__reduce__', '__reduce_ex__', '__repr__', '__reversed__', '__rmul__', '__setattr__', '__setitem__', '__sizeof__', '__str__', '__subclasshook__', 'append', 'clear', 'copy', 'count', 'extend', 'index', 'insert', 'pop', 'remove', 'reverse', 'sort']\n"
     ]
    }
   ],
   "source": [
    "print(dir([1, 2, 3]))"
   ]
  },
  {
   "cell_type": "markdown",
   "metadata": {},
   "source": [
    "## Enumerate"
   ]
  },
  {
   "cell_type": "markdown",
   "metadata": {},
   "source": [
    "- zip(*iterable)은 동일한 개수로 이루어진 자료형을 묶어 주는 역할을 하는 함수이다.\n",
    "- 반복문 사용 시 몇 번째 반복문인지 확인이 필요할 수 있다.\n",
    "    - subplot 과 함께 사용해서, 각 위치에 i번째 plot을 그려주는 형식으로 쓸 수 있다.\n",
    "- 이때, 시작 index 가 0 부터임을 기억하자.\n"
   ]
  },
  {
   "cell_type": "code",
   "execution_count": 30,
   "metadata": {
    "scrolled": false
   },
   "outputs": [
    {
     "name": "stdout",
     "output_type": "stream",
     "text": [
      "0 딸기\n",
      "1 사과\n",
      "2 포토\n"
     ]
    }
   ],
   "source": [
    "for i, name in enumerate(['딸기','사과','포토']):\n",
    "    print(i, name)"
   ]
  },
  {
   "cell_type": "markdown",
   "metadata": {},
   "source": [
    "## Filter"
   ]
  },
  {
   "cell_type": "markdown",
   "metadata": {},
   "source": [
    "- filter함수는 특정 조건으로 걸러서 걸러진 요소들로 iterator객체를 만들어서 리턴해준다.\n",
    "- map함수와 사용 방법은 동일하다. 하지만 함수의 결과가 참인지 거짓인지에 따라, 해당 요소를 포함할지를 결정한다.\n",
    "- "
   ]
  },
  {
   "cell_type": "code",
   "execution_count": 7,
   "metadata": {
    "scrolled": true
   },
   "outputs": [
    {
     "name": "stdout",
     "output_type": "stream",
     "text": [
      "[2, 4, 6, 8, 10]\n"
     ]
    }
   ],
   "source": [
    "target = [1, 2, 3, 4, 5, 6, 7, 8, 9, 10]\n",
    "\n",
    "# 함수를 정의한다.\n",
    "def is_even(n):\n",
    "    return True if n % 2 == 0 else False\n",
    "\n",
    "# filter 를 통해서 map 과 같이 target 에 함수를 적용한다.\n",
    "# 이 때에 filter 에서 'TRUE'를 뽑아내는 경우에만 target 값에서 뽑아낸다.\n",
    "result = filter(is_even, target)\n",
    "\n",
    "# result 는 filter 객체이기 떄문에 list 로 변환시켜주어야 한다.\n",
    "print(list(result))"
   ]
  },
  {
   "cell_type": "markdown",
   "metadata": {},
   "source": [
    "## in / not in "
   ]
  },
  {
   "cell_type": "markdown",
   "metadata": {},
   "source": [
    "- x in 리스트\t/ x not in 리스트\n",
    "- x in 튜플\t/ x not in 튜플\n",
    "- x in 문자열 / x not in 문자열\n"
   ]
  },
  {
   "cell_type": "code",
   "execution_count": 15,
   "metadata": {
    "scrolled": false
   },
   "outputs": [
    {
     "data": {
      "text/plain": [
       "True"
      ]
     },
     "execution_count": 15,
     "metadata": {},
     "output_type": "execute_result"
    }
   ],
   "source": [
    "1 in [1, 2, 3] # 1 이 list 안에 있는가?"
   ]
  },
  {
   "cell_type": "markdown",
   "metadata": {},
   "source": [
    "## len"
   ]
  },
  {
   "cell_type": "markdown",
   "metadata": {},
   "source": [
    "- len(s)은 입력값 s의 길이(요소의 전체 개수)를 돌려주는 함수이다.\n",
    "- .size 등의 메소드가 있지만 이는 각 packages 에서나 통용되는것이기 때문에 위같은 내장함수를 알아두는것이 편리히다."
   ]
  },
  {
   "cell_type": "code",
   "execution_count": 28,
   "metadata": {
    "scrolled": false
   },
   "outputs": [
    {
     "data": {
      "text/plain": [
       "2"
      ]
     },
     "execution_count": 28,
     "metadata": {},
     "output_type": "execute_result"
    }
   ],
   "source": [
    "lis = ['a','b']\n",
    "len(lis)"
   ]
  },
  {
   "cell_type": "markdown",
   "metadata": {},
   "source": [
    "## Lambda"
   ]
  },
  {
   "cell_type": "markdown",
   "metadata": {},
   "source": [
    "- Lamda 함수는 (lambda x,y: x + y)(10, 20) 처럼 함수 def 없이 바로 적용하게 해준다.\n",
    "- 아래와 같이 map 이나 filter 등에서 사용된다."
   ]
  },
  {
   "cell_type": "code",
   "execution_count": 58,
   "metadata": {},
   "outputs": [
    {
     "data": {
      "text/plain": [
       "[0, 1, 4, 9, 16]"
      ]
     },
     "execution_count": 58,
     "metadata": {},
     "output_type": "execute_result"
    }
   ],
   "source": [
    "list(map(lambda x: x ** 2, range(5)))"
   ]
  },
  {
   "cell_type": "code",
   "execution_count": 59,
   "metadata": {
    "scrolled": false
   },
   "outputs": [
    {
     "data": {
      "text/plain": [
       "[1, 3, 5, 7, 9]"
      ]
     },
     "execution_count": 59,
     "metadata": {},
     "output_type": "execute_result"
    }
   ],
   "source": [
    "list(filter(lambda x: x % 2, range(10)))"
   ]
  },
  {
   "cell_type": "markdown",
   "metadata": {},
   "source": [
    "## max/min"
   ]
  },
  {
   "cell_type": "markdown",
   "metadata": {},
   "source": [
    "- max 도 마찬가지로 sum 과 같이 작동가능하다."
   ]
  },
  {
   "cell_type": "code",
   "execution_count": 10,
   "metadata": {
    "scrolled": false
   },
   "outputs": [
    {
     "data": {
      "text/plain": [
       "3"
      ]
     },
     "execution_count": 10,
     "metadata": {},
     "output_type": "execute_result"
    }
   ],
   "source": [
    "max([1,2,3])"
   ]
  },
  {
   "cell_type": "markdown",
   "metadata": {},
   "source": [
    "## map"
   ]
  },
  {
   "cell_type": "markdown",
   "metadata": {},
   "source": [
    "- iterable객체를 받아서, 각 요소에 함수를 적용해주는 함수이다.\n",
    "- map은 원본 리스트를 변경하지 않고 새 리스트를 생성\n",
    "- 모든 element 들에 대해서 같은 적용을 하고 싶을때에 자주 사용한다.\n",
    "    - ex) str.map(lambda x : x.zfill(3))\n"
   ]
  },
  {
   "cell_type": "code",
   "execution_count": 11,
   "metadata": {},
   "outputs": [
    {
     "data": {
      "text/plain": [
       "[1, 2, 3, 4]"
      ]
     },
     "execution_count": 11,
     "metadata": {},
     "output_type": "execute_result"
    }
   ],
   "source": [
    "# 리스트의 모든 값을 정수로 변환하고 싶다고 하자.\n",
    "# MAP 함수를 모른다면 아래와 같이 for 문으로 일일히 int 함수를 적용시켜야 한다.\n",
    "lis = [1.2, 2.5, 3.7, 4.6]\n",
    "for i in range(len(lis)):\n",
    "    lis[i] = int(lis[i])\n",
    "lis"
   ]
  },
  {
   "cell_type": "code",
   "execution_count": 12,
   "metadata": {
    "scrolled": true
   },
   "outputs": [
    {
     "data": {
      "text/plain": [
       "[1, 2, 3, 4]"
      ]
     },
     "execution_count": 12,
     "metadata": {},
     "output_type": "execute_result"
    }
   ],
   "source": [
    "# 하지만 아래와 같이 적용 가능\n",
    "lis = list(map(int, lis))\n",
    "lis"
   ]
  },
  {
   "cell_type": "markdown",
   "metadata": {},
   "source": [
    "## open"
   ]
  },
  {
   "cell_type": "markdown",
   "metadata": {},
   "source": [
    "- 파일을 여는 함수\n",
    "- r 은 읽을때 사용\n",
    "- w 은 파일을 작성할 때 사용"
   ]
  },
  {
   "cell_type": "code",
   "execution_count": null,
   "metadata": {},
   "outputs": [],
   "source": [
    "# ex = open('example.txt','r')"
   ]
  },
  {
   "cell_type": "markdown",
   "metadata": {},
   "source": [
    "## print"
   ]
  },
  {
   "cell_type": "markdown",
   "metadata": {},
   "source": [
    "- 문자열을 출력하는 함수\n",
    "- 기본적으로 print 함수를 쓸때마다, 줄바꿈으로 문자가 바뀐다. \n",
    "    - 이를 수정하기 위해서는 end 를 바꾸어 주면 된다.\n",
    "- 변수의 '이름' 이 아니라 그 '값' 을 출력하고 싶다면 그 앞에 f 를 쓴 뒤 중괄호로 변수를 싸주면 된다."
   ]
  },
  {
   "cell_type": "code",
   "execution_count": 24,
   "metadata": {
    "scrolled": true
   },
   "outputs": [
    {
     "name": "stdout",
     "output_type": "stream",
     "text": [
      "x\n",
      "y\n",
      "x y\n",
      "10 와 20\n"
     ]
    }
   ],
   "source": [
    "a = 10 ; b = 20\n",
    "print('x') ; print('y') # x,y 가 줄바꿈으로 구분되어 출력되고있다.\n",
    "print('x',end = ' ') ; print('y') # x,y 가 띄어쓰기를 경계로 구분되고 있다.\n",
    "print(f'{a} 와 {b}') # f string 을 이용해 변수의 '값' 을 출력하고 있는 모습"
   ]
  },
  {
   "cell_type": "markdown",
   "metadata": {},
   "source": [
    "## reversed"
   ]
  },
  {
   "cell_type": "markdown",
   "metadata": {},
   "source": [
    "- mutable 한 객체를 reverse 하게 만들고 싶을때 쓴다.\n",
    "- [1,2,3].reverse() 를 해버리면 원래 list 가 없어지고 inplace 하게 reversed 가 되어서 불편할 떄가 많은데, 그럴 때에 사용하는 함수가 reversed"
   ]
  },
  {
   "cell_type": "code",
   "execution_count": 30,
   "metadata": {},
   "outputs": [],
   "source": [
    "lis = [1,4,3,2,5]"
   ]
  },
  {
   "cell_type": "code",
   "execution_count": 34,
   "metadata": {},
   "outputs": [
    {
     "name": "stdout",
     "output_type": "stream",
     "text": [
      "[5, 2, 3, 4, 1]\n",
      "[1, 4, 3, 2, 5]\n"
     ]
    }
   ],
   "source": [
    "print(list(reversed(lis)))\n",
    "print(lis)"
   ]
  },
  {
   "cell_type": "markdown",
   "metadata": {},
   "source": [
    "## range"
   ]
  },
  {
   "cell_type": "markdown",
   "metadata": {},
   "source": [
    "- range(a,b) : a,a+1.....b-1 의 range 객체를 만든다.\n",
    "- range(a,b,k) : a,a+k... 으로 간격이 k 가 됨\n",
    "    - 이때 k 는 음수도 가능합니다.\n",
    "    - 다만 음수를 넣으려고 한다면 , a>b 가 되어야 합니다.\n",
    "- range(a,a) : 이 경우 아무것도 출력하지 않습니다."
   ]
  },
  {
   "cell_type": "code",
   "execution_count": 2,
   "metadata": {},
   "outputs": [],
   "source": [
    "for i in range(0):\n",
    "    print(i)"
   ]
  },
  {
   "cell_type": "code",
   "execution_count": 1,
   "metadata": {},
   "outputs": [],
   "source": [
    "for i in range(10,10):\n",
    "    print(i)"
   ]
  },
  {
   "cell_type": "markdown",
   "metadata": {},
   "source": [
    "## sorted"
   ]
  },
  {
   "cell_type": "markdown",
   "metadata": {},
   "source": [
    "- sorted 를 통해서 iterable 객체를 정렬할 수 있다.\n",
    "- .sort() 는 list 만 가능하지만 위 sorted 는 iterable 객체에 대해서 모두 성립한다.\n",
    "\n",
    "- 내림차순 정렬 : sorted({},reverse=True))\n",
    "- 기준을 선택해 정렬 : sorted(a, key = lambda x : x[0]) # element의 의 첫번째 인자가 기준이 되어 정렬된다.\n",
    "- 기준을 여러개 선택해 정렬 sorted(a, key = lambda x : (x[0],x[1])) # element 의 첫번쨰, 두번째 인자가 차례로 기준이 되어 정렬됨 "
   ]
  },
  {
   "cell_type": "code",
   "execution_count": 33,
   "metadata": {},
   "outputs": [
    {
     "data": {
      "text/plain": [
       "[1, 2, 3, 4, 5]"
      ]
     },
     "execution_count": 33,
     "metadata": {},
     "output_type": "execute_result"
    }
   ],
   "source": [
    "sorted({3: 'D', 2: 'B', 5: 'B', 4: 'E', 1: 'A'})"
   ]
  },
  {
   "cell_type": "code",
   "execution_count": 27,
   "metadata": {},
   "outputs": [],
   "source": [
    "# a 의 element 가 list 여도 아래가 성립한다.\n",
    "a = [(1, 2), (0, 1), (5, 1), (5, 2), (3, 0)]"
   ]
  },
  {
   "cell_type": "code",
   "execution_count": 28,
   "metadata": {},
   "outputs": [],
   "source": [
    "# 인자없이 그냥 sorted()만 쓰면, 리스트 아이템의 각 요소 순서대로 정렬을 한다.\n",
    "b = sorted(a)\n",
    "# b = [(0, 1), (1, 2), (3, 0), (5, 1), (5, 2)]\n",
    "# key 인자에 함수를 넘겨주면 해당 함수의 반환값을 비교하여 순서대로 정렬한다.\n",
    "c = sorted(a, key = lambda x : x[0])\n",
    "# c = [(0, 1), (1, 2), (3, 0), (5, 1), (5, 2)]\n",
    "d = sorted(a, key = lambda x : x[1])\n",
    "# d = [(3, 0), (0, 1), (5, 1), (1, 2), (5, 2)]\n",
    "e = sorted(a, key = lambda x: (x[0],x[1]))\n",
    "# e = [(0, 1), (1, 2), (3, 0), (5, 1), (5, 2)]"
   ]
  },
  {
   "cell_type": "markdown",
   "metadata": {},
   "source": [
    "## sum"
   ]
  },
  {
   "cell_type": "markdown",
   "metadata": {},
   "source": [
    "- List 나 dict 가 자체적으로 연산은 불가능하지만 sum 의 메소드는 작동한다\n",
    "- 즉 평균이나 합은 쉽게 구할 수 있다."
   ]
  },
  {
   "cell_type": "code",
   "execution_count": 35,
   "metadata": {},
   "outputs": [
    {
     "data": {
      "text/plain": [
       "6"
      ]
     },
     "execution_count": 35,
     "metadata": {},
     "output_type": "execute_result"
    }
   ],
   "source": [
    "sum([1,2,3])\n",
    "sum({1,2,3})"
   ]
  },
  {
   "cell_type": "markdown",
   "metadata": {},
   "source": [
    "## type"
   ]
  },
  {
   "cell_type": "markdown",
   "metadata": {},
   "source": [
    "- type 은 객체에 대한 자료형이 무엇인지 알려 주는 함수이다.\n",
    "- 어떤 형태인지 알기 위해서 쓸 수 있다.\n",
    "    - pandas 에 .dtype 등의 메서드가 있지만 위 type 은 내장함수이기 때문에 범용적으로 사용된다. "
   ]
  },
  {
   "cell_type": "code",
   "execution_count": 14,
   "metadata": {
    "scrolled": true
   },
   "outputs": [
    {
     "data": {
      "text/plain": [
       "str"
      ]
     },
     "execution_count": 14,
     "metadata": {},
     "output_type": "execute_result"
    }
   ],
   "source": [
    "type(\"abc\")"
   ]
  },
  {
   "cell_type": "markdown",
   "metadata": {},
   "source": [
    "## range"
   ]
  },
  {
   "cell_type": "markdown",
   "metadata": {},
   "source": [
    "- range([start,] stop [,step] )는 for문과 함께 자주 사용하는 함수이다. 이 함수는 입력받은 숫자에 해당하는 범위 값을 반복 가능한 객체로 만들어 돌려준다."
   ]
  },
  {
   "cell_type": "code",
   "execution_count": 21,
   "metadata": {},
   "outputs": [
    {
     "data": {
      "text/plain": [
       "[1, 2, 3, 4]"
      ]
     },
     "execution_count": 21,
     "metadata": {},
     "output_type": "execute_result"
    }
   ],
   "source": [
    "lis = []\n",
    "for i in range(1,5):\n",
    "    lis.append(i)\n",
    "lis"
   ]
  },
  {
   "cell_type": "code",
   "execution_count": 22,
   "metadata": {},
   "outputs": [
    {
     "data": {
      "text/plain": [
       "[1, 2, 3, 4]"
      ]
     },
     "execution_count": 22,
     "metadata": {},
     "output_type": "execute_result"
    }
   ],
   "source": [
    "# range 와 np.arange 는 거의 똑같다. 거의 같다고 보면 된다.\n",
    "lis = []\n",
    "for i in np.arange(1,5):\n",
    "    lis.append(i)\n",
    "lis"
   ]
  },
  {
   "cell_type": "markdown",
   "metadata": {},
   "source": [
    "## zip"
   ]
  },
  {
   "cell_type": "markdown",
   "metadata": {},
   "source": [
    "- 파이썬 에서는 zip이라는 내장함수가 있다. zip() 은 동일한 개수로 이루어진 자료형을 묶어 주는 역할을 하는 함수이다.\n",
    "- dataframe 의 column 을 df.columns 로 리스트 형태로 받은 뒤, 그에 따른 weight 를 지정해 준 후 dict(zip 으로 묶어서 classification 시에 이용할 수 있다.\n",
    "    - keras/lgbm 등은 weight 를 설정할 때에, 각 분류에 따른 가중치를 dict 형식으로 받는다.\n",
    "- 또는 같은 길이의 list 를 여러개 묶은 뒤 for문을 한번에 적용할 수 있다.\n",
    "    - fot i,j in zip(lis1,lis2): 로 쓴다면 i,j 를 한번에 쓸 수 있다.\n"
   ]
  },
  {
   "cell_type": "code",
   "execution_count": 4,
   "metadata": {},
   "outputs": [],
   "source": [
    "fruits = [\"Apple\", \"Pear\", \"Peach\", \"Banana\"]\n",
    "prices = [0.35, 0.40, 0.40, 0.28]"
   ]
  },
  {
   "cell_type": "code",
   "execution_count": 12,
   "metadata": {},
   "outputs": [
    {
     "name": "stdout",
     "output_type": "stream",
     "text": [
      "{'Apple': 0.35, 'Pear': 0.4, 'Peach': 0.4, 'Banana': 0.28}\n"
     ]
    }
   ],
   "source": [
    "# 아래와같이 같은 길이의 list(혹은 numpy 도 사용할 수 있음)를 이용하면 dict로 변환가능\n",
    "dic = dict(zip(fruits, prices))\n",
    "print(dic)"
   ]
  },
  {
   "cell_type": "code",
   "execution_count": 13,
   "metadata": {},
   "outputs": [
    {
     "name": "stdout",
     "output_type": "stream",
     "text": [
      "[('Apple', 0.35), ('Pear', 0.4), ('Peach', 0.4), ('Banana', 0.28)]\n"
     ]
    }
   ],
   "source": [
    "lis = list(zip(fruits,prices))\n",
    "print(lis)"
   ]
  },
  {
   "cell_type": "markdown",
   "metadata": {},
   "source": [
    "## list , tuple , set\n",
    "- 각 패키지의 메소드마다 입력값으로 받는것이 다르다.\n",
    "    - list 만 받는다던가, dict 형태로만 받는등....\n",
    "- 그럴때에 맞는 형태로 바꾸기 위해서 쓰인다."
   ]
  },
  {
   "cell_type": "markdown",
   "metadata": {},
   "source": [
    "- **list( )**: 리스트 변환\n",
    "- **tuple( )**: tuple 변환\n",
    "- **set( )**: 집합 변환"
   ]
  },
  {
   "cell_type": "markdown",
   "metadata": {},
   "source": [
    "## input"
   ]
  },
  {
   "cell_type": "markdown",
   "metadata": {},
   "source": [
    "- input 은 어떠한 값을 입력받을때 사용된다.\n",
    "- 주로 코딩테스트시에 많이 이용됨\n",
    "- input 은 입력한 값은 string 으로 불러오기 때문에 따로 수로 지정하고 싶은 경우 int 를 사용자가 직접 지정해 주어야 한다."
   ]
  },
  {
   "cell_type": "markdown",
   "metadata": {},
   "source": [
    "**Example** \n",
    "\n",
    "- a,b = input().split()\n",
    "    - 띄어쓰기로 구분된 값을 a,b 로 각각 받는다.\n",
    "    - 2 4 -> a:2/b:4\n",
    "- lis = list(input().split()) \n",
    "    - 띄어쓰기로 구분된 값을 list 형태로 받는다.\n",
    "    - 5 6 3 2 1 -> lis:[5,6,3,2,1] \n",
    "- num=list(map(int, str(num))) \n",
    "    - num 을 각각 구분된 int 로 분해\n",
    "    - 35243 -> num = [5,6,2,4,3]\n",
    "- list(string) \n",
    "    - string 을 각각 구분된 글자로 분해\n",
    "    - 'love' -> ['l','o','v','e']"
   ]
  },
  {
   "cell_type": "markdown",
   "metadata": {},
   "source": [
    "## sys.exit"
   ]
  },
  {
   "cell_type": "markdown",
   "metadata": {},
   "source": [
    "- 아예 프로그램을 종료해버는 역할을 한다.\n",
    "- 원하는 답이 나와서 print('답') 만 하고, 나머지는 다 무시해버리고 싶을때에 사용! (재귀문에서 사용됨)"
   ]
  },
  {
   "cell_type": "markdown",
   "metadata": {},
   "source": [
    "# Flow control"
   ]
  },
  {
   "cell_type": "markdown",
   "metadata": {},
   "source": [
    "## if any(..for) / if all(..for)"
   ]
  },
  {
   "cell_type": "markdown",
   "metadata": {},
   "source": [
    "- any 와 all 은 각각 하나라도 / 모두의 의미를 가지고 있다.\n",
    "- 아래처럼 all 과 for문을 통해서 '모두 맞을때' 의 의미를 구성할 수 있다.\n",
    "- all / any 는 iterable 를 입력으로 받아, 안의 모든것들이 True 거나 또는 하나 이상이 True 일 때에 True 를 반환한다."
   ]
  },
  {
   "cell_type": "code",
   "execution_count": 23,
   "metadata": {},
   "outputs": [
    {
     "name": "stdout",
     "output_type": "stream",
     "text": [
      "3\n"
     ]
    }
   ],
   "source": [
    "lis = list(range(5))\n",
    "if all([lis[1] < 10 for x in lis]):\n",
    "    print(3)"
   ]
  },
  {
   "cell_type": "markdown",
   "metadata": {},
   "source": [
    "## continue"
   ]
  },
  {
   "cell_type": "markdown",
   "metadata": {},
   "source": [
    "- 코드를 continue 를 통해서 건너뛸 수 있다.\n",
    "- continue 아래의 코드는 실행하지 않고 건너뛴 뒤 다음 반복을 시작한다."
   ]
  },
  {
   "cell_type": "code",
   "execution_count": 19,
   "metadata": {
    "scrolled": true
   },
   "outputs": [
    {
     "name": "stdout",
     "output_type": "stream",
     "text": [
      "1\n",
      "3\n"
     ]
    }
   ],
   "source": [
    "for i in range(5):       # 0부터 5까지 증가하면서 반복\n",
    "    if i % 2 == 0:         # i를 2로 나누었을 때 나머지가 0면 짝수\n",
    "        continue           # 아래 코드를 실행하지 않고 건너뜀\n",
    "    print(i)"
   ]
  },
  {
   "cell_type": "code",
   "execution_count": 23,
   "metadata": {},
   "outputs": [
    {
     "name": "stdout",
     "output_type": "stream",
     "text": [
      "1\n",
      "3\n",
      "5\n",
      "이건무시못함\n"
     ]
    }
   ],
   "source": [
    "i = 0\n",
    "while i < 5:        \n",
    "    i += 1            \n",
    "    if i % 2 == 0: # 2의 배수이면 \n",
    "        continue   # 같은 블록안의 싸~악 건너 띄고 '다음 반복'을 시작하세요~\n",
    "    print(i)\n",
    "print('이건무시못함') # 같은 줄에 있지를 않아서 이건 무시 못한다."
   ]
  },
  {
   "cell_type": "markdown",
   "metadata": {},
   "source": [
    "## Break"
   ]
  },
  {
   "cell_type": "markdown",
   "metadata": {},
   "source": [
    "- for와 while 문법에서 제어흐름을 벗어나기 위해 사용한다. \n",
    "- break는 제어흐름을 중단하고 빠져 나오지만\n",
    "- continue는 제어흐름(반복)을 유지한 상태에서 코드의 실행만 건너뛰는 역할을 합니다\n"
   ]
  },
  {
   "cell_type": "code",
   "execution_count": 16,
   "metadata": {
    "scrolled": true
   },
   "outputs": [
    {
     "name": "stdout",
     "output_type": "stream",
     "text": [
      "0\n",
      "1\n",
      "2\n",
      "3\n",
      "4\n"
     ]
    }
   ],
   "source": [
    "i = 0\n",
    "while True:    # 무한 루프\n",
    "    print(i)\n",
    "    i += 1          # i를 1씩 증가시킴\n",
    "    if i == 5:    # 5일때\n",
    "        break       # 반복문을 끝냄. while의 제어흐름을 벗어남"
   ]
  },
  {
   "cell_type": "code",
   "execution_count": 7,
   "metadata": {
    "scrolled": true
   },
   "outputs": [
    {
     "name": "stdout",
     "output_type": "stream",
     "text": [
      "0\n",
      "1\n",
      "2\n",
      "3\n",
      "4\n",
      "5\n",
      "이건무시못하지\n"
     ]
    }
   ],
   "source": [
    "for i in range(10000):    # 0부터 9999까지 반복b\n",
    "    print(i)\n",
    "    if i == 5:    # i가 100일 때\n",
    "        break       # 반복문을 끝냄. for의 제어흐름을 벗어남\n",
    "print('이건무시못하지') # for 문 뒤의 값은 무시 못한다."
   ]
  },
  {
   "cell_type": "markdown",
   "metadata": {},
   "source": [
    "## Pass"
   ]
  },
  {
   "cell_type": "markdown",
   "metadata": {},
   "source": [
    "- 아무 일도 하지 않지만, if/while/for 등의 문장 구조 형태를 유지하고 싶다면 Pass 를 쓰자."
   ]
  },
  {
   "cell_type": "code",
   "execution_count": 18,
   "metadata": {},
   "outputs": [],
   "source": [
    "for i in range(10):    # 10번 반복\n",
    "    pass               # 아무 일도 하지 않는다"
   ]
  },
  {
   "cell_type": "code",
   "execution_count": 21,
   "metadata": {},
   "outputs": [],
   "source": [
    "if i == 0 :\n",
    "    pass # 이 역시 마찬가지"
   ]
  },
  {
   "cell_type": "code",
   "execution_count": null,
   "metadata": {},
   "outputs": [],
   "source": []
  },
  {
   "cell_type": "markdown",
   "metadata": {},
   "source": [
    "## for else"
   ]
  },
  {
   "cell_type": "markdown",
   "metadata": {},
   "source": [
    "- for문을 사용하다보면, 루프 중간에 break 문으로 빠져나오는 경우들이 있는데, 이게 break문이 걸려서 빠져나가는지 아닌지를 판단이 필요한 경우가 있습니다.\n",
    "- for문과 같은 레벨에 else를 둬서 break없이 빠져나온 경우를 처리하는 방법이 있다.\n",
    "\n"
   ]
  },
  {
   "cell_type": "code",
   "execution_count": 20,
   "metadata": {},
   "outputs": [
    {
     "name": "stdout",
     "output_type": "stream",
     "text": [
      "loop out\n"
     ]
    }
   ],
   "source": [
    "for x in range(4):\n",
    "    if x == 2:\n",
    "        print ('loop out')\n",
    "        break\n",
    "else:\n",
    "    print ('loop end')"
   ]
  },
  {
   "cell_type": "markdown",
   "metadata": {},
   "source": [
    "-  위 예제의 경우는 x =2 에서 루프를 빠져나오기때문에, else문이 실행이 되지 않고, 'loop out' 이 출력이 된다."
   ]
  },
  {
   "cell_type": "code",
   "execution_count": 23,
   "metadata": {
    "scrolled": false
   },
   "outputs": [
    {
     "name": "stdout",
     "output_type": "stream",
     "text": [
      "loop end\n"
     ]
    }
   ],
   "source": [
    "for x in range(4):\n",
    "    pass\n",
    "else:\n",
    "    print ('loop end')"
   ]
  },
  {
   "cell_type": "markdown",
   "metadata": {},
   "source": [
    "- 위와 같은 경우는 , for loop가 break없이 빠져나왔으므로 'loop end' 가 출력이 된다."
   ]
  },
  {
   "cell_type": "markdown",
   "metadata": {},
   "source": [
    "## for while"
   ]
  },
  {
   "cell_type": "markdown",
   "metadata": {},
   "source": [
    "- 각각의 작업들을 어떤 조건을 만족할때까지 수행시키고 싶다고 할 때에 사용합니다."
   ]
  },
  {
   "cell_type": "code",
   "execution_count": 56,
   "metadata": {},
   "outputs": [
    {
     "name": "stdout",
     "output_type": "stream",
     "text": [
      "[1, 4]\n"
     ]
    }
   ],
   "source": [
    "num = [1,2,3,4]\n",
    "stack = [1,4,3,2]\n",
    "for x in num: \n",
    "    while stack and stack[-1]<x: # 스택이 비거나, 제일 위의 스택이 num 의 값보다 작을때 멈춘다!\n",
    "        stack.pop() \n",
    "print(stack)"
   ]
  },
  {
   "cell_type": "markdown",
   "metadata": {},
   "source": [
    "## try exept"
   ]
  },
  {
   "cell_type": "markdown",
   "metadata": {},
   "source": [
    "- 다음에서 진행되는 flow 들은 에러발생시 어떻게 대처해야하는지의 구문들이다."
   ]
  },
  {
   "cell_type": "code",
   "execution_count": 11,
   "metadata": {
    "scrolled": false
   },
   "outputs": [
    {
     "data": {
      "image/png": "[encoded data removed]",
      "text/plain": [
       "<IPython.core.display.Image object>"
      ]
     },
     "execution_count": 11,
     "metadata": {},
     "output_type": "execute_result"
    }
   ],
   "source": [
    "Image('./image/try.png')"
   ]
  },
  {
   "cell_type": "markdown",
   "metadata": {},
   "source": [
    "- try, exept 문\n",
    "- try 안에는 기본적으로 실행하는 코드를 넣ㅎ고, exept 절에는 에러가 발생했을 경우 시행할 코드를 넣는다."
   ]
  },
  {
   "cell_type": "code",
   "execution_count": 14,
   "metadata": {
    "scrolled": true
   },
   "outputs": [
    {
     "name": "stdout",
     "output_type": "stream",
     "text": [
      "wrong division\n"
     ]
    }
   ],
   "source": [
    "try:\n",
    "    print(5/0)\n",
    "except:\n",
    "    print('wrong division')"
   ]
  },
  {
   "cell_type": "markdown",
   "metadata": {},
   "source": [
    "## try except else"
   ]
  },
  {
   "cell_type": "markdown",
   "metadata": {},
   "source": [
    "- try 절과 except 절에 else 를 추가하여 구성할 수 있다.\n",
    "- else 는 예외가 발생하지 않아 except 절을 실행하지 않았을 때에 실행되는 구문이다"
   ]
  },
  {
   "cell_type": "code",
   "execution_count": 16,
   "metadata": {
    "scrolled": true
   },
   "outputs": [
    {
     "name": "stdout",
     "output_type": "stream",
     "text": [
      "5.0\n",
      "no error\n"
     ]
    }
   ],
   "source": [
    "try:\n",
    "    print(5/1)\n",
    "except:\n",
    "    print('error')\n",
    "else:\n",
    "    print('no error')"
   ]
  },
  {
   "cell_type": "markdown",
   "metadata": {},
   "source": [
    "## try except finally"
   ]
  },
  {
   "cell_type": "markdown",
   "metadata": {},
   "source": [
    "- finally 절은 try 절에서 예외의 발생여부에 관계없이 항상 실행되는 절이다."
   ]
  },
  {
   "cell_type": "code",
   "execution_count": 18,
   "metadata": {},
   "outputs": [
    {
     "name": "stdout",
     "output_type": "stream",
     "text": [
      "error\n",
      "end\n"
     ]
    }
   ],
   "source": [
    "try:\n",
    "    print(5/0)\n",
    "except:\n",
    "    print('error')\n",
    "finally:\n",
    "    print('end')"
   ]
  },
  {
   "cell_type": "markdown",
   "metadata": {},
   "source": [
    "## 이중 for문 탈출"
   ]
  },
  {
   "cell_type": "markdown",
   "metadata": {},
   "source": [
    "- 단일 for 문이라면 Break 를 통해서 빠져나올 수 있었다. \n",
    "- 하지만 이중 for 문이라면 어떨까?"
   ]
  },
  {
   "cell_type": "code",
   "execution_count": 64,
   "metadata": {
    "scrolled": true
   },
   "outputs": [
    {
     "name": "stdout",
     "output_type": "stream",
     "text": [
      "0\n",
      "1\n",
      "0\n",
      "1\n",
      "0\n",
      "1\n",
      "0\n",
      "1\n",
      "0\n",
      "1\n",
      "1\n"
     ]
    }
   ],
   "source": [
    "a = 0 \n",
    "for x in range(5):\n",
    "    for y in range(5):\n",
    "        a = y \n",
    "        print(a)\n",
    "        if a == 1 : # a 가 1이 되면 모든 for 문을 중지시키고 싶다!\n",
    "            break\n",
    "print(a)"
   ]
  },
  {
   "cell_type": "markdown",
   "metadata": {},
   "source": [
    "- 위처럼 print 를 할 때에 제대로 수행되지 않음을 볼 수 있다.\n",
    "- 하나의 break 를 하게되면 그 바로 상단의 반복문, 즉 for y 의 부분을 중지시키기 때문이다."
   ]
  },
  {
   "cell_type": "code",
   "execution_count": 71,
   "metadata": {},
   "outputs": [
    {
     "name": "stdout",
     "output_type": "stream",
     "text": [
      "2\n"
     ]
    }
   ],
   "source": [
    "a = 0 \n",
    "for x in range(5):\n",
    "    for y in range(5):\n",
    "        a = y \n",
    "        if a == 1 : # a 가 1이 되면 모든 for 문을 중지시키고 싶다!\n",
    "            break\n",
    "    a = 2\n",
    "    break \n",
    "print(a)"
   ]
  },
  {
   "cell_type": "markdown",
   "metadata": {},
   "source": [
    "- 위와 같이 두번의 break 을 준다고 해도 결과는 같다. 둘이 '별개로' break 가 작용하기 때문에 둘의 break 는 연동되지 않는다. \n",
    "- 그 증거로 위에서 a = 2 를 시행하고 어서, 결과가 2가 나온것을 볼 수 있다.\n",
    "- break 가 연동된다면 a = 1 이여야 한다."
   ]
  },
  {
   "cell_type": "code",
   "execution_count": 67,
   "metadata": {},
   "outputs": [
    {
     "name": "stdout",
     "output_type": "stream",
     "text": [
      "0\n",
      "1\n"
     ]
    }
   ],
   "source": [
    "a = 0 \n",
    "switch = False\n",
    "for x in range(5):\n",
    "    for y in range(5):\n",
    "        a = y \n",
    "        if a == 1 : # a 가 1이 되면 모든 for 문을 중지시키고 싶다!\n",
    "            switch = True\n",
    "            break\n",
    "    if switch :\n",
    "        break"
   ]
  },
  {
   "cell_type": "markdown",
   "metadata": {},
   "source": [
    "# Method"
   ]
  },
  {
   "cell_type": "markdown",
   "metadata": {},
   "source": [
    "## Comprehension"
   ]
  },
  {
   "cell_type": "markdown",
   "metadata": {},
   "source": [
    "- Comprehension이란 iterable한 오브젝트를 생성하기 위한 방법중 하나로 파이썬에서 사용할 수 있는 유용한 기능중 하나이다.\n",
    "- set , list , dict 등등에 모두 쓰일 수 있다.\n",
    "- 맨 앞의 값은, 실제로 들어가는 값이고, 그 뒤의 for 문은 어떤값이 들어갈지의 조건이다."
   ]
  },
  {
   "cell_type": "code",
   "execution_count": 109,
   "metadata": {
    "scrolled": false
   },
   "outputs": [
    {
     "name": "stdout",
     "output_type": "stream",
     "text": [
      "[0, 2, 4, 6, 8, 10, 12, 14, 16, 18, 20]\n",
      "[0, 3, 6, 9]\n"
     ]
    }
   ],
   "source": [
    "evens = [x * 2 for x in range(11)] ; print(evens)\n",
    "ex = [x for x in range(10) if x % 3 ==0] ; print(ex) "
   ]
  },
  {
   "cell_type": "code",
   "execution_count": 110,
   "metadata": {
    "scrolled": true
   },
   "outputs": [
    {
     "name": "stdout",
     "output_type": "stream",
     "text": [
      "{0, 2, 4, 6, 8, 10, 12, 14, 16, 18, 20}\n"
     ]
    }
   ],
   "source": [
    "evens = {x * 2 for x in range(11)} ; print(evens)"
   ]
  },
  {
   "cell_type": "code",
   "execution_count": 13,
   "metadata": {
    "scrolled": true
   },
   "outputs": [
    {
     "data": {
      "text/plain": [
       "[(0, 0), (1, 1), (2, 2), (3, 3), (4, 4)]"
      ]
     },
     "execution_count": 13,
     "metadata": {},
     "output_type": "execute_result"
    }
   ],
   "source": [
    "p = [(x,y) for x,y in enumerate(range(5))] ; p"
   ]
  },
  {
   "cell_type": "markdown",
   "metadata": {},
   "source": [
    "## Packing/Unpacking"
   ]
  },
  {
   "cell_type": "markdown",
   "metadata": {},
   "source": [
    "- Unpacking : 컬렉션의 요소들을 여러개의 변수에 나누어 담는 방법\n",
    "- Packing : 여러개의 데이터를 컬렉션으로 묶어 변수에 대입하는것 "
   ]
  },
  {
   "cell_type": "code",
   "execution_count": 74,
   "metadata": {
    "scrolled": false
   },
   "outputs": [
    {
     "name": "stdout",
     "output_type": "stream",
     "text": [
      "(1, 2, 3, 4, 5)\n",
      "1\n"
     ]
    }
   ],
   "source": [
    "num = 1,2,3,4,5 ; print(num) # packing\n",
    "a,b,c,d,e = num ; print(a) # unpacking"
   ]
  },
  {
   "cell_type": "code",
   "execution_count": 76,
   "metadata": {},
   "outputs": [
    {
     "name": "stdout",
     "output_type": "stream",
     "text": [
      "1\n"
     ]
    }
   ],
   "source": [
    "num = [1,2,3,4]\n",
    "a,b,c,d = num ; print(a)"
   ]
  },
  {
   "cell_type": "markdown",
   "metadata": {},
   "source": [
    "# Module"
   ]
  },
  {
   "cell_type": "markdown",
   "metadata": {},
   "source": [
    "## deque"
   ]
  },
  {
   "cell_type": "markdown",
   "metadata": {},
   "source": [
    "- ‘deque’는 ‘double-ended queue’의 줄임말로서 스택과 큐를 합친 것과 같은, 양방향에서 데이터를 삽입 및 추출할 수 있는 자료형이다.\n",
    "- indexing 은 가능하나 slicing 은 되지 않는다."
   ]
  },
  {
   "cell_type": "markdown",
   "metadata": {},
   "source": [
    "**🔨Method**\n",
    "- **.append** : 리스트와 같이 맨 끝에 자료를 추가한다.\n",
    "- **.appendleft** : deque 의 맨 앞에 값을 추가한다.\n",
    "- **.pop()** : deque의 오른쪽에서 데이터 하나를 가져와서 반환.\n",
    "    - deque에서 그 값은 삭제되며, 가져올 요소가 없다면 IndexError를 일으킵니다.\n",
    "- **.popleft()**\n",
    "    - deque의 왼쪽에서 데이터 하나를 가져와서 반환. deque에서 그 값은 삭제되며, 가져올 요소가 없다면 IndexError를 일으킵니다.\n",
    "- **deque(maxlen=n)** : deque의 최대 길이를 n으로 제한한다. \n",
    "    - deque 객체의 길이가 제한되어서, 오른쪽으로 값이 추가되면 왼쪽에서부터 값이 삭제됩니다.\n",
    "- **.reverse()** : deque의 순서를 뒤집는다.\n",
    "- **.insert(i,x)** : x 를 i 위치에 삽입한다.\n",
    "    - 다만 길이 제한이 있는 경우 maxlen 을 초과한 삽입은 indexerror 를 내보낸다. \n",
    "- **.index(i)** : i element 중에서 가장 빠른(인덱스가 작은) 인덱스를 출력\n",
    "- **count(x)** : deque에 포함된 x의 개수를 반환한다.\n",
    "- **rotate()** : 입력한 수만큼 deque의 값들을 (오른쪽으로) 이동한다.\n",
    "    - 입력한 값이 음수라면 왼쪽으로 이동합니다.\n",
    "- 비어있는 deque([])\n",
    "\n",
    "\n"
   ]
  },
  {
   "cell_type": "markdown",
   "metadata": {},
   "source": [
    "**❗주의**"
   ]
  },
  {
   "cell_type": "markdown",
   "metadata": {},
   "source": [
    "- list 처럼 x[i:j] 의 slice 연산은 되지 않음\n",
    "- 대신 x[3] 의 연산은 가능\n",
    "- for 문과 결합 가능\n",
    "    - for val in deq : ... 를 하게되면 list 와 똑같이 작용한다."
   ]
  },
  {
   "cell_type": "code",
   "execution_count": 5,
   "metadata": {},
   "outputs": [],
   "source": [
    "from collections import deque"
   ]
  },
  {
   "cell_type": "code",
   "execution_count": 6,
   "metadata": {},
   "outputs": [
    {
     "name": "stdout",
     "output_type": "stream",
     "text": [
      "deque([1, 2, 3, 4])\n"
     ]
    }
   ],
   "source": [
    "deq1 = deque([1, 2, 3])\n",
    "deq1.append(4)\n",
    "print(deq1)"
   ]
  },
  {
   "cell_type": "code",
   "execution_count": 8,
   "metadata": {},
   "outputs": [
    {
     "name": "stdout",
     "output_type": "stream",
     "text": [
      "deque([0, 1, 2, 3])\n"
     ]
    }
   ],
   "source": [
    "deq2 = deque([1, 2, 3])\n",
    "deq2.appendleft(0)\n",
    "print(deq2)"
   ]
  },
  {
   "cell_type": "code",
   "execution_count": 9,
   "metadata": {},
   "outputs": [
    {
     "name": "stdout",
     "output_type": "stream",
     "text": [
      "3\n",
      "deque([1, 2])\n"
     ]
    }
   ],
   "source": [
    "deq3 = deque([1, 2, 3])\n",
    "deq3_last = deq3.pop()\n",
    "print(deq3_last)\n",
    "print(deq3)"
   ]
  },
  {
   "cell_type": "code",
   "execution_count": 10,
   "metadata": {},
   "outputs": [
    {
     "name": "stdout",
     "output_type": "stream",
     "text": [
      "1\n",
      "deque([2, 3])\n"
     ]
    }
   ],
   "source": [
    "deq4 = deque([1, 2, 3])\n",
    "deq4_first = deq4.popleft()\n",
    "print(deq4_first)\n",
    "print(deq4)"
   ]
  },
  {
   "cell_type": "code",
   "execution_count": 29,
   "metadata": {},
   "outputs": [
    {
     "name": "stdout",
     "output_type": "stream",
     "text": [
      "deque([0], maxlen=3)\n",
      "deque([0, 1], maxlen=3)\n",
      "deque([0, 1, 2], maxlen=3)\n",
      "deque([1, 2, 3], maxlen=3)\n",
      "deque([2, 3, 4], maxlen=3)\n"
     ]
    }
   ],
   "source": [
    "deq5 = deque(maxlen=3)\n",
    "for i in range(5):\n",
    "    deq5.append(i)\n",
    "    print(deq5)"
   ]
  },
  {
   "cell_type": "code",
   "execution_count": 30,
   "metadata": {},
   "outputs": [
    {
     "name": "stdout",
     "output_type": "stream",
     "text": [
      "deque([3, 2, 1])\n"
     ]
    }
   ],
   "source": [
    "deq6 = deque([1, 2, 3])\n",
    "deq6.reverse()\n",
    "print(deq6)"
   ]
  },
  {
   "cell_type": "code",
   "execution_count": 31,
   "metadata": {},
   "outputs": [
    {
     "name": "stdout",
     "output_type": "stream",
     "text": [
      "2\n"
     ]
    }
   ],
   "source": [
    "deq7 = deque([1, 3, 2, 4, 2, 3, 1])\n",
    "count_2 = deq7.count(2)\n",
    "print(count_2)"
   ]
  },
  {
   "cell_type": "code",
   "execution_count": 33,
   "metadata": {
    "scrolled": true
   },
   "outputs": [
    {
     "name": "stdout",
     "output_type": "stream",
     "text": [
      "deque([3, 1, 2])\n",
      "deque([2, 3, 1])\n"
     ]
    }
   ],
   "source": [
    "from collections import deque\n",
    "deq8 = deque([1, 2, 3])\n",
    "deq8.rotate(1)      # Shift to the right\n",
    "print(deq8)\n",
    "\n",
    "deq8.rotate(-2)     # Shift to the left\n",
    "print(deq8)"
   ]
  },
  {
   "cell_type": "markdown",
   "metadata": {},
   "source": [
    "## Heapq"
   ]
  },
  {
   "cell_type": "markdown",
   "metadata": {},
   "source": [
    "- 부모 노드가 자식보다 같거나 작은 값을 가지는 이진 트리\n",
    "- 이 구현에서는 모든 k에 대해 heap[k] <= heap[2k+1]과 heap[k] <= heap[2k+2]인 배열 사용\n",
    "- 가장 작은 요소가 항상 루트(heap[0]) 이 된다.\n",
    "- 리스트를 마치 최소 힙처럼 다룰 수 있도록 도와준다."
   ]
  },
  {
   "cell_type": "markdown",
   "metadata": {},
   "source": [
    "**method**\n",
    "\n",
    "- **hq.heappush(heap,x)**\n",
    "    - 힙에 원소를 추가한다. \n",
    "    - 처음 인자는 원소를 추가할 대상 리스트\n",
    "    - 두번째 인자는 추가할 원소\n",
    "    \n",
    "- **hq.heappop(heap)** \n",
    "    - heap 에서 가장 작은 원소를 빼낸다.\n",
    "    - heap 이 비어있으면 에러가 발생 "
   ]
  },
  {
   "cell_type": "code",
   "execution_count": 62,
   "metadata": {
    "scrolled": true
   },
   "outputs": [
    {
     "name": "stdout",
     "output_type": "stream",
     "text": [
      "[1, 3, 7, 4]\n"
     ]
    }
   ],
   "source": [
    "heap = []\n",
    "heapq.heappush(heap, 4)\n",
    "heapq.heappush(heap, 1)\n",
    "heapq.heappush(heap, 7)\n",
    "heapq.heappush(heap, 3)\n",
    "print(heap)"
   ]
  },
  {
   "cell_type": "markdown",
   "metadata": {},
   "source": [
    "## Itertools"
   ]
  },
  {
   "cell_type": "markdown",
   "metadata": {},
   "source": [
    "- 파이썬의 여러 유용한 함수가 모여있는 module"
   ]
  },
  {
   "cell_type": "code",
   "execution_count": 89,
   "metadata": {},
   "outputs": [],
   "source": [
    "import itertools as it"
   ]
  },
  {
   "cell_type": "code",
   "execution_count": 96,
   "metadata": {},
   "outputs": [
    {
     "data": {
      "text/plain": [
       "[('A', 'A'),\n",
       " ('A', 'B'),\n",
       " ('A', 'C'),\n",
       " ('B', 'A'),\n",
       " ('B', 'B'),\n",
       " ('B', 'C'),\n",
       " ('C', 'A'),\n",
       " ('C', 'B'),\n",
       " ('C', 'C')]"
      ]
     },
     "execution_count": 96,
     "metadata": {},
     "output_type": "execute_result"
    }
   ],
   "source": [
    "# 중복을 허용한 product \n",
    "list(it.product('ABC',repeat = 2))"
   ]
  },
  {
   "cell_type": "code",
   "execution_count": 104,
   "metadata": {},
   "outputs": [
    {
     "data": {
      "text/plain": [
       "[('A', 'B'), ('A', 'C'), ('B', 'A'), ('B', 'C'), ('C', 'A'), ('C', 'B')]"
      ]
     },
     "execution_count": 104,
     "metadata": {},
     "output_type": "execute_result"
    }
   ],
   "source": [
    "list(it.permutations('ABC', 2))"
   ]
  },
  {
   "cell_type": "code",
   "execution_count": 105,
   "metadata": {},
   "outputs": [
    {
     "data": {
      "text/plain": [
       "[('A', 'B'), ('A', 'C'), ('B', 'C')]"
      ]
     },
     "execution_count": 105,
     "metadata": {},
     "output_type": "execute_result"
    }
   ],
   "source": [
    "list(it.combinations('ABC', 2))"
   ]
  },
  {
   "cell_type": "code",
   "execution_count": 108,
   "metadata": {},
   "outputs": [
    {
     "data": {
      "text/plain": [
       "[('A', 'A', 'A'),\n",
       " ('A', 'A', 'B'),\n",
       " ('A', 'A', 'C'),\n",
       " ('A', 'A', 'D'),\n",
       " ('A', 'B', 'B'),\n",
       " ('A', 'B', 'C'),\n",
       " ('A', 'B', 'D'),\n",
       " ('A', 'C', 'C'),\n",
       " ('A', 'C', 'D'),\n",
       " ('A', 'D', 'D'),\n",
       " ('B', 'B', 'B'),\n",
       " ('B', 'B', 'C'),\n",
       " ('B', 'B', 'D'),\n",
       " ('B', 'C', 'C'),\n",
       " ('B', 'C', 'D'),\n",
       " ('B', 'D', 'D'),\n",
       " ('C', 'C', 'C'),\n",
       " ('C', 'C', 'D'),\n",
       " ('C', 'D', 'D'),\n",
       " ('D', 'D', 'D')]"
      ]
     },
     "execution_count": 108,
     "metadata": {},
     "output_type": "execute_result"
    }
   ],
   "source": [
    "list(it.combinations_with_replacement('ABCD',3))"
   ]
  },
  {
   "cell_type": "markdown",
   "metadata": {},
   "source": [
    "# 자료구조"
   ]
  },
  {
   "cell_type": "markdown",
   "metadata": {},
   "source": [
    "## Stack"
   ]
  },
  {
   "cell_type": "markdown",
   "metadata": {},
   "source": [
    "- 데이터의 삽입과 삭제가 저장소의 맨 윗부분에서만 일어나는 자료구조이다.\n",
    "- LIFO (Last in , First out) 으로서, 데이터가 순서대로 저장되고 스택의 마지막에 넣은 요소가 처음으로 꺼내진다. \n",
    "- 후입 선출로서, 너무나도 불공평한 방식이다 ㅜㅜ"
   ]
  },
  {
   "cell_type": "markdown",
   "metadata": {},
   "source": [
    "**4가지 기능**\n",
    "- **pop()** : 맨 마지막의 데이터를 가져오며 지우기\n",
    "    - .pop()\n",
    "- **push()** : 새로운 데이터를 맨 위에 하나 쌓기\n",
    "    - .append()\n",
    "- **peek()** : 맨 마지막 데이터를 보는것\n",
    "    - x[-1]\n",
    "- **isempty()** : 스텍에 데이터가 있는지 없는지 확인\n",
    "    - not [] 으로, 비어있으면 True 출력"
   ]
  },
  {
   "cell_type": "markdown",
   "metadata": {},
   "source": [
    "**기본활용**"
   ]
  },
  {
   "cell_type": "markdown",
   "metadata": {},
   "source": [
    "- list 자료형에 대해서 for 문을 활용하여 각 element를 Stack 에 쌓는지 마는지를 조건문을 통해 결정한 뒤, Stack 을 완성할 수 있다."
   ]
  },
  {
   "cell_type": "markdown",
   "metadata": {},
   "source": [
    "## Queue"
   ]
  },
  {
   "cell_type": "markdown",
   "metadata": {},
   "source": [
    "- 큐(queue)는 선입선출, FIFO(First In First Out) 의 자료구조이다.\n",
    "- 즉 먼저 들어온 데이터가 먼저 나간다. 이제야 좀 공평해진거같네!\n",
    "- 이 구현은 collections 의 deque 에서 해결할 수 있다.\n",
    "- 사실 list 에서 list.pop(0) 으롬도 선입선출을 구현할 수 있다."
   ]
  },
  {
   "cell_type": "markdown",
   "metadata": {},
   "source": [
    "## Hash"
   ]
  },
  {
   "cell_type": "markdown",
   "metadata": {},
   "source": [
    "- 키와 그에 해당하는 Value 값을 가지는 자료구조.\n",
    "- 파이썬에서는 Dictionary 를 쓰면 된다."
   ]
  },
  {
   "cell_type": "code",
   "execution_count": 86,
   "metadata": {},
   "outputs": [
    {
     "name": "stdout",
     "output_type": "stream",
     "text": [
      "[1]\n"
     ]
    }
   ],
   "source": [
    "z = []\n",
    "def add(x) :\n",
    "    z.append(1)\n",
    "    print(z)\n",
    "add(3)"
   ]
  },
  {
   "cell_type": "markdown",
   "metadata": {},
   "source": [
    "# Algorithm"
   ]
  },
  {
   "cell_type": "markdown",
   "metadata": {},
   "source": [
    "## 재귀"
   ]
  },
  {
   "cell_type": "markdown",
   "metadata": {},
   "source": [
    "- 어떤 이벤트에서 자기 자신을 포함하고, 다시 자기 자신을 사용하여 정의하는 경우를 '재귀' 라고 한다. (recursion)\n",
    "- FOR 문으로 해결이 불가능하거나, 힘든 경우에 재귀를 통해서 유연한 반복문을 사용할 수 있다.\n",
    "- DFS : Deepth First Search 로서, 깊이 우선 탐색"
   ]
  },
  {
   "cell_type": "code",
   "execution_count": 69,
   "metadata": {},
   "outputs": [
    {
     "name": "stdout",
     "output_type": "stream",
     "text": [
      "3\n",
      "2\n",
      "1\n"
     ]
    }
   ],
   "source": [
    "def DFS(x) :\n",
    "    if x > 0 :\n",
    "        print(x)\n",
    "        DFS(x-1)\n",
    "DFS(3)"
   ]
  },
  {
   "cell_type": "markdown",
   "metadata": {},
   "source": [
    "- 아래의 경우, DFS(재귀) 가 결과 출력 전에 들어가버려서, 함수의 속으로 먼저 빨려들어가버린다.\n",
    "- 그래서 제일 안으로 들어간 '후' 밖으로 빠져 나가면서 출력된다. \n",
    "- 이런 점에서 차이가 있다!"
   ]
  },
  {
   "cell_type": "code",
   "execution_count": 70,
   "metadata": {},
   "outputs": [
    {
     "name": "stdout",
     "output_type": "stream",
     "text": [
      "1\n",
      "2\n",
      "3\n"
     ]
    }
   ],
   "source": [
    "def DFS(x) :\n",
    "    if x > 0 :\n",
    "        DFS(x-1)\n",
    "        print(x)\n",
    "DFS(3)"
   ]
  },
  {
   "cell_type": "markdown",
   "metadata": {},
   "source": [
    "- 위처럼 재귀함수를 넣게 되면, Stack 에 X=3 X=2 X=1.. 이 쌓이는것이다. 그리고 반환되어지는 주소 또한 저장이 된다. \n",
    "- [ (DFS(X) : 지역변수 x=3, 복귀주소 .....) + (DFS(X) : 지역변수 X=2....... ) .... + (DFS(X) : 지역변수 X = 0 .. )] \n",
    "- 위와 같이 STACK 이 사용디어서 쌓인다. 즉 간단히 하면 [ DFS(3),DFS(2),DFS(1),DFS(0) ] 이 쌓인다.\n",
    "- DFS(0) 에서는 바로 재귀가 끝나서 쌓이지 않는다. \n",
    "- 이제는 종료되기 시작하는데, 그 순서는 후입선출로 지워지기 시작한다.\n",
    "- [DFS(3) DFS(2) DFS(1) DFS(0)] 에서 점점 DFS(0) 부터 점점 지워진다.\n",
    "- DFS(0) 작동 -> 그 이후 원래 위치로 복귀 -> PRINT .... 의 순서!\n",
    "- Stack 에서 쌓였던것이 없어지면서, 계속 복귀하면서 main 으로 복귀하는 동시에 프로그램이 끝난다! \n"
   ]
  },
  {
   "cell_type": "code",
   "execution_count": 72,
   "metadata": {},
   "outputs": [
    {
     "name": "stdout",
     "output_type": "stream",
     "text": [
      "1010"
     ]
    }
   ],
   "source": [
    "# 2진수를 출력하는 함수 DFS\n",
    "# 아래를 통해서 2진법 값을 얻어낼 수 있다.\n",
    "def DFS(x): # x 를 그냥 대입\n",
    "    if x==0:\n",
    "        return\n",
    "    else:\n",
    "        DFS(x//2) # 그 몫에 대해서 재귀가 들어간다. \n",
    "        print(x%2, end='') # print \n",
    "# DFS(10) -> DFS(5) -> DFS(2) -> DFS(1) -> DFS(0) \n",
    "#    0    ->   1    ->   0    ->   1    ->  end      \n",
    "# 즉 2진법 변환을 생각해보면 '역'\n",
    "DFS(10)"
   ]
  },
  {
   "cell_type": "markdown",
   "metadata": {},
   "source": [
    "### 깊이우선탐색"
   ]
  },
  {
   "cell_type": "markdown",
   "metadata": {},
   "source": [
    "- 먼저 '깊게' 들어가서 탐색하고 난 이후에, 나머지것들을 탐색한다."
   ]
  },
  {
   "cell_type": "markdown",
   "metadata": {},
   "source": [
    "### 전위우선탐색"
   ]
  },
  {
   "cell_type": "markdown",
   "metadata": {},
   "source": [
    "- 왼쪽 / 오른쪽으로 뻗는 호출을 빼놓고 자기 자신 본연의 일이 있을것!"
   ]
  },
  {
   "cell_type": "markdown",
   "metadata": {},
   "source": [
    "# 기타"
   ]
  },
  {
   "cell_type": "code",
   "execution_count": 78,
   "metadata": {},
   "outputs": [
    {
     "name": "stdout",
     "output_type": "stream",
     "text": [
      "1\n"
     ]
    }
   ],
   "source": [
    "if __name__ == \"__main__\" :\n",
    "    print(1)"
   ]
  },
  {
   "cell_type": "markdown",
   "metadata": {},
   "source": [
    "import 의 경우에 namespace 가 처리되는 것을 알아보았는데, import 가 아니고 파이썬 인터프리터가 최초로 파일을 읽어서 실행하는 경우를 살펴보자. 파이썬 인터프리터는 소스파일을 읽고, 그 안의 모든 코드를 실행하게 되는데, 코드를 실행하기 전에 특정한 변수값을 정의한다. 그중 하나가 namespace 를 설정하는 __name__ 이라는 변수를 __main__ 으로 세팅을 한다.\n",
    "\n",
    "즉 python script.py 와 같이 직접 쉘에서 실행하는 경우에는 파이썬 인터프리터가 해당 script.py 모듈을 script 라는 namespace 가 아닌__main__ 이라는 namespace 로 간주하여 다루게 된다.\n",
    "\n",
    "따라서 처음에 궁금했던 아래 문장은 '만일 이 파일이 인터프리터에 의해서 실행되는 경우라면' 이라는 의미를 갖는다.\n",
    "if __name__ == \"__main__\""
   ]
  },
  {
   "cell_type": "markdown",
   "metadata": {},
   "source": [
    "# Reference"
   ]
  },
  {
   "cell_type": "markdown",
   "metadata": {},
   "source": [
    "- https://www.slideshare.net/ChrisCho2/python-vs-java-pycon-korea-2017\n",
    "- https://wikidocs.net/book/1 \n",
    "- https://codetorial.net/\n",
    "- https://redmuffler.tistory.com/446\n",
    "- 자료구조와 함께하는 알고리즘 입문\n",
    "- https://pinocc.tistory.com/175\n",
    "- https://wikidocs.net/16038\n",
    "- https://wikidocs.net/book/2067\n",
    "- https://hitzi.tistory.com/31 # 왜 파이썬이 느린가?"
   ]
  },
  {
   "cell_type": "code",
   "execution_count": null,
   "metadata": {},
   "outputs": [],
   "source": []
  }
 ],
 "metadata": {
  "kernelspec": {
   "display_name": "Python 3",
   "language": "python",
   "name": "python3"
  },
  "language_info": {
   "codemirror_mode": {
    "name": "ipython",
    "version": 3
   },
   "file_extension": ".py",
   "mimetype": "text/x-python",
   "name": "python",
   "nbconvert_exporter": "python",
   "pygments_lexer": "ipython3",
   "version": "3.7.9"
  },
  "toc": {
   "base_numbering": 1,
   "nav_menu": {},
   "number_sections": true,
   "sideBar": true,
   "skip_h1_title": false,
   "title_cell": "Table of Contents",
   "title_sidebar": "Contents",
   "toc_cell": false,
   "toc_position": {
    "height": "calc(100% - 180px)",
    "left": "10px",
    "top": "150px",
    "width": "211.771px"
   },
   "toc_section_display": true,
   "toc_window_display": true
  }
 },
 "nbformat": 4,
 "nbformat_minor": 4
}

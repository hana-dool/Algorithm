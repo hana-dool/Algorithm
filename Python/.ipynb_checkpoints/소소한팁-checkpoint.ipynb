{
 "cells": [
  {
   "cell_type": "markdown",
   "id": "searching-chemistry",
   "metadata": {},
   "source": [
    "# 스와핑"
   ]
  },
  {
   "cell_type": "markdown",
   "id": "weekly-sally",
   "metadata": {},
   "source": [
    "- 아래와 같이 Swapping 을 진행할 수 있습니다."
   ]
  },
  {
   "cell_type": "code",
   "execution_count": 6,
   "id": "following-alfred",
   "metadata": {},
   "outputs": [],
   "source": [
    "lst = [1,2,4,3]\n",
    "lst[0],lst[1] = lst[1], lst[0]"
   ]
  },
  {
   "cell_type": "code",
   "execution_count": 11,
   "id": "convinced-physiology",
   "metadata": {
    "scrolled": true
   },
   "outputs": [
    {
     "name": "stdout",
     "output_type": "stream",
     "text": [
      "2 1\n"
     ]
    }
   ],
   "source": [
    "a=1 ; b=2\n",
    "a,b = b,a\n",
    "print(a,b)"
   ]
  },
  {
   "cell_type": "markdown",
   "id": "fourth-barrier",
   "metadata": {},
   "source": [
    "# 역순서"
   ]
  },
  {
   "cell_type": "code",
   "execution_count": 12,
   "id": "tender-superior",
   "metadata": {},
   "outputs": [
    {
     "name": "stdout",
     "output_type": "stream",
     "text": [
      "10\n",
      "9\n",
      "8\n",
      "7\n",
      "6\n",
      "5\n",
      "4\n",
      "3\n",
      "2\n",
      "1\n"
     ]
    }
   ],
   "source": [
    "for i in range(10,0,-1):\n",
    "    print(i)"
   ]
  },
  {
   "cell_type": "code",
   "execution_count": null,
   "id": "deluxe-springer",
   "metadata": {},
   "outputs": [],
   "source": []
  }
 ],
 "metadata": {
  "kernelspec": {
   "display_name": "Python 3",
   "language": "python",
   "name": "python3"
  },
  "language_info": {
   "codemirror_mode": {
    "name": "ipython",
    "version": 3
   },
   "file_extension": ".py",
   "mimetype": "text/x-python",
   "name": "python",
   "nbconvert_exporter": "python",
   "pygments_lexer": "ipython3",
   "version": "3.7.9"
  },
  "toc": {
   "base_numbering": 1,
   "nav_menu": {},
   "number_sections": true,
   "sideBar": true,
   "skip_h1_title": false,
   "title_cell": "Table of Contents",
   "title_sidebar": "Contents",
   "toc_cell": false,
   "toc_position": {
    "height": "calc(100% - 180px)",
    "left": "10px",
    "top": "150px",
    "width": "165px"
   },
   "toc_section_display": true,
   "toc_window_display": true
  }
 },
 "nbformat": 4,
 "nbformat_minor": 5
}

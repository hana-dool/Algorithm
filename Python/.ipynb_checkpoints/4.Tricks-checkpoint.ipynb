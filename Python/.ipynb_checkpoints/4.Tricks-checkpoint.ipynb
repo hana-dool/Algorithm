{
 "cells": [
  {
   "cell_type": "markdown",
   "id": "noted-cylinder",
   "metadata": {},
   "source": [
    "# While True"
   ]
  },
  {
   "cell_type": "markdown",
   "id": "flush-journal",
   "metadata": {},
   "source": [
    "- While True 문구와 break 를 같이 쓰게 된다면, break 를 만났을때 중지하게 됩니다. 즉 원하는 조건을 Break 문과 함께 쓰게 된다면 원하는대로 조절할 수 있습니다. "
   ]
  },
  {
   "cell_type": "code",
   "execution_count": 2,
   "id": "tutorial-asian",
   "metadata": {},
   "outputs": [
    {
     "name": "stdout",
     "output_type": "stream",
     "text": [
      "고고\n",
      "고고\n",
      "고고\n",
      "고고\n",
      "고고\n",
      "고고\n",
      "고고\n",
      "고고\n"
     ]
    }
   ],
   "source": [
    "cnt = 1\n",
    "while True : \n",
    "    cnt +=1\n",
    "    if cnt == 10 : # if 문에 정지시킬 조건을 넣습니다. \n",
    "        break\n",
    "    print('고고')"
   ]
  }
 ],
 "metadata": {
  "kernelspec": {
   "display_name": "Python 3",
   "language": "python",
   "name": "python3"
  },
  "language_info": {
   "codemirror_mode": {
    "name": "ipython",
    "version": 3
   },
   "file_extension": ".py",
   "mimetype": "text/x-python",
   "name": "python",
   "nbconvert_exporter": "python",
   "pygments_lexer": "ipython3",
   "version": "3.7.9"
  },
  "toc": {
   "base_numbering": 1,
   "nav_menu": {},
   "number_sections": true,
   "sideBar": true,
   "skip_h1_title": false,
   "title_cell": "Table of Contents",
   "title_sidebar": "Contents",
   "toc_cell": false,
   "toc_position": {},
   "toc_section_display": true,
   "toc_window_display": false
  }
 },
 "nbformat": 4,
 "nbformat_minor": 5
}

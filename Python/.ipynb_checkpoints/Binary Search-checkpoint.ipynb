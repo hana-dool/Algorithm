{
 "cells": [
  {
   "cell_type": "markdown",
   "id": "biological-values",
   "metadata": {},
   "source": [
    "# 이진탐색"
   ]
  },
  {
   "cell_type": "code",
   "execution_count": 39,
   "id": "classified-mortgage",
   "metadata": {},
   "outputs": [],
   "source": [
    "lst = list(range(0,10**7))\n",
    "xx = 3242"
   ]
  },
  {
   "cell_type": "markdown",
   "id": "conventional-maine",
   "metadata": {},
   "source": [
    "- 아래 코드는 '정답이 존재할 떄에' 무조건 찾아주는 코드이다. "
   ]
  },
  {
   "cell_type": "code",
   "execution_count": 40,
   "id": "searching-modern",
   "metadata": {
    "scrolled": true
   },
   "outputs": [
    {
     "name": "stdout",
     "output_type": "stream",
     "text": [
      "3242\n"
     ]
    }
   ],
   "source": [
    "start = 0 \n",
    "end = len(lst) - 1 \n",
    "\n",
    "while start <= end :\n",
    "    mid = (start + end)//2\n",
    "    if lst[mid] == xx : # 같은게 딱! 나오면\n",
    "        print(mid) # 출력하고\n",
    "        break # 멈추기\n",
    "    elif lst[mid] < xx :\n",
    "        start = mid + 1 # -1 +1 이런거 없으면 start = mid , mid = end 같은 경우에 참사난다. \n",
    "    elif lst[mid] > xx :\n",
    "        end = mid - 1 # +1 안넣으면 001 경우 대참사"
   ]
  },
  {
   "cell_type": "markdown",
   "id": "opposed-drill",
   "metadata": {},
   "source": [
    "# 값이 없는경우 이진탐색"
   ]
  },
  {
   "cell_type": "code",
   "execution_count": 34,
   "id": "pursuant-ordering",
   "metadata": {},
   "outputs": [],
   "source": [
    "lst = [1,3,3,3,3,3,3,3,5]\n",
    "xx = 4"
   ]
  },
  {
   "cell_type": "code",
   "execution_count": 37,
   "id": "authentic-album",
   "metadata": {},
   "outputs": [
    {
     "name": "stdout",
     "output_type": "stream",
     "text": [
      "5 4 8\n",
      "7 6 8\n",
      "8 7 8\n",
      "8 8 7\n",
      "값이없오\n"
     ]
    }
   ],
   "source": [
    "start = 0 \n",
    "end = len(lst) - 1 \n",
    "\n",
    "ch = 0\n",
    "while start <= end :\n",
    "    mid = (start + end)//2\n",
    "    if lst[mid] == xx : # 같은게 딱! 나오면\n",
    "        print(mid) \n",
    "        ch = 1\n",
    "        break # 멈추기\n",
    "    elif lst[mid] < xx :\n",
    "        start = mid +1 \n",
    "    elif lst[mid] > xx :\n",
    "        end = mid - 1 \n",
    "    print(start, mid, end)\n",
    "if ch == 0 :\n",
    "    print('값이없오')"
   ]
  },
  {
   "cell_type": "markdown",
   "id": "atmospheric-absorption",
   "metadata": {},
   "source": [
    "# 중복이 존재하는 이진탐색"
   ]
  },
  {
   "cell_type": "markdown",
   "id": "musical-compilation",
   "metadata": {},
   "source": [
    "- 값에 중복이 있는 경우에는 이진탐색이 어떤값을 출력해야할까? \n",
    "- [ 1,2,3,3,3,4,5,6 ] 에서 3의 위치를 찾아보려 한다고 하자. \n",
    "    - Lower bound binary search 의 경우 3 을 출력하고\n",
    "    - Upper bound binary Search 의 경우 5 를 출력한다."
   ]
  },
  {
   "cell_type": "markdown",
   "id": "disciplinary-civilian",
   "metadata": {},
   "source": [
    "## 처음쪽 이진탐색"
   ]
  },
  {
   "cell_type": "markdown",
   "id": "floral-morris",
   "metadata": {},
   "source": [
    "- 값이 제일 처음 나오는것을 출력"
   ]
  },
  {
   "cell_type": "code",
   "execution_count": 23,
   "id": "underlying-sucking",
   "metadata": {},
   "outputs": [],
   "source": [
    "lst = [1,3,3,3,3,3,3,3,5]\n",
    "xx = 3"
   ]
  },
  {
   "cell_type": "code",
   "execution_count": 24,
   "id": "documentary-airplane",
   "metadata": {
    "scrolled": true
   },
   "outputs": [
    {
     "name": "stdout",
     "output_type": "stream",
     "text": [
      "1\n"
     ]
    }
   ],
   "source": [
    "start = 0 \n",
    "end = len(lst) - 1\n",
    "\n",
    "while start <= end: # end 가 선 넘을떄 정지\n",
    "    mid = (start + end) // 2\n",
    "    if lst[mid] == xx:\n",
    "        end = mid - 1  # 같더라도 내려가는게 핵심\n",
    "    elif lst[mid] < xx:\n",
    "        start = mid + 1 # 같은것 찾아!\n",
    "    elif lst[mid] > xx :\n",
    "        end = mid - 1 # 같은것 찾아!\n",
    "print(start) # end 가 선 넘었다는건? start 가 맞다는거."
   ]
  },
  {
   "cell_type": "markdown",
   "id": "occupied-refund",
   "metadata": {},
   "source": [
    "## 끝쪽 이진탐색"
   ]
  },
  {
   "cell_type": "markdown",
   "id": "positive-rabbit",
   "metadata": {},
   "source": [
    "- 값이 나타나는 값 중에서 제일 처음값을 출력한다."
   ]
  },
  {
   "cell_type": "code",
   "execution_count": 25,
   "id": "responsible-outreach",
   "metadata": {},
   "outputs": [],
   "source": [
    "lst = [1,3,3,3,3,3,3,3,5]\n",
    "xx = 3"
   ]
  },
  {
   "cell_type": "code",
   "execution_count": 26,
   "id": "searching-karaoke",
   "metadata": {
    "scrolled": true
   },
   "outputs": [
    {
     "name": "stdout",
     "output_type": "stream",
     "text": [
      "7\n"
     ]
    }
   ],
   "source": [
    "start = 0 \n",
    "end = len(lst) - 1 \n",
    "\n",
    "while start <= end: # start 가 선 넘을떄 정지 \n",
    "    mid = (start + end) // 2\n",
    "    if lst[mid] == xx: # 이 경우 같다 하더라도 올라가는게 핵심\n",
    "        start = mid + 1\n",
    "    elif lst[mid] < xx: \n",
    "        start = mid + 1  # 같은것 찾아! \n",
    "    elif lst[mid] > xx:\n",
    "        end = mid - 1 # 같은것 찾아!\n",
    "# end 가 멈춰서서, start 가 맞춰주는 느낌이네요.\n",
    "print(end)"
   ]
  }
 ],
 "metadata": {
  "kernelspec": {
   "display_name": "Python 3",
   "language": "python",
   "name": "python3"
  },
  "language_info": {
   "codemirror_mode": {
    "name": "ipython",
    "version": 3
   },
   "file_extension": ".py",
   "mimetype": "text/x-python",
   "name": "python",
   "nbconvert_exporter": "python",
   "pygments_lexer": "ipython3",
   "version": "3.7.9"
  },
  "toc": {
   "base_numbering": 1,
   "nav_menu": {},
   "number_sections": true,
   "sideBar": true,
   "skip_h1_title": false,
   "title_cell": "Table of Contents",
   "title_sidebar": "Contents",
   "toc_cell": false,
   "toc_position": {
    "height": "calc(100% - 180px)",
    "left": "10px",
    "top": "150px",
    "width": "219.566px"
   },
   "toc_section_display": true,
   "toc_window_display": true
  }
 },
 "nbformat": 4,
 "nbformat_minor": 5
}

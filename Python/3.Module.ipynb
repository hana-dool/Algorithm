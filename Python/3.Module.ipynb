{
 "cells": [
  {
   "cell_type": "markdown",
   "id": "vanilla-faculty",
   "metadata": {},
   "source": [
    "# sys"
   ]
  },
  {
   "cell_type": "markdown",
   "id": "three-shannon",
   "metadata": {},
   "source": [
    "- sys 모듈은 파이썬 인터프리터가 제공하는 변수와 함수를 직접 제어할 수 있게 해주는 모듈이다.\n"
   ]
  },
  {
   "cell_type": "code",
   "execution_count": null,
   "id": "driven-remains",
   "metadata": {},
   "outputs": [],
   "source": [
    "sys.stdin is just another file object, which happens to be opened by Python before your program starts."
   ]
  },
  {
   "cell_type": "markdown",
   "id": "industrial-relative",
   "metadata": {},
   "source": [
    "**🔨Method**\n",
    "- **sys.exit()** : 실행을 종료시킨다. \n",
    "- **sys.stdin** : 파일 오브젝트로서, 우리 코드가 시작되기 전에 읽어들인다. \n",
    "- **sys.stdin.readlne()** : 읽어온 파일 오브젝트의 입력값을 \\n 전까지 읽어들인다."
   ]
  },
  {
   "cell_type": "code",
   "execution_count": 7,
   "id": "unauthorized-stuff",
   "metadata": {},
   "outputs": [
    {
     "name": "stdout",
     "output_type": "stream",
     "text": [
      "첫번쨰줄\n",
      "\n",
      "두번쨰줄\n",
      "\n",
      "세번째줄\n"
     ]
    }
   ],
   "source": [
    "# 다음과 같이 open 과 함께 사용할 수 있다.\n",
    "import sys\n",
    "sys.stdin = open(\"C:/Users/goran/Desktop/Git_Hub/Algorithm/Python/data/file.txt\", \"r\", encoding = 'utf-8')\n",
    "read = sys.stdin.readline\n",
    "for _ in range(3):\n",
    "    k = read()\n",
    "    print(k)"
   ]
  },
  {
   "cell_type": "markdown",
   "id": "cleared-coffee",
   "metadata": {},
   "source": [
    "# os"
   ]
  },
  {
   "cell_type": "markdown",
   "id": "happy-shooting",
   "metadata": {},
   "source": [
    "- OS 모듈은 환경 변수나 디렉터리, 파일 등의 OS 자원을 제어할 수 있게 해주는 모듈이다."
   ]
  },
  {
   "cell_type": "markdown",
   "id": "scheduled-hardwood",
   "metadata": {},
   "source": [
    "**🔨Method**\n",
    "- **os.chdir(\"C:\\WINDOWS\")** :  다음과 같이 현재 디렉터리 위치를 변경할 수 있다.\n",
    "- **os.getcwd()** : 현재 자신의 디렉터리 위치를 돌려준다.\n"
   ]
  },
  {
   "cell_type": "code",
   "execution_count": 8,
   "id": "wrong-pantyhose",
   "metadata": {},
   "outputs": [],
   "source": [
    "import os"
   ]
  },
  {
   "cell_type": "code",
   "execution_count": 9,
   "id": "cultural-exhaust",
   "metadata": {},
   "outputs": [
    {
     "data": {
      "text/plain": [
       "'C:\\\\Users\\\\goran\\\\Desktop\\\\Git_Hub\\\\Algorithm\\\\Python'"
      ]
     },
     "execution_count": 9,
     "metadata": {},
     "output_type": "execute_result"
    }
   ],
   "source": [
    "os.getcwd()"
   ]
  },
  {
   "cell_type": "markdown",
   "id": "continued-cornwall",
   "metadata": {},
   "source": [
    "# deque"
   ]
  },
  {
   "cell_type": "markdown",
   "id": "younger-motel",
   "metadata": {},
   "source": [
    "🧾 **Deque란**\n",
    "- ‘deque’는 ‘double-ended queue’의 줄임말로서 스 택과 큐를 합친 것과 같은, 양방향에서 데이터를 삽입 및 추출할 수 있는 자료형이다.\n",
    "- indexing 은 가능하나 slicing 은 되지 않는다.\n",
    "\n"
   ]
  },
  {
   "cell_type": "markdown",
   "id": "adult-lighter",
   "metadata": {},
   "source": [
    "❓**왜 사용?**\n",
    "- 큐(queue)는 선입선출(FIFO) 방식으로 작동한다. 반면, 양방향 큐가 있는데 그것이 바로 데크(deque)다.\n",
    "- 즉, 앞, 뒤 양쪽 방향에서 엘리먼트(element)를 추가하거나 제거할 수 있다.\n",
    "- 데크는 양 끝 엘리먼트의 append와 pop이 압도적으로 빠르다.\n",
    "- 컨테이너(container)의 양끝 엘리먼트(element)에 접근하여 삽입 또는 제거를 할 경우, 일반적인 리스트(list)가 이러한 연산에 O(n)이 소요되는 데 반해, 데크(deque)는 O(1)로 접근 가능하다."
   ]
  },
  {
   "cell_type": "markdown",
   "id": "neural-furniture",
   "metadata": {},
   "source": [
    "**🔨Method**\n",
    "- **.append** : 리스트와 같이 맨 끝에 자료를 추가한다.\n",
    "- **.appendleft** : deque 의 맨 앞에 값을 추가한다.\n",
    "- **.pop()** : deque의 오른쪽에서 데이터 하나를 가져와서 반환.\n",
    "    - deque에서 그 값은 삭제되며, 가져올 요소가 없다면 IndexError를 일으킵니다.\n",
    "- **.popleft()**\n",
    "    - deque의 왼쪽에서 데이터 하나를 가져와서 반환. deque에서 그 값은 삭제되며, 가져올 요소가 없다면 IndexError를 일으킵니다.\n",
    "- **deque(maxlen=n)** : deque의 최대 길이를 n으로 제한한다. \n",
    "    - deque 객체의 길이가 제한되어서, 오른쪽으로 값이 추가되면 왼쪽에서부터 값이 삭제됩니다.\n",
    "- **.reverse()** : deque의 순서를 뒤집는다.\n",
    "- **.insert(i,x)** : x 를 i 위치에 삽입한다.\n",
    "    - 다만 길이 제한이 있는 경우 maxlen 을 초과한 삽입은 indexerror 를 내보낸다. \n",
    "- **.index(i)** : i element 중에서 가장 빠른(인덱스가 작은) 인덱스를 출력\n",
    "- **count(x)** : deque에 포함된 x의 개수를 반환한다.\n",
    "- **rotate()** : 입력한 수만큼 deque의 값들을 (오른쪽으로) 이동한다.\n",
    "    - 입력한 값이 음수라면 왼쪽으로 이동합니다.\n",
    "- 비어있는 deque([])\n",
    "\n",
    "\n"
   ]
  },
  {
   "cell_type": "markdown",
   "id": "funded-virgin",
   "metadata": {},
   "source": [
    "**❗주의**"
   ]
  },
  {
   "cell_type": "markdown",
   "id": "vanilla-tackle",
   "metadata": {},
   "source": [
    "- list 처럼 x[i:j] 의 slice 연산은 되지 않음\n",
    "- 대신 x[3] 의 연산은 가능\n",
    "- for 문과 결합 가능\n",
    "    - for val in deq : ... 를 하게되면 list 와 똑같이 작용한다."
   ]
  },
  {
   "cell_type": "code",
   "execution_count": 1,
   "id": "hungry-material",
   "metadata": {},
   "outputs": [],
   "source": [
    "from collections import deque"
   ]
  },
  {
   "cell_type": "code",
   "execution_count": 2,
   "id": "dried-saturday",
   "metadata": {},
   "outputs": [
    {
     "name": "stdout",
     "output_type": "stream",
     "text": [
      "deque([1, 2, 3, 4])\n"
     ]
    }
   ],
   "source": [
    "deq1 = deque([1, 2, 3])\n",
    "deq1.append(4)\n",
    "print(deq1)"
   ]
  },
  {
   "cell_type": "code",
   "execution_count": 3,
   "id": "atomic-withdrawal",
   "metadata": {},
   "outputs": [
    {
     "name": "stdout",
     "output_type": "stream",
     "text": [
      "deque([0, 1, 2, 3])\n"
     ]
    }
   ],
   "source": [
    "deq2 = deque([1, 2, 3])\n",
    "deq2.appendleft(0)\n",
    "print(deq2)"
   ]
  },
  {
   "cell_type": "code",
   "execution_count": 4,
   "id": "cloudy-surname",
   "metadata": {},
   "outputs": [
    {
     "name": "stdout",
     "output_type": "stream",
     "text": [
      "3\n",
      "deque([1, 2])\n"
     ]
    }
   ],
   "source": [
    "deq3 = deque([1, 2, 3])\n",
    "deq3_last = deq3.pop()\n",
    "print(deq3_last)\n",
    "print(deq3)"
   ]
  },
  {
   "cell_type": "code",
   "execution_count": 10,
   "id": "compliant-disaster",
   "metadata": {},
   "outputs": [
    {
     "name": "stdout",
     "output_type": "stream",
     "text": [
      "1\n",
      "deque([2, 3])\n"
     ]
    }
   ],
   "source": [
    "deq4 = deque([1, 2, 3])\n",
    "deq4_first = deq4.popleft()\n",
    "print(deq4_first)\n",
    "print(deq4)"
   ]
  },
  {
   "cell_type": "code",
   "execution_count": 29,
   "id": "compound-metabolism",
   "metadata": {},
   "outputs": [
    {
     "name": "stdout",
     "output_type": "stream",
     "text": [
      "deque([0], maxlen=3)\n",
      "deque([0, 1], maxlen=3)\n",
      "deque([0, 1, 2], maxlen=3)\n",
      "deque([1, 2, 3], maxlen=3)\n",
      "deque([2, 3, 4], maxlen=3)\n"
     ]
    }
   ],
   "source": [
    "deq5 = deque(maxlen=3)\n",
    "for i in range(5):\n",
    "    deq5.append(i)\n",
    "    print(deq5)"
   ]
  },
  {
   "cell_type": "code",
   "execution_count": 30,
   "id": "distinguished-banks",
   "metadata": {},
   "outputs": [
    {
     "name": "stdout",
     "output_type": "stream",
     "text": [
      "deque([3, 2, 1])\n"
     ]
    }
   ],
   "source": [
    "deq6 = deque([1, 2, 3])\n",
    "deq6.reverse()\n",
    "print(deq6)"
   ]
  },
  {
   "cell_type": "code",
   "execution_count": 31,
   "id": "synthetic-instrument",
   "metadata": {},
   "outputs": [
    {
     "name": "stdout",
     "output_type": "stream",
     "text": [
      "2\n"
     ]
    }
   ],
   "source": [
    "deq7 = deque([1, 3, 2, 4, 2, 3, 1])\n",
    "count_2 = deq7.count(2)\n",
    "print(count_2)"
   ]
  },
  {
   "cell_type": "code",
   "execution_count": 33,
   "id": "existing-group",
   "metadata": {
    "scrolled": true
   },
   "outputs": [
    {
     "name": "stdout",
     "output_type": "stream",
     "text": [
      "deque([3, 1, 2])\n",
      "deque([2, 3, 1])\n"
     ]
    }
   ],
   "source": [
    "from collections import deque\n",
    "deq8 = deque([1, 2, 3])\n",
    "deq8.rotate(1)      # Shift to the right\n",
    "print(deq8)\n",
    "\n",
    "deq8.rotate(-2)     # Shift to the left\n",
    "print(deq8)"
   ]
  },
  {
   "cell_type": "markdown",
   "id": "discrete-mainstream",
   "metadata": {},
   "source": [
    "# Heapq"
   ]
  },
  {
   "cell_type": "markdown",
   "id": "working-session",
   "metadata": {},
   "source": [
    "- 부모 노드가 자식보다 같거나 작은 값을 가지는 이진 트리\n",
    "- 이 구현에서는 모든 k에 대해 heap[k] <= heap[2k+1]과 heap[k] <= heap[2k+2]인 배열 사용\n",
    "- 가장 작은 요소가 항상 루트(heap[0]) 이 된다.\n",
    "- 리스트를 마치 최소 힙처럼 다룰 수 있도록 도와준다."
   ]
  },
  {
   "cell_type": "markdown",
   "id": "requested-lawsuit",
   "metadata": {},
   "source": [
    "**method**\n",
    "\n",
    "- **hq.heappush(heap,x)**\n",
    "    - 힙에 원소를 추가한다. \n",
    "    - 처음 인자는 원소를 추가할 대상 리스트\n",
    "    - 두번째 인자는 추가할 원소\n",
    "    \n",
    "- **hq.heappop(heap)** \n",
    "    - heap 에서 가장 작은 원소를 빼낸다.\n",
    "    - heap 이 비어있으면 에러가 발생 "
   ]
  },
  {
   "cell_type": "code",
   "execution_count": 2,
   "id": "civilian-garlic",
   "metadata": {},
   "outputs": [],
   "source": [
    "import heapq"
   ]
  },
  {
   "cell_type": "code",
   "execution_count": 3,
   "id": "intended-discrimination",
   "metadata": {
    "scrolled": false
   },
   "outputs": [
    {
     "name": "stdout",
     "output_type": "stream",
     "text": [
      "[1, 3, 7, 4]\n"
     ]
    }
   ],
   "source": [
    "heap = []\n",
    "heapq.heappush(heap, 4)\n",
    "heapq.heappush(heap, 1)\n",
    "heapq.heappush(heap, 7)\n",
    "heapq.heappush(heap, 3)\n",
    "print(heap)"
   ]
  },
  {
   "cell_type": "markdown",
   "id": "formed-leave",
   "metadata": {},
   "source": [
    "# Itertools"
   ]
  },
  {
   "cell_type": "markdown",
   "id": "reverse-provider",
   "metadata": {},
   "source": [
    "- 파이썬의 여러 유용한 함수가 모여있는 module"
   ]
  },
  {
   "cell_type": "code",
   "execution_count": 89,
   "id": "stuffed-berlin",
   "metadata": {},
   "outputs": [],
   "source": [
    "import itertools as it"
   ]
  },
  {
   "cell_type": "code",
   "execution_count": 96,
   "id": "married-acrylic",
   "metadata": {},
   "outputs": [
    {
     "data": {
      "text/plain": [
       "[('A', 'A'),\n",
       " ('A', 'B'),\n",
       " ('A', 'C'),\n",
       " ('B', 'A'),\n",
       " ('B', 'B'),\n",
       " ('B', 'C'),\n",
       " ('C', 'A'),\n",
       " ('C', 'B'),\n",
       " ('C', 'C')]"
      ]
     },
     "execution_count": 96,
     "metadata": {},
     "output_type": "execute_result"
    }
   ],
   "source": [
    "# 중복을 허용한 product \n",
    "list(it.product('ABC',repeat = 2))"
   ]
  },
  {
   "cell_type": "code",
   "execution_count": 104,
   "id": "entitled-board",
   "metadata": {},
   "outputs": [
    {
     "data": {
      "text/plain": [
       "[('A', 'B'), ('A', 'C'), ('B', 'A'), ('B', 'C'), ('C', 'A'), ('C', 'B')]"
      ]
     },
     "execution_count": 104,
     "metadata": {},
     "output_type": "execute_result"
    }
   ],
   "source": [
    "list(it.permutations('ABC', 2))"
   ]
  },
  {
   "cell_type": "code",
   "execution_count": 105,
   "id": "geographic-relaxation",
   "metadata": {},
   "outputs": [
    {
     "data": {
      "text/plain": [
       "[('A', 'B'), ('A', 'C'), ('B', 'C')]"
      ]
     },
     "execution_count": 105,
     "metadata": {},
     "output_type": "execute_result"
    }
   ],
   "source": [
    "list(it.combinations('ABC', 2))"
   ]
  },
  {
   "cell_type": "code",
   "execution_count": 108,
   "id": "about-forge",
   "metadata": {},
   "outputs": [
    {
     "data": {
      "text/plain": [
       "[('A', 'A', 'A'),\n",
       " ('A', 'A', 'B'),\n",
       " ('A', 'A', 'C'),\n",
       " ('A', 'A', 'D'),\n",
       " ('A', 'B', 'B'),\n",
       " ('A', 'B', 'C'),\n",
       " ('A', 'B', 'D'),\n",
       " ('A', 'C', 'C'),\n",
       " ('A', 'C', 'D'),\n",
       " ('A', 'D', 'D'),\n",
       " ('B', 'B', 'B'),\n",
       " ('B', 'B', 'C'),\n",
       " ('B', 'B', 'D'),\n",
       " ('B', 'C', 'C'),\n",
       " ('B', 'C', 'D'),\n",
       " ('B', 'D', 'D'),\n",
       " ('C', 'C', 'C'),\n",
       " ('C', 'C', 'D'),\n",
       " ('C', 'D', 'D'),\n",
       " ('D', 'D', 'D')]"
      ]
     },
     "execution_count": 108,
     "metadata": {},
     "output_type": "execute_result"
    }
   ],
   "source": [
    "list(it.combinations_with_replacement('ABCD',3))"
   ]
  },
  {
   "cell_type": "markdown",
   "id": "global-monaco",
   "metadata": {},
   "source": [
    "# Stack (List)"
   ]
  },
  {
   "cell_type": "markdown",
   "id": "middle-chick",
   "metadata": {},
   "source": [
    "- 데이터의 삽입과 삭제가 저장소의 맨 윗부분에서만 일어나는 자료구조이다.\n",
    "- LIFO (Last in , First out) 으로서, 데이터가 순서대로 저장되고 스택의 마지막에 넣은 요소가 처음으로 꺼내진다. \n",
    "- 후입 선출로서, 너무나도 불공평한 방식이다 ㅜㅜ"
   ]
  },
  {
   "cell_type": "markdown",
   "id": "funded-graphics",
   "metadata": {},
   "source": [
    "**4가지 기능**\n",
    "- **pop()** : 맨 마지막의 데이터를 가져오며 지우기\n",
    "    - .pop()\n",
    "- **push()** : 새로운 데이터를 맨 위에 하나 쌓기\n",
    "    - .append()\n",
    "- **peek()** : 맨 마지막 데이터를 보는것\n",
    "    - x[-1]\n",
    "- **isempty()** : 스텍에 데이터가 있는지 없는지 확인\n",
    "    - not [] 으로, 비어있으면 True 출력"
   ]
  },
  {
   "cell_type": "markdown",
   "id": "pleased-acrylic",
   "metadata": {},
   "source": [
    "**기본활용**"
   ]
  },
  {
   "cell_type": "markdown",
   "id": "blond-briefs",
   "metadata": {},
   "source": [
    "- list 자료형에 대해서 for 문을 활용하여 각 element를 Stack 에 쌓는지 마는지를 조건문을 통해 결정한 뒤, Stack 을 완성할 수 있다."
   ]
  },
  {
   "cell_type": "markdown",
   "id": "resistant-butler",
   "metadata": {},
   "source": [
    "# Queue"
   ]
  },
  {
   "cell_type": "markdown",
   "id": "constitutional-apparatus",
   "metadata": {},
   "source": [
    "- 큐(queue)는 선입선출, FIFO(First In First Out) 의 자료구조이다.\n",
    "- 즉 먼저 들어온 데이터가 먼저 나간다. 이제야 좀 공평해진거같네!\n",
    "- 이 구현은 collections 의 deque 에서 해결할 수 있다.\n",
    "- 사실 list 에서 list.pop(0) 으롬도 선입선출을 구현할 수 있다."
   ]
  },
  {
   "cell_type": "markdown",
   "id": "geological-gregory",
   "metadata": {},
   "source": [
    "# Hash (Dictionary)"
   ]
  },
  {
   "cell_type": "markdown",
   "id": "academic-background",
   "metadata": {},
   "source": [
    "- 키와 그에 해당하는 Value 값을 가지는 자료구조.\n",
    "- 파이썬에서는 Dictionary 를 쓰면 된다."
   ]
  },
  {
   "cell_type": "code",
   "execution_count": 86,
   "id": "insured-submission",
   "metadata": {},
   "outputs": [
    {
     "name": "stdout",
     "output_type": "stream",
     "text": [
      "[1]\n"
     ]
    }
   ],
   "source": [
    "z = []\n",
    "def add(x) :\n",
    "    z.append(1)\n",
    "    print(z)\n",
    "add(3)"
   ]
  },
  {
   "cell_type": "markdown",
   "id": "sixth-laptop",
   "metadata": {},
   "source": [
    "# 기타"
   ]
  },
  {
   "cell_type": "code",
   "execution_count": 78,
   "id": "frozen-plain",
   "metadata": {},
   "outputs": [
    {
     "name": "stdout",
     "output_type": "stream",
     "text": [
      "1\n"
     ]
    }
   ],
   "source": [
    "if __name__ == \"__main__\" :\n",
    "    print(1)"
   ]
  },
  {
   "cell_type": "markdown",
   "id": "further-maldives",
   "metadata": {},
   "source": [
    "import 의 경우에 namespace 가 처리되는 것을 알아보았는데, import 가 아니고 파이썬 인터프리터가 최초로 파일을 읽어서 실행하는 경우를 살펴보자. 파이썬 인터프리터는 소스파일을 읽고, 그 안의 모든 코드를 실행하게 되는데, 코드를 실행하기 전에 특정한 변수값을 정의한다. 그중 하나가 namespace 를 설정하는 __name__ 이라는 변수를 __main__ 으로 세팅을 한다.\n",
    "\n",
    "즉 python script.py 와 같이 직접 쉘에서 실행하는 경우에는 파이썬 인터프리터가 해당 script.py 모듈을 script 라는 namespace 가 아닌__main__ 이라는 namespace 로 간주하여 다루게 된다.\n",
    "\n",
    "따라서 처음에 궁금했던 아래 문장은 '만일 이 파일이 인터프리터에 의해서 실행되는 경우라면' 이라는 의미를 갖는다.\n",
    "if __name__ == \"__main__\""
   ]
  },
  {
   "cell_type": "markdown",
   "id": "perfect-canyon",
   "metadata": {},
   "source": [
    "# Reference"
   ]
  },
  {
   "cell_type": "markdown",
   "id": "level-heater",
   "metadata": {},
   "source": [
    "- https://www.slideshare.net/ChrisCho2/python-vs-java-pycon-korea-2017\n",
    "- https://wikidocs.net/book/1 \n",
    "- https://codetorial.net/\n",
    "- https://redmuffler.tistory.com/446\n",
    "- 자료구조와 함께하는 알고리즘 입문\n",
    "- https://pinocc.tistory.com/175\n",
    "- https://wikidocs.net/16038\n",
    "- https://wikidocs.net/book/2067\n",
    "- https://hitzi.tistory.com/31 # 왜 파이썬이 느린가?"
   ]
  }
 ],
 "metadata": {
  "kernelspec": {
   "display_name": "Python 3",
   "language": "python",
   "name": "python3"
  },
  "language_info": {
   "codemirror_mode": {
    "name": "ipython",
    "version": 3
   },
   "file_extension": ".py",
   "mimetype": "text/x-python",
   "name": "python",
   "nbconvert_exporter": "python",
   "pygments_lexer": "ipython3",
   "version": "3.7.9"
  },
  "toc": {
   "base_numbering": 1,
   "nav_menu": {},
   "number_sections": true,
   "sideBar": true,
   "skip_h1_title": false,
   "title_cell": "Table of Contents",
   "title_sidebar": "Contents",
   "toc_cell": false,
   "toc_position": {
    "height": "calc(100% - 180px)",
    "left": "10px",
    "top": "150px",
    "width": "244.566px"
   },
   "toc_section_display": true,
   "toc_window_display": true
  }
 },
 "nbformat": 4,
 "nbformat_minor": 5
}
